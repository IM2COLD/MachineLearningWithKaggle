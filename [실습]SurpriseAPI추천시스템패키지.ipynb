{
  "nbformat": 4,
  "nbformat_minor": 0,
  "metadata": {
    "colab": {
      "provenance": []
    },
    "kernelspec": {
      "name": "python3",
      "display_name": "Python 3"
    },
    "language_info": {
      "name": "python"
    }
  },
  "cells": [
    {
      "cell_type": "code",
      "execution_count": 1,
      "metadata": {
        "id": "Ot3YIjHRh341",
        "colab": {
          "base_uri": "https://localhost:8080/"
        },
        "outputId": "e34ed1d7-507d-4451-d28f-c67d95f26b36"
      },
      "outputs": [
        {
          "output_type": "stream",
          "name": "stdout",
          "text": [
            "Collecting scikit-surprise\n",
            "  Downloading scikit-surprise-1.1.3.tar.gz (771 kB)\n",
            "\u001b[2K     \u001b[90m━━━━━━━━━━━━━━━━━━━━━━━━━━━━━━━━━━━━━━━━\u001b[0m \u001b[32m772.0/772.0 kB\u001b[0m \u001b[31m6.5 MB/s\u001b[0m eta \u001b[36m0:00:00\u001b[0m\n",
            "\u001b[?25h  Preparing metadata (setup.py) ... \u001b[?25l\u001b[?25hdone\n",
            "Requirement already satisfied: joblib>=1.0.0 in /usr/local/lib/python3.10/dist-packages (from scikit-surprise) (1.3.2)\n",
            "Requirement already satisfied: numpy>=1.17.3 in /usr/local/lib/python3.10/dist-packages (from scikit-surprise) (1.25.2)\n",
            "Requirement already satisfied: scipy>=1.3.2 in /usr/local/lib/python3.10/dist-packages (from scikit-surprise) (1.11.4)\n",
            "Building wheels for collected packages: scikit-surprise\n",
            "  Building wheel for scikit-surprise (setup.py) ... \u001b[?25l\u001b[?25hdone\n",
            "  Created wheel for scikit-surprise: filename=scikit_surprise-1.1.3-cp310-cp310-linux_x86_64.whl size=3162724 sha256=4d08e99c473b59ab22ba435dc9e5f0ef7c6f65c5275c8f0593377e4e483ba6f6\n",
            "  Stored in directory: /root/.cache/pip/wheels/a5/ca/a8/4e28def53797fdc4363ca4af740db15a9c2f1595ebc51fb445\n",
            "Successfully built scikit-surprise\n",
            "Installing collected packages: scikit-surprise\n",
            "Successfully installed scikit-surprise-1.1.3\n"
          ]
        }
      ],
      "source": [
        "!pip install scikit-surprise"
      ]
    },
    {
      "cell_type": "markdown",
      "source": [
        "**Surprise 를 이용한 추천 시스템 구축**\n",
        "\n",
        "- Surprise는 주로 협업 필터링(collaborative filtering)을 기반으로 한 추천 시스템을 구현하는 데 사용됨\n"
      ],
      "metadata": {
        "id": "oUM3fm6-Gyii"
      }
    },
    {
      "cell_type": "code",
      "source": [
        "# Surprise 패키지 사용법\n",
        "from surprise import SVD\n",
        "from surprise import Dataset\n",
        "from surprise import accuracy\n",
        "from surprise.model_selection import train_test_split"
      ],
      "metadata": {
        "id": "EPfDquck4fbs"
      },
      "execution_count": 2,
      "outputs": []
    },
    {
      "cell_type": "code",
      "source": [
        "data = Dataset.load_builtin('ml-100k')\n",
        "# 수행 시마다 동일하게 데이터를 분할하기 위해 random_state 값 부여\n",
        "trainset, testset = train_test_split(data, test_size = 0.25, random_state = 0)"
      ],
      "metadata": {
        "colab": {
          "base_uri": "https://localhost:8080/"
        },
        "id": "WV0M7wTrLeyy",
        "outputId": "b7b802f0-3775-44d2-92d9-d099807d2f72"
      },
      "execution_count": 3,
      "outputs": [
        {
          "output_type": "stream",
          "name": "stdout",
          "text": [
            "Dataset ml-100k could not be found. Do you want to download it? [Y/n] Y\n",
            "Trying to download dataset from https://files.grouplens.org/datasets/movielens/ml-100k.zip...\n",
            "Done! Dataset ml-100k has been saved to /root/.surprise_data/ml-100k\n"
          ]
        }
      ]
    },
    {
      "cell_type": "markdown",
      "source": [
        "> surprise는 자체적으로 로우 레벨의 데이터를 칼럼 레벨의 데이터로 변경하기에, 원본인 로우 레벨의 사용자 - 아이템 평점 데이터를 데이터 세트로 적용해야함"
      ],
      "metadata": {
        "id": "Jy1IggSlMvrq"
      }
    },
    {
      "cell_type": "markdown",
      "source": [
        "> test() vs predict\n",
        "\n",
        "- test() : 사용자 아이템 평점 데이터 세트 전체에 대해서 추천을 예측하는 메서드 => 입력된 데이터 set에 대해 추천 data set을 만들어줌\n",
        "- predict() : 개별 사용자와 영화에 대한 추천 평점을 반환해줌"
      ],
      "metadata": {
        "id": "6R3SILZ7fZZK"
      }
    },
    {
      "cell_type": "code",
      "source": [
        "# test()\n",
        "algo = SVD(random_state = 0)\n",
        "algo.fit(trainset)"
      ],
      "metadata": {
        "colab": {
          "base_uri": "https://localhost:8080/"
        },
        "id": "WQSmF03wMFlz",
        "outputId": "a170a62a-28ae-464a-8c3c-752f93dd1174"
      },
      "execution_count": 4,
      "outputs": [
        {
          "output_type": "execute_result",
          "data": {
            "text/plain": [
              "<surprise.prediction_algorithms.matrix_factorization.SVD at 0x7edb72f29780>"
            ]
          },
          "metadata": {},
          "execution_count": 4
        }
      ]
    },
    {
      "cell_type": "code",
      "source": [
        "predictions = algo.test(testset)\n",
        "print('prediction type : ', type(predictions), 'size : ', len(predictions))\n",
        "print('prediction 결과의 최초 5개 추출')\n",
        "predictions[:5]\n",
        "\n",
        "# 호출 결과 : prediction 객체 -> est : surprise의 추천 예측 평점 data를 tuple 형태로 가지고 있음\n",
        "# 'was_impossible': True => 내부 처리 시 추천 에측을 할 수 없는 경우에 로그용으로 data를 남기는 데 사용됨"
      ],
      "metadata": {
        "colab": {
          "base_uri": "https://localhost:8080/"
        },
        "id": "vxI7dzuIL6JL",
        "outputId": "83b7085b-74b1-4c67-82fc-21c9edc4d4c5"
      },
      "execution_count": 5,
      "outputs": [
        {
          "output_type": "stream",
          "name": "stdout",
          "text": [
            "prediction type :  <class 'list'> size :  25000\n",
            "prediction 결과의 최초 5개 추출\n"
          ]
        },
        {
          "output_type": "execute_result",
          "data": {
            "text/plain": [
              "[Prediction(uid='120', iid='282', r_ui=4.0, est=3.5114147666251547, details={'was_impossible': False}),\n",
              " Prediction(uid='882', iid='291', r_ui=4.0, est=3.573872419581491, details={'was_impossible': False}),\n",
              " Prediction(uid='535', iid='507', r_ui=5.0, est=4.033583485472447, details={'was_impossible': False}),\n",
              " Prediction(uid='697', iid='244', r_ui=5.0, est=3.8463639495936905, details={'was_impossible': False}),\n",
              " Prediction(uid='751', iid='385', r_ui=4.0, est=3.1807542478219157, details={'was_impossible': False})]"
            ]
          },
          "metadata": {},
          "execution_count": 5
        }
      ]
    },
    {
      "cell_type": "code",
      "source": [
        "[ (pred.uid, pred.iid, pred.est) for pred in predictions[:3] ]"
      ],
      "metadata": {
        "colab": {
          "base_uri": "https://localhost:8080/"
        },
        "id": "cH5RRJSxdpYp",
        "outputId": "4724a62b-54bc-46d3-b851-e3daa75d02a0"
      },
      "execution_count": 6,
      "outputs": [
        {
          "output_type": "execute_result",
          "data": {
            "text/plain": [
              "[('120', '282', 3.5114147666251547),\n",
              " ('882', '291', 3.573872419581491),\n",
              " ('535', '507', 4.033583485472447)]"
            ]
          },
          "metadata": {},
          "execution_count": 6
        }
      ]
    },
    {
      "cell_type": "code",
      "source": [
        "# Predict() : 사용자 id, item id를 입력해주면 추천 예측 평점(est)을 포함한 정보 반환\n",
        "# 사용자 아이디, 아이템 아이디는 문자열로 입력해야 함.\n",
        "uid = str(196)\n",
        "iid = str(302)\n",
        "pred = algo.predict(uid, iid)\n",
        "print(pred)"
      ],
      "metadata": {
        "colab": {
          "base_uri": "https://localhost:8080/"
        },
        "id": "2ANRHncwd4Ib",
        "outputId": "cc2cb873-73da-4470-bd29-3955d2c27fa4"
      },
      "execution_count": 7,
      "outputs": [
        {
          "output_type": "stream",
          "name": "stdout",
          "text": [
            "user: 196        item: 302        r_ui = None   est = 4.49   {'was_impossible': False}\n"
          ]
        }
      ]
    },
    {
      "cell_type": "markdown",
      "source": [
        "> - **test 메서드는 입력 데이터 세트의 모든 사용자와 아이템 아이디에 대해서 predict를 반복적으로 수행한 결과하고 생각하면 된다.**\n",
        "-  Surprise 패키지에서 반환된 prediction 객체의 r_ui는 실제 평가 값(정답 값)을 나타내며, est는 해당 예측에 대한 예측 점수를 나타낸다\n",
        "\n",
        "- Surprise의 SVD(Singular Value Decomposition) 알고리즘은 기본적으로 사용자-아이템 평점 행렬을 분해하여 잠재 요인을 추출하고, 이를 기반으로 예측을 수행합니다. 이 때, 모델은 학습 데이터의 모든 사용자와 아이템을 고려하여 잠재 요인을 학습합니다. 모델이 어떤 값을 예측해야 하는지에 대해서는 다음과 같은 방식으로 알 수 있습니다:\n",
        "\n",
        "1. **잠재 요인 분해**: SVD는 학습 데이터를 통해 잠재 요인을 추출하는 과정을 거칩니다. 이 과정에서 사용자-아이템 평점 행렬이 잠재 요인의 곱으로 분해됩니다.\n",
        "\n",
        "2. **추가적인 정보**: SVD는 사용자와 아이템에 대한 추가적인 정보를 고려하지 않고, 오직 평점 정보만을 이용하여 예측을 수행합니다. 이는 잠재 요인 모델의 기본 가정 중 하나입니다.\n",
        "\n",
        "3. **평가 데이터**: 학습이 완료된 모델은 평가 데이터(테스트 데이터)에 대해 예측을 수행합니다. 이 때, 모델은 테스트 데이터의 사용자-아이템 쌍에 대한 예측값을 계산하여 반환합니다.\n",
        "\n",
        "- 따라서 모델은 학습 데이터를 기반으로 잠재 요인을 추출하고, 이를 사용하여 테스트 데이터에 대한 예측을 수행합니다."
      ],
      "metadata": {
        "id": "qo7ggnWljC5S"
      }
    },
    {
      "cell_type": "markdown",
      "source": [
        "> test data를 이용하여 추천 예측 평점과 실제 평점과의 차이를 평가"
      ],
      "metadata": {
        "id": "j4ZNa9lXlvHp"
      }
    },
    {
      "cell_type": "code",
      "source": [
        "accuracy.rmse(predictions)"
      ],
      "metadata": {
        "colab": {
          "base_uri": "https://localhost:8080/"
        },
        "id": "6IRE-Xyyi1KV",
        "outputId": "0fb3cfbf-ec14-4789-d383-4aec3048f044"
      },
      "execution_count": 8,
      "outputs": [
        {
          "output_type": "stream",
          "name": "stdout",
          "text": [
            "RMSE: 0.9467\n"
          ]
        },
        {
          "output_type": "execute_result",
          "data": {
            "text/plain": [
              "0.9466860806937948"
            ]
          },
          "metadata": {},
          "execution_count": 8
        }
      ]
    },
    {
      "cell_type": "markdown",
      "source": [
        "### Surprise 주요 모듈 소개\n",
        "\n",
        "**- data set**\n",
        "- surprise는 userid, itemid, rating data가 로우 레벨로 된 data set에만 적용 가능\n",
        "- data의 1번째, 2번째, 3번째 칼럼을 각각 사용자, 아이템아이디, 평점으로 가정하고 3번재 칼럼까지만 data를 로딩하고 4번째 칼럼부터는 아예 읽어오지를 않는다.\n",
        "\n",
        "- 무비렌즈 아카이브 서버에서 자동으로 받는 데이터 파일 뿐만 아니라 판다스 dataframe에서도 로딩가능하나, 꼭 data set의 칼럼 순서가 사용자 아이디, 아이템 아이디, 평점순으로 되어있어야 한다."
      ],
      "metadata": {
        "id": "Zezxfk4lmHST"
      }
    },
    {
      "cell_type": "code",
      "source": [
        "# OS(Operating System 운영체제 파일)에서 데이터를 Surprise data set으로 로딩\n",
        "# 중요한 것이 원래 data file에서 column명을 헤더로 가지고 있다면 헤더를 삭제해줘야해 한다.\n",
        "import pandas as pd\n",
        "ratings = pd.read_csv(\"/content/drive/MyDrive/Kaggle - 파이썬 머신러닝 완벽 가이드/kaggleData/ml-latest-small/ratings.csv\")\n",
        "# ratings_noh.csv 파일로 unload 시 index 와 header를 모두 제거한 새로운 파일 생성.\n",
        "ratings.to_csv(\"/content/drive/MyDrive/Kaggle - 파이썬 머신러닝 완벽 가이드/kaggleData/ml-latest-small/ratings_noh.csv\", index = False , header = False)"
      ],
      "metadata": {
        "id": "4o4k9kJ3l4ob"
      },
      "execution_count": 9,
      "outputs": []
    },
    {
      "cell_type": "code",
      "source": [
        "# ratings_nohc.csv 파일은 ','로 구분되어 있고, 4개의 칼럼이 사용자 아이디, 아이템 아이디, 평점, 타임스탬프임을 로딩할 떄 알려줘야 한다.\n",
        "from surprise import Reader\n",
        "\n",
        "reader = Reader(line_format = 'user item rating timestamp', sep = ',', rating_scale = (0.5, 5))\n",
        "data = Dataset.load_from_file('/content/drive/MyDrive/Kaggle - 파이썬 머신러닝 완벽 가이드/kaggleData/ml-latest-small/ratings_noh.csv', reader = reader)"
      ],
      "metadata": {
        "id": "N8ABBSTaqfs1"
      },
      "execution_count": 10,
      "outputs": []
    },
    {
      "cell_type": "markdown",
      "source": [
        "> Surprise 패키지에서 제공하는 Reader 클래스를 사용하여 데이터를 읽어오고, 그 데이터를 Surprise의 Dataset 객체로 변환하는 과정을 수행합니다.\n",
        "1. `reader = Reader(line_format='user item rating timestamp', sep=',', rating_scale=(0.5, 5))`: Reader 객체를 생성합니다. 여기서는 다음과 같은 매개변수를 사용하여 Reader를 초기화합니다:\n",
        "   - `line_format`: 데이터 파일의 각 줄의 형식을 지정합니다. 여기서는 'user item rating timestamp'로 사용자, 아이템, 평점, 타임스탬프 순서로 데이터가 구성되어 있다는 것을 나타냅니다.\n",
        "   - `sep`: 데이터 파일에서 각 필드를 구분하는 구분자를 지정합니다. 이 경우에는 쉼표(,)로 구분됩니다.\n",
        "   - `rating_scale`: 평점의 최소 및 최대 값 범위를 지정합니다. 여기서는 평점이 0.5에서 5까지의 값을 가질 수 있다는 것을 나타냅니다.\n",
        "2. `data=Dataset.load_from_file('./ml-latest-small/ratings_noh.csv',reader=reader)`: 지정된 Reader 객체를 사용하여 데이터 파일을 읽어와서 Surprise의 Dataset 객체로 변환합니다. 이 때, `load_from_file` 함수를 사용하고, 데이터 파일의 경로와 Reader 객체를 전달합니다."
      ],
      "metadata": {
        "id": "g0g9-lpK03eo"
      }
    },
    {
      "cell_type": "code",
      "source": [
        "# SVD 행렬 분해 기법을 이용해 추천 예측\n",
        "trainset, testset = train_test_split(data, test_size= 0.25, random_state=0)\n",
        "# 수행시마다 동일한 결과 도출을 위해 random_state 설정\n",
        "algo = SVD(n_factors=50, random_state=0)\n",
        "\n",
        "# 학습 데이터 세트로 학습 후 테스트 데이터 세트로 평점 예측 후 RMSE 평가\n",
        "algo.fit(trainset)\n",
        "predictions = algo.test(testset)\n",
        "accuracy.rmse(predictions)"
      ],
      "metadata": {
        "colab": {
          "base_uri": "https://localhost:8080/"
        },
        "id": "HlPB2SR10yPi",
        "outputId": "7628408a-a9e8-49b0-f083-ced8e9f3815d"
      },
      "execution_count": 11,
      "outputs": [
        {
          "output_type": "stream",
          "name": "stdout",
          "text": [
            "RMSE: 0.8682\n"
          ]
        },
        {
          "output_type": "execute_result",
          "data": {
            "text/plain": [
              "0.8681952927143516"
            ]
          },
          "metadata": {},
          "execution_count": 11
        }
      ]
    },
    {
      "cell_type": "markdown",
      "source": [
        "### Pandas DataFrame에서 Surprise data set loading하기"
      ],
      "metadata": {
        "id": "vU8cfK0_3Hei"
      }
    },
    {
      "cell_type": "code",
      "source": [
        "import pandas as pd\n",
        "from surprise import Reader, Dataset\n",
        "\n",
        "ratings = pd.read_csv('/content/drive/MyDrive/Kaggle - 파이썬 머신러닝 완벽 가이드/kaggleData/ml-latest-small/ratings.csv')\n",
        "reader = Reader(rating_scale = (0.5, 5.0))\n",
        "\n",
        "# ratings DataFrame 에서 컬럼은 사용자 아이디, 아이템 아이디, 평점 순서를 지켜야 합니다.\n",
        "data = Dataset.load_from_df(ratings[['userId', 'movieId', 'rating']], reader)\n",
        "trainset, testset = train_test_split(data, test_size = 0.25, random_state = 0)\n",
        "\n",
        "algo = SVD(n_factors = 50, random_state = 0)\n",
        "algo.fit(trainset)\n",
        "predictions = algo.test( testset )\n",
        "accuracy.rmse(predictions)"
      ],
      "metadata": {
        "colab": {
          "base_uri": "https://localhost:8080/"
        },
        "id": "fl_75R9Q2Cab",
        "outputId": "30432041-846b-4152-d93b-748a1d8db8d5"
      },
      "execution_count": 12,
      "outputs": [
        {
          "output_type": "stream",
          "name": "stdout",
          "text": [
            "RMSE: 0.8682\n"
          ]
        },
        {
          "output_type": "execute_result",
          "data": {
            "text/plain": [
              "0.8681952927143516"
            ]
          },
          "metadata": {},
          "execution_count": 12
        }
      ]
    },
    {
      "cell_type": "markdown",
      "source": [
        "![image.png](data:image/png;base64,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)"
      ],
      "metadata": {
        "id": "keQLMrXI5VKr"
      }
    },
    {
      "cell_type": "markdown",
      "source": [
        "> SVD의 경우 Null 값이 없는 경우에만 가능해서, 주로 SGD or ALS SVD를 이용"
      ],
      "metadata": {
        "id": "8tdwDb7l5-kB"
      }
    },
    {
      "cell_type": "markdown",
      "source": [
        "> **biased 파라미터** : 베이스라인 사용자 편향 적용 여부\n",
        "- baseline : 각 개인이 평점을 부여하는 성향을 반영해 평점을 계산하는 방식\n",
        "- 보통의 baseline 평점 : 전체 평균 평점 + 사용자 편향 점수 + 아이템 편향 점수 공식\n",
        "\n",
        "Surprise의 SVD 클래스에서 biased 파라미터는 모델의 편향(bias)을 포함할지 여부를 결정하는 매개변수입니다. 이 매개변수는 모델이 사용자와 아이템 간의 상호 작용을 예측할 때 고려해야 할 추가적인 요소를 제어합니다.\n",
        "\n",
        "biased 매개변수의 값에 따라 두 가지 상황이 있습니다:\n",
        "\n",
        "1. biased=True:\n",
        "   - 이 경우 모델은 사용자나 아이템의 평균 평가를 고려하여 예측을 수행합니다.\n",
        "   - 사용자나 아이템의 평균 평가를 고려함으로써, 해당 사용자나 아이템의 특성을 반영하고 예측을 개선할 수 있습니다.\n",
        "   - 따라서 모델은 개별 사용자나 아이템의 편향을 고려하여 예측을 수행합니다.\n",
        "\n",
        "2. biased=False:\n",
        "   - 이 경우 모델은 사용자와 아이템 간의 상호 작용만을 고려하여 예측을 수행하고, 추가적인 평균 평가를 고려하지 않습니다.\n",
        "   - 모델이 좀 더 단순화되고 편향이 제거되며, 데이터에 더 일반화된 모델이 될 수 있습니다.\n",
        "   - 하지만 때로는 개별 사용자나 아이템의 특성을 고려하지 않는 것이 예측의 정확도를 낮출 수 있습니다."
      ],
      "metadata": {
        "id": "jVmMyGzn6ZBh"
      }
    },
    {
      "cell_type": "markdown",
      "source": [
        "## 교차 검증과 하이퍼 파라미터 튜닝"
      ],
      "metadata": {
        "id": "ICepdYpr3t6U"
      }
    },
    {
      "cell_type": "code",
      "source": [
        "# cross_validate\n",
        "from surprise.model_selection import cross_validate\n",
        "\n",
        "# 판다스 DataFrame에서 Surprise 데이터 세트로 데이터 로딩\n",
        "ratings = pd.read_csv(\"/content/drive/MyDrive/Kaggle - 파이썬 머신러닝 완벽 가이드/kaggleData/ml-latest-small/ratings.csv\") # reading data in pandas df\n",
        "reader = Reader(rating_scale=(0.5, 5.0))\n",
        "data = Dataset.load_from_df(ratings[['userId', 'movieId', 'rating']], reader)\n",
        "\n",
        "algo = SVD(random_state = 0)\n",
        "cross_validate(algo, data, measures = ['RMSE', 'MAE'], cv = 5, verbose = True)"
      ],
      "metadata": {
        "colab": {
          "base_uri": "https://localhost:8080/"
        },
        "id": "tE5bTv9y3vky",
        "outputId": "535fae1a-61ac-43d9-9af4-e4671f8fed75"
      },
      "execution_count": 13,
      "outputs": [
        {
          "output_type": "stream",
          "name": "stdout",
          "text": [
            "Evaluating RMSE, MAE of algorithm SVD on 5 split(s).\n",
            "\n",
            "                  Fold 1  Fold 2  Fold 3  Fold 4  Fold 5  Mean    Std     \n",
            "RMSE (testset)    0.8763  0.8717  0.8683  0.8730  0.8683  0.8715  0.0030  \n",
            "MAE (testset)     0.6725  0.6721  0.6659  0.6703  0.6682  0.6698  0.0025  \n",
            "Fit time          3.93    1.53    1.58    1.53    1.56    2.02    0.95    \n",
            "Test time         0.12    0.28    0.11    0.27    0.12    0.18    0.08    \n"
          ]
        },
        {
          "output_type": "execute_result",
          "data": {
            "text/plain": [
              "{'test_rmse': array([0.87632098, 0.87174749, 0.86832661, 0.87300877, 0.86825102]),\n",
              " 'test_mae': array([0.67253741, 0.67210086, 0.66589522, 0.67027323, 0.66820393]),\n",
              " 'fit_time': (3.9295718669891357,\n",
              "  1.526669979095459,\n",
              "  1.5760231018066406,\n",
              "  1.5265958309173584,\n",
              "  1.5617234706878662),\n",
              " 'test_time': (0.11569762229919434,\n",
              "  0.2772555351257324,\n",
              "  0.11391234397888184,\n",
              "  0.2741682529449463,\n",
              "  0.12386918067932129)}"
            ]
          },
          "metadata": {},
          "execution_count": 13
        }
      ]
    },
    {
      "cell_type": "code",
      "source": [
        "from surprise.model_selection import GridSearchCV\n",
        "\n",
        "# 최적화할 파라미터를 딕셔너리 형태로 지정.\n",
        "param_grid = {'n_epochs': [20, 40, 60], 'n_factors': [50, 100, 200] }\n",
        "\n",
        "# CV를 3개의 폴드 세트로 지정, 성능 평가는 rmse, mse로 수행하도록 GridSearchCV 구성\n",
        "gs = GridSearchCV(SVD, param_grid, measures = ['rmse', 'mae'], cv = 3)\n",
        "gs.fit(data)\n",
        "\n",
        "# 최고 RMSE Evaluation 점수와 그때의 하이퍼 파라미터\n",
        "print(gs.best_score['rmse'])\n",
        "print(gs.best_params['rmse'])"
      ],
      "metadata": {
        "colab": {
          "base_uri": "https://localhost:8080/"
        },
        "id": "ZDUrrr_7_3oR",
        "outputId": "fac44dfe-d7e7-40e6-9b06-a035a0b7dcfc"
      },
      "execution_count": 14,
      "outputs": [
        {
          "output_type": "stream",
          "name": "stdout",
          "text": [
            "0.8762099291272909\n",
            "{'n_epochs': 20, 'n_factors': 50}\n"
          ]
        }
      ]
    },
    {
      "cell_type": "markdown",
      "source": [
        "## Surprise 를 이용한 잠재 요인 협업 필터링 기반 개인화 영화 추천 시스템 구축\n",
        "\n",
        "- 이전까지는 전부 평가 결과가 있었던 data들에 대해 평가 점수 예측을 진행\n",
        "- 지금부터는 surprise 패키지로 학습된 추천 알고리즘을 기반으로 특정 사용자가 아직 평점을 매기지 않은 영화 중  개인 취향에 적절한 영화를 추천"
      ],
      "metadata": {
        "id": "Wp-CNUdADa5U"
      }
    },
    {
      "cell_type": "code",
      "source": [
        "# train_test_split( )으로 분리하지 않고 데이터 세트에 fit( )을 호출해서 오류가 발생하는 코드\n",
        "data = Dataset.load_from_df(ratings[['userId', 'movieId', 'rating']], reader)\n",
        "algo = SVD(n_factors=50, random_state=0)\n",
        "algo.fit(data)"
      ],
      "metadata": {
        "id": "jcC5WvceDdCb"
      },
      "execution_count": 16,
      "outputs": []
    },
    {
      "cell_type": "code",
      "source": [
        "# dataset 전체를 학습 data로 사용하려면 DatasetAutoFolds 클래스를 이용하면 됨\n",
        "from surprise.dataset import DatasetAutoFolds\n",
        "\n",
        "reader = Reader(line_format = 'user item rating timestamp', sep = ',', rating_scale = (0.5,5))\n",
        "# DatasetAutoFolds 클래스를 ratings_noh.csv 파일 기반으로 생성\n",
        "data_folds = DatasetAutoFolds(ratings_file = \"/content/drive/MyDrive/Kaggle - 파이썬 머신러닝 완벽 가이드/kaggleData/ml-latest-small/ratings_noh.csv\", reader = reader)\n",
        "\n",
        "#전체 데이터를 학습데이터로 생성함.\n",
        "trainset = data_folds.build_full_trainset()"
      ],
      "metadata": {
        "id": "NYowh-p-GGui"
      },
      "execution_count": 17,
      "outputs": []
    },
    {
      "cell_type": "code",
      "source": [
        "algo = SVD(n_epochs = 20, n_factors = 50, random_state = 0)\n",
        "algo.fit(trainset)"
      ],
      "metadata": {
        "colab": {
          "base_uri": "https://localhost:8080/"
        },
        "id": "Y_0oXSv2HBvZ",
        "outputId": "932d98b1-c792-417d-c61b-60b979cd431b"
      },
      "execution_count": 18,
      "outputs": [
        {
          "output_type": "execute_result",
          "data": {
            "text/plain": [
              "<surprise.prediction_algorithms.matrix_factorization.SVD at 0x7edb634ee680>"
            ]
          },
          "metadata": {},
          "execution_count": 18
        }
      ]
    },
    {
      "cell_type": "code",
      "source": [
        "# 영화에 대한 상세 속성 정보 DataFrame로딩\n",
        "movies = pd.read_csv(\"/content/drive/MyDrive/Kaggle - 파이썬 머신러닝 완벽 가이드/kaggleData/ml-latest-small/movies.csv\")\n",
        "\n",
        "# userId=9 의 movieId 데이터 추출하여 movieId=42 데이터가 있는지 확인.\n",
        "movieIds = ratings[ratings['userId'] == 9]['movieId']\n",
        "if movieIds[movieIds == 42].count() == 0:\n",
        "  print('사용자 아이디 9는 영화 아이디 42의 평점 없음')\n",
        "\n",
        "print(movies[movies['movieId']==42])"
      ],
      "metadata": {
        "colab": {
          "base_uri": "https://localhost:8080/"
        },
        "id": "KZRVYi_fHGe6",
        "outputId": "d8e139a8-1eeb-4326-d5f3-e2699dcf5f50"
      },
      "execution_count": 19,
      "outputs": [
        {
          "output_type": "stream",
          "name": "stdout",
          "text": [
            "사용자 아이디 9는 영화 아이디 42의 평점 없음\n",
            "    movieId                   title              genres\n",
            "38       42  Dead Presidents (1995)  Action|Crime|Drama\n"
          ]
        }
      ]
    },
    {
      "cell_type": "code",
      "source": [
        "uid = str(9)\n",
        "iid = str(42)\n",
        "\n",
        "pred = algo.predict(uid, iid, verbose=True)"
      ],
      "metadata": {
        "colab": {
          "base_uri": "https://localhost:8080/"
        },
        "id": "elb0gIY5IVbg",
        "outputId": "d30d6bc2-2216-4b16-a58f-05b05a322f07"
      },
      "execution_count": 20,
      "outputs": [
        {
          "output_type": "stream",
          "name": "stdout",
          "text": [
            "user: 9          item: 42         r_ui = None   est = 3.13   {'was_impossible': False}\n"
          ]
        }
      ]
    },
    {
      "cell_type": "markdown",
      "source": [
        "-> 사용자가 평점을 매기지 않은 영화의 추천 예측 평점을 구해보았음"
      ],
      "metadata": {
        "id": "XtN_prLiYuHv"
      }
    },
    {
      "cell_type": "code",
      "source": [
        "# 특정 사용자에게 사용자가 아직 보지 않은 영화를 추천하기 위해 아직 보지 않은 영화 목록 확인\n",
        "# 사용자가 평점을 매기지 않은 영화의 추천 예측 평점을 모두 구한 후, 예측 평점 순으로 영화를 추천\n",
        "\n",
        "def get_unseen_surprise(ratings, movies, userId):\n",
        "    # 입력값으로 들어온 userId에 해당하는 사용자가 평점을 매긴 모든 영화를 리스트로 생성\n",
        "    seen_movies = ratings[ratings['userId']== userId]['movieId'].tolist()\n",
        "\n",
        "    # 모든 영화들의 movieId를 리스트로 생성.\n",
        "    total_movies = movies['movieId'].tolist()\n",
        "\n",
        "    # 모든 영화들의 movieId중 이미 평점을 매긴 영화의 movieId를 제외하여 리스트로 생성\n",
        "    unseen_movies= [movie for movie in total_movies if movie not in seen_movies]\n",
        "    print('평점 매긴 영화수:',len(seen_movies), '추천대상 영화수:',len(unseen_movies), '전체 영화 수:',len(total_movies))\n",
        "\n",
        "    return unseen_movies\n",
        "\n",
        "unseen_movies = get_unseen_surprise(ratings, movies, 9)"
      ],
      "metadata": {
        "colab": {
          "base_uri": "https://localhost:8080/"
        },
        "id": "9sQ3rDNDIexE",
        "outputId": "3e78f62c-3d4a-49bb-ba5a-e362c1038d31"
      },
      "execution_count": 21,
      "outputs": [
        {
          "output_type": "stream",
          "name": "stdout",
          "text": [
            "평점 매긴 영화수: 46 추천대상 영화수: 9696 전체 영화수: 9742\n"
          ]
        }
      ]
    },
    {
      "cell_type": "code",
      "source": [
        "# 학습이 완료된 추천알고리즘 객체, 추천 대상 사용자 아이디, 아직 안 본 영화 리스트, 추천 개수를 입력값으로 전달\n",
        "def recomm_movie_by_surprise(algo, userId, unseen_movies, top_n=10):\n",
        "    # 알고리즘 객체의 predict() 메서드를 평점이 없는 영화에 반복 수행한 후 결과를 list 객체로 저장\n",
        "    predictions = [algo.predict(str(userId), str(movieId)) for movieId in unseen_movies]\n",
        "\n",
        "    # predictions list 객체는 surprise의 Predictions 객체를 원소로 가지고 있음.\n",
        "    # [Prediction(uid='9', iid='1', est=3.69), Prediction(uid='9', iid='2', est=2.98),,,,]\n",
        "    # 이를 est 값으로 정렬하기 위해서 아래의 sortkey_est 함수를 정의함.\n",
        "    # sortkey_est 함수는 list 객체의 sort() 함수의 키 값으로 사용되어 정렬 수행.\n",
        "    def sortkey_est(pred):\n",
        "        return pred.est\n",
        "\n",
        "    # sortkey_est( ) 반환값의 내림 차순으로 정렬 수행하고 top_n개의 최상위 값 추출.\n",
        "    predictions.sort(key=sortkey_est, reverse=True)\n",
        "    top_predictions = predictions[:top_n]\n",
        "\n",
        "    # top_n으로 추출된 영화의 정보 추출. 영화 아이디, 추천 예상 평점, 제목 추출\n",
        "    top_movie_ids = [ int(pred.iid) for pred in top_predictions]\n",
        "    top_movie_rating = [ pred.est for pred in top_predictions]\n",
        "    top_movie_titles = movies[movies.movieId.isin(top_movie_ids)]['title']\n",
        "    # Pandas 라이브러리에서 제공하는 메서드 ;  Series나 DataFrame 객체에서 특정 값이 포함되어 있는지 여부를 확인하는 데 사용\n",
        "    top_movie_preds = [ (id, title, rating) for id, title, rating in zip(top_movie_ids, top_movie_titles, top_movie_rating)]\n",
        "\n",
        "    return top_movie_preds\n",
        "\n",
        "unseen_movies = get_unseen_surprise(ratings, movies, 9)\n",
        "top_movie_preds = recomm_movie_by_surprise(algo, 9, unseen_movies, top_n=10)\n",
        "print('##### Top-10 추천 영화 리스트 #####')\n",
        "\n",
        "for top_movie in top_movie_preds:\n",
        "    print(top_movie[1], \":\", top_movie[2])"
      ],
      "metadata": {
        "colab": {
          "base_uri": "https://localhost:8080/"
        },
        "id": "6PDzPpGLJvBl",
        "outputId": "509bde75-3812-4638-87e3-bd89006b6845"
      },
      "execution_count": 22,
      "outputs": [
        {
          "output_type": "stream",
          "name": "stdout",
          "text": [
            "평점 매긴 영화수: 46 추천대상 영화수: 9696 전체 영화수: 9742\n",
            "##### Top-10 추천 영화 리스트 #####\n",
            "Usual Suspects, The (1995) : 4.306302135700814\n",
            "Star Wars: Episode IV - A New Hope (1977) : 4.281663842987387\n",
            "Pulp Fiction (1994) : 4.278152632122759\n",
            "Silence of the Lambs, The (1991) : 4.226073566460876\n",
            "Godfather, The (1972) : 4.1918097904381995\n",
            "Streetcar Named Desire, A (1951) : 4.154746591122657\n",
            "Star Wars: Episode V - The Empire Strikes Back (1980) : 4.122016128534504\n",
            "Star Wars: Episode VI - Return of the Jedi (1983) : 4.108009609093436\n",
            "Goodfellas (1990) : 4.083464936588478\n",
            "Glory (1989) : 4.07887165526957\n"
          ]
        }
      ]
    },
    {
      "cell_type": "markdown",
      "source": [
        "- `sort()` 메서드의 `key` 매개변수에 함수를 전달하면 해당 함수의 반환값을 기준으로 리스트를 정렬합니다. 이 때, 정렬의 기준이 되는 값은 함수가 각 요소에 대해 반환하는 값이며, 이를 기준으로 리스트가 정렬됩니다.\n",
        "\n",
        "- 위의 코드에서 `sortkey_est()` 함수는 예측 결과(`Prediction` 객체)를 받아 해당 예측의 평점(`est`) 값을 반환하는 함수입니다. 이 함수를 `key` 매개변수로 사용하여 `predictions` 리스트를 `est` 값으로 내림차순 정렬합니다. 이렇게 함으로써 예측값이 가장 높은 영화를 먼저 추천할 수 있습니다.\n",
        "\n",
        "- 따라서 `predictions.sort(key=sortkey_est, reverse=True)` 구문은 예측값이 높은 순서대로 `predictions` 리스트를 정렬하는 것을 의미합니다. 이해하신 대로 함수를 사용한 정렬 기능을 활용하여 코드를 효율적으로 작성한 것입니다.\n",
        "\n",
        "**추가 설명:**\n",
        "만약 `sort()` 메서드의 `key` 매개변수를 사용하지 않고 단순히 `predictions.sort(reverse=True)`와 같이 정렬했다면, 리스트의 각 요소가 직접 비교되어 정렬될 것입니다. 이 경우 `Prediction` 객체의 속성 중에서 비교 기준이 될 값이 명확하지 않으므로 정확한 정렬 결과를 얻을 수 없을 것입니다. 따라서 함수를 사용하여 정렬 기준을 명시적으로 지정하는 것이 중요합니다."
      ],
      "metadata": {
        "id": "yHCk32sJbPMz"
      }
    }
  ]
}