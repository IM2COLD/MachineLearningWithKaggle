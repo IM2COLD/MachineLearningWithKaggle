{
  "nbformat": 4,
  "nbformat_minor": 0,
  "metadata": {
    "colab": {
      "provenance": []
    },
    "kernelspec": {
      "name": "python3",
      "display_name": "Python 3"
    },
    "language_info": {
      "name": "python"
    }
  },
  "cells": [
    {
      "cell_type": "code",
      "source": [
        "# !apt-get update\n",
        "# !apt-get install g++ openjdk-8-jdk\n",
        "# !pip install konlpy JPype1-py3"
      ],
      "metadata": {
        "id": "AvqRAfBZCR0F"
      },
      "execution_count": 2,
      "outputs": []
    },
    {
      "cell_type": "code",
      "source": [
        "# %%bash\n",
        "# apt-get update\n",
        "# apt-get install g++ openjdk-8-jdk python-dev python3-dev\n",
        "# pip3 install JPype1\n",
        "# pip3 install konlpy"
      ],
      "metadata": {
        "id": "fVK9si_nxhr_"
      },
      "execution_count": 3,
      "outputs": []
    },
    {
      "cell_type": "code",
      "source": [
        "# %env JAVA_HOME \"/usr/lib/jvm/java-8-openjdk-amd64\""
      ],
      "metadata": {
        "id": "tUEtR02cxj0v"
      },
      "execution_count": 4,
      "outputs": []
    },
    {
      "cell_type": "markdown",
      "source": [
        "> **한글 NLP 처리의 어려움**\n",
        "\n",
        "- 띄어쓰기 & 다양한 조사\n",
        "\n",
        "- 영어의 경우 띄어쓰기를 잘못하면 잘못된 단어로 분석에서 제외가 되는데, 한글은 띄어쓰기를 잘못하면 다른 단어로 인식됨\n",
        "- 조사는 워낙 경우의 수가 많아, 어근 추출 등의 전처리 시 제거가 까다로움\n",
        "- ex) 너희 집은 어디 있니? <-> 집 은 (house, silver)\n",
        "- ex) 집은, 집이, 집도, 집에서, 집에..."
      ],
      "metadata": {
        "id": "6YF8h8BT88Df"
      }
    },
    {
      "cell_type": "markdown",
      "source": [
        "> ### **konlpy**\n",
        "\n",
        "- 형태소 : 의미를 가지는 최소 단위\n",
        "- 형태소 분석 : 말뭉치를 이러한 형태소 어근 단위로 쪼개고 각 형태소에 품사 태깅을 부착하는 작업\n",
        "\n",
        "> - [한글 형태소 분석](https://iostream.tistory.com/144?utm_source=gaerae.com&utm_campaign=%EA%B0%9C%EB%B0%9C%EC%9E%90%EC%8A%A4%EB%9F%BD%EB%8B%A4&utm_medium=social)\n",
        "\n",
        "> mecab\n",
        "\n",
        "- https://colab.research.google.com/drive/1IHqCicmaDHIJtpywlGFYD9wS-zQ-J-s3?usp=sharing\n",
        "- https://pypi.org/project/python-mecab-ko/\n",
        "\n",
        "> Okt : Twitter => Okt로 바뀜\n",
        "\n",
        "```python\n",
        "from konlpy.tag import Okt\n",
        "translate = Okt()\n",
        "```\n",
        "\n"
      ],
      "metadata": {
        "id": "7UzrDwgo-iLG"
      }
    },
    {
      "cell_type": "code",
      "source": [
        "! pip install konlpy"
      ],
      "metadata": {
        "colab": {
          "base_uri": "https://localhost:8080/"
        },
        "id": "QP_Aqc_hBYz-",
        "outputId": "ea8bde75-810a-4b53-81ec-17258567c403"
      },
      "execution_count": 5,
      "outputs": [
        {
          "output_type": "stream",
          "name": "stdout",
          "text": [
            "Requirement already satisfied: konlpy in /usr/local/lib/python3.10/dist-packages (0.6.0)\n",
            "Requirement already satisfied: JPype1>=0.7.0 in /usr/local/lib/python3.10/dist-packages (from konlpy) (1.5.0)\n",
            "Requirement already satisfied: lxml>=4.1.0 in /usr/local/lib/python3.10/dist-packages (from konlpy) (4.9.4)\n",
            "Requirement already satisfied: numpy>=1.6 in /usr/local/lib/python3.10/dist-packages (from konlpy) (1.25.2)\n",
            "Requirement already satisfied: packaging in /usr/local/lib/python3.10/dist-packages (from JPype1>=0.7.0->konlpy) (23.2)\n"
          ]
        }
      ]
    },
    {
      "cell_type": "code",
      "source": [
        "import konlpy\n",
        "from konlpy.tag import Kkma, Komoran, Hannanum, Okt\n",
        "from konlpy.utils import pprint\n",
        "from konlpy.tag import Mecab"
      ],
      "metadata": {
        "id": "2rn29j6Txmu_"
      },
      "execution_count": 6,
      "outputs": []
    },
    {
      "cell_type": "markdown",
      "source": [
        "### **Data Loading**\n",
        "\n",
        "[네이버 영화 평점 데이터](https://github.com/e9t/nsmc)"
      ],
      "metadata": {
        "id": "IE7kP-scCvZ1"
      }
    },
    {
      "cell_type": "code",
      "source": [
        "import pandas as pd\n",
        "train_df = pd.read_csv('/content/drive/MyDrive/Kaggle - 파이썬 머신러닝 완벽 가이드/kaggleData/ratings_train.txt', sep = '\\t',  encoding='UTF8')\n",
        "train_df.head(5)"
      ],
      "metadata": {
        "colab": {
          "base_uri": "https://localhost:8080/",
          "height": 206
        },
        "id": "6eVISBn8C0aU",
        "outputId": "ef429a3a-8e1c-4ef0-c1e5-1c8ab65e9194"
      },
      "execution_count": 7,
      "outputs": [
        {
          "output_type": "execute_result",
          "data": {
            "text/plain": [
              "         id                                           document  label\n",
              "0   9976970                                아 더빙.. 진짜 짜증나네요 목소리      0\n",
              "1   3819312                  흠...포스터보고 초딩영화줄....오버연기조차 가볍지 않구나      1\n",
              "2  10265843                                  너무재밓었다그래서보는것을추천한다      0\n",
              "3   9045019                      교도소 이야기구먼 ..솔직히 재미는 없다..평점 조정      0\n",
              "4   6483659  사이몬페그의 익살스런 연기가 돋보였던 영화!스파이더맨에서 늙어보이기만 했던 커스틴 ...      1"
            ],
            "text/html": [
              "\n",
              "  <div id=\"df-05fc26bc-04a1-4418-be9f-2b84b4ebd04c\" class=\"colab-df-container\">\n",
              "    <div>\n",
              "<style scoped>\n",
              "    .dataframe tbody tr th:only-of-type {\n",
              "        vertical-align: middle;\n",
              "    }\n",
              "\n",
              "    .dataframe tbody tr th {\n",
              "        vertical-align: top;\n",
              "    }\n",
              "\n",
              "    .dataframe thead th {\n",
              "        text-align: right;\n",
              "    }\n",
              "</style>\n",
              "<table border=\"1\" class=\"dataframe\">\n",
              "  <thead>\n",
              "    <tr style=\"text-align: right;\">\n",
              "      <th></th>\n",
              "      <th>id</th>\n",
              "      <th>document</th>\n",
              "      <th>label</th>\n",
              "    </tr>\n",
              "  </thead>\n",
              "  <tbody>\n",
              "    <tr>\n",
              "      <th>0</th>\n",
              "      <td>9976970</td>\n",
              "      <td>아 더빙.. 진짜 짜증나네요 목소리</td>\n",
              "      <td>0</td>\n",
              "    </tr>\n",
              "    <tr>\n",
              "      <th>1</th>\n",
              "      <td>3819312</td>\n",
              "      <td>흠...포스터보고 초딩영화줄....오버연기조차 가볍지 않구나</td>\n",
              "      <td>1</td>\n",
              "    </tr>\n",
              "    <tr>\n",
              "      <th>2</th>\n",
              "      <td>10265843</td>\n",
              "      <td>너무재밓었다그래서보는것을추천한다</td>\n",
              "      <td>0</td>\n",
              "    </tr>\n",
              "    <tr>\n",
              "      <th>3</th>\n",
              "      <td>9045019</td>\n",
              "      <td>교도소 이야기구먼 ..솔직히 재미는 없다..평점 조정</td>\n",
              "      <td>0</td>\n",
              "    </tr>\n",
              "    <tr>\n",
              "      <th>4</th>\n",
              "      <td>6483659</td>\n",
              "      <td>사이몬페그의 익살스런 연기가 돋보였던 영화!스파이더맨에서 늙어보이기만 했던 커스틴 ...</td>\n",
              "      <td>1</td>\n",
              "    </tr>\n",
              "  </tbody>\n",
              "</table>\n",
              "</div>\n",
              "    <div class=\"colab-df-buttons\">\n",
              "\n",
              "  <div class=\"colab-df-container\">\n",
              "    <button class=\"colab-df-convert\" onclick=\"convertToInteractive('df-05fc26bc-04a1-4418-be9f-2b84b4ebd04c')\"\n",
              "            title=\"Convert this dataframe to an interactive table.\"\n",
              "            style=\"display:none;\">\n",
              "\n",
              "  <svg xmlns=\"http://www.w3.org/2000/svg\" height=\"24px\" viewBox=\"0 -960 960 960\">\n",
              "    <path d=\"M120-120v-720h720v720H120Zm60-500h600v-160H180v160Zm220 220h160v-160H400v160Zm0 220h160v-160H400v160ZM180-400h160v-160H180v160Zm440 0h160v-160H620v160ZM180-180h160v-160H180v160Zm440 0h160v-160H620v160Z\"/>\n",
              "  </svg>\n",
              "    </button>\n",
              "\n",
              "  <style>\n",
              "    .colab-df-container {\n",
              "      display:flex;\n",
              "      gap: 12px;\n",
              "    }\n",
              "\n",
              "    .colab-df-convert {\n",
              "      background-color: #E8F0FE;\n",
              "      border: none;\n",
              "      border-radius: 50%;\n",
              "      cursor: pointer;\n",
              "      display: none;\n",
              "      fill: #1967D2;\n",
              "      height: 32px;\n",
              "      padding: 0 0 0 0;\n",
              "      width: 32px;\n",
              "    }\n",
              "\n",
              "    .colab-df-convert:hover {\n",
              "      background-color: #E2EBFA;\n",
              "      box-shadow: 0px 1px 2px rgba(60, 64, 67, 0.3), 0px 1px 3px 1px rgba(60, 64, 67, 0.15);\n",
              "      fill: #174EA6;\n",
              "    }\n",
              "\n",
              "    .colab-df-buttons div {\n",
              "      margin-bottom: 4px;\n",
              "    }\n",
              "\n",
              "    [theme=dark] .colab-df-convert {\n",
              "      background-color: #3B4455;\n",
              "      fill: #D2E3FC;\n",
              "    }\n",
              "\n",
              "    [theme=dark] .colab-df-convert:hover {\n",
              "      background-color: #434B5C;\n",
              "      box-shadow: 0px 1px 3px 1px rgba(0, 0, 0, 0.15);\n",
              "      filter: drop-shadow(0px 1px 2px rgba(0, 0, 0, 0.3));\n",
              "      fill: #FFFFFF;\n",
              "    }\n",
              "  </style>\n",
              "\n",
              "    <script>\n",
              "      const buttonEl =\n",
              "        document.querySelector('#df-05fc26bc-04a1-4418-be9f-2b84b4ebd04c button.colab-df-convert');\n",
              "      buttonEl.style.display =\n",
              "        google.colab.kernel.accessAllowed ? 'block' : 'none';\n",
              "\n",
              "      async function convertToInteractive(key) {\n",
              "        const element = document.querySelector('#df-05fc26bc-04a1-4418-be9f-2b84b4ebd04c');\n",
              "        const dataTable =\n",
              "          await google.colab.kernel.invokeFunction('convertToInteractive',\n",
              "                                                    [key], {});\n",
              "        if (!dataTable) return;\n",
              "\n",
              "        const docLinkHtml = 'Like what you see? Visit the ' +\n",
              "          '<a target=\"_blank\" href=https://colab.research.google.com/notebooks/data_table.ipynb>data table notebook</a>'\n",
              "          + ' to learn more about interactive tables.';\n",
              "        element.innerHTML = '';\n",
              "        dataTable['output_type'] = 'display_data';\n",
              "        await google.colab.output.renderOutput(dataTable, element);\n",
              "        const docLink = document.createElement('div');\n",
              "        docLink.innerHTML = docLinkHtml;\n",
              "        element.appendChild(docLink);\n",
              "      }\n",
              "    </script>\n",
              "  </div>\n",
              "\n",
              "\n",
              "<div id=\"df-db63c292-1786-47d1-8840-d84451809fe0\">\n",
              "  <button class=\"colab-df-quickchart\" onclick=\"quickchart('df-db63c292-1786-47d1-8840-d84451809fe0')\"\n",
              "            title=\"Suggest charts\"\n",
              "            style=\"display:none;\">\n",
              "\n",
              "<svg xmlns=\"http://www.w3.org/2000/svg\" height=\"24px\"viewBox=\"0 0 24 24\"\n",
              "     width=\"24px\">\n",
              "    <g>\n",
              "        <path d=\"M19 3H5c-1.1 0-2 .9-2 2v14c0 1.1.9 2 2 2h14c1.1 0 2-.9 2-2V5c0-1.1-.9-2-2-2zM9 17H7v-7h2v7zm4 0h-2V7h2v10zm4 0h-2v-4h2v4z\"/>\n",
              "    </g>\n",
              "</svg>\n",
              "  </button>\n",
              "\n",
              "<style>\n",
              "  .colab-df-quickchart {\n",
              "      --bg-color: #E8F0FE;\n",
              "      --fill-color: #1967D2;\n",
              "      --hover-bg-color: #E2EBFA;\n",
              "      --hover-fill-color: #174EA6;\n",
              "      --disabled-fill-color: #AAA;\n",
              "      --disabled-bg-color: #DDD;\n",
              "  }\n",
              "\n",
              "  [theme=dark] .colab-df-quickchart {\n",
              "      --bg-color: #3B4455;\n",
              "      --fill-color: #D2E3FC;\n",
              "      --hover-bg-color: #434B5C;\n",
              "      --hover-fill-color: #FFFFFF;\n",
              "      --disabled-bg-color: #3B4455;\n",
              "      --disabled-fill-color: #666;\n",
              "  }\n",
              "\n",
              "  .colab-df-quickchart {\n",
              "    background-color: var(--bg-color);\n",
              "    border: none;\n",
              "    border-radius: 50%;\n",
              "    cursor: pointer;\n",
              "    display: none;\n",
              "    fill: var(--fill-color);\n",
              "    height: 32px;\n",
              "    padding: 0;\n",
              "    width: 32px;\n",
              "  }\n",
              "\n",
              "  .colab-df-quickchart:hover {\n",
              "    background-color: var(--hover-bg-color);\n",
              "    box-shadow: 0 1px 2px rgba(60, 64, 67, 0.3), 0 1px 3px 1px rgba(60, 64, 67, 0.15);\n",
              "    fill: var(--button-hover-fill-color);\n",
              "  }\n",
              "\n",
              "  .colab-df-quickchart-complete:disabled,\n",
              "  .colab-df-quickchart-complete:disabled:hover {\n",
              "    background-color: var(--disabled-bg-color);\n",
              "    fill: var(--disabled-fill-color);\n",
              "    box-shadow: none;\n",
              "  }\n",
              "\n",
              "  .colab-df-spinner {\n",
              "    border: 2px solid var(--fill-color);\n",
              "    border-color: transparent;\n",
              "    border-bottom-color: var(--fill-color);\n",
              "    animation:\n",
              "      spin 1s steps(1) infinite;\n",
              "  }\n",
              "\n",
              "  @keyframes spin {\n",
              "    0% {\n",
              "      border-color: transparent;\n",
              "      border-bottom-color: var(--fill-color);\n",
              "      border-left-color: var(--fill-color);\n",
              "    }\n",
              "    20% {\n",
              "      border-color: transparent;\n",
              "      border-left-color: var(--fill-color);\n",
              "      border-top-color: var(--fill-color);\n",
              "    }\n",
              "    30% {\n",
              "      border-color: transparent;\n",
              "      border-left-color: var(--fill-color);\n",
              "      border-top-color: var(--fill-color);\n",
              "      border-right-color: var(--fill-color);\n",
              "    }\n",
              "    40% {\n",
              "      border-color: transparent;\n",
              "      border-right-color: var(--fill-color);\n",
              "      border-top-color: var(--fill-color);\n",
              "    }\n",
              "    60% {\n",
              "      border-color: transparent;\n",
              "      border-right-color: var(--fill-color);\n",
              "    }\n",
              "    80% {\n",
              "      border-color: transparent;\n",
              "      border-right-color: var(--fill-color);\n",
              "      border-bottom-color: var(--fill-color);\n",
              "    }\n",
              "    90% {\n",
              "      border-color: transparent;\n",
              "      border-bottom-color: var(--fill-color);\n",
              "    }\n",
              "  }\n",
              "</style>\n",
              "\n",
              "  <script>\n",
              "    async function quickchart(key) {\n",
              "      const quickchartButtonEl =\n",
              "        document.querySelector('#' + key + ' button');\n",
              "      quickchartButtonEl.disabled = true;  // To prevent multiple clicks.\n",
              "      quickchartButtonEl.classList.add('colab-df-spinner');\n",
              "      try {\n",
              "        const charts = await google.colab.kernel.invokeFunction(\n",
              "            'suggestCharts', [key], {});\n",
              "      } catch (error) {\n",
              "        console.error('Error during call to suggestCharts:', error);\n",
              "      }\n",
              "      quickchartButtonEl.classList.remove('colab-df-spinner');\n",
              "      quickchartButtonEl.classList.add('colab-df-quickchart-complete');\n",
              "    }\n",
              "    (() => {\n",
              "      let quickchartButtonEl =\n",
              "        document.querySelector('#df-db63c292-1786-47d1-8840-d84451809fe0 button');\n",
              "      quickchartButtonEl.style.display =\n",
              "        google.colab.kernel.accessAllowed ? 'block' : 'none';\n",
              "    })();\n",
              "  </script>\n",
              "</div>\n",
              "\n",
              "    </div>\n",
              "  </div>\n"
            ],
            "application/vnd.google.colaboratory.intrinsic+json": {
              "type": "dataframe",
              "variable_name": "train_df"
            }
          },
          "metadata": {},
          "execution_count": 7
        }
      ]
    },
    {
      "cell_type": "markdown",
      "source": [
        "train_data의 0과 1의 Label 값 비율\n",
        "\n",
        "- 1이 긍정\n",
        "- 0이 부정"
      ],
      "metadata": {
        "id": "ijn5VsO3FLjR"
      }
    },
    {
      "cell_type": "code",
      "source": [
        "train_df['label'].value_counts()\n",
        "# 0, 1이 균등한 분포"
      ],
      "metadata": {
        "colab": {
          "base_uri": "https://localhost:8080/"
        },
        "id": "UW9x07nfEN58",
        "outputId": "bd33135b-0b39-4d84-d245-4d33dc9e4e10"
      },
      "execution_count": 8,
      "outputs": [
        {
          "output_type": "execute_result",
          "data": {
            "text/plain": [
              "0    75173\n",
              "1    74827\n",
              "Name: label, dtype: int64"
            ]
          },
          "metadata": {},
          "execution_count": 8
        }
      ]
    },
    {
      "cell_type": "markdown",
      "source": [
        "- 문자가 아닌 숫자의 경우, 의미가 부족하기에 공백으로  변환\n",
        "- 숫자를 공백으로 변환하는 것은 텍스트의 일관성을 유지하면서 텍스트의 길이를 줄일 수 있습니다. 이는 특히 텍스트의 토큰화나 벡터화 단계에서 유용합니다. 또한, 숫자를 제거하거나 변환함으로써 텍스트의 노이즈를 줄이고 모델의 성능을 향상시킬 수 있습니다."
      ],
      "metadata": {
        "id": "dI1gQ1uqKLwS"
      }
    },
    {
      "cell_type": "markdown",
      "source": [
        "> **re.sub(r\"\\d+\", ' ', x)**\n",
        "\n",
        "- sub() 함수는 주어진 패턴에 일치하는 부분을 지정된 대체 문자열로 대체하는 역할\n",
        "\n",
        "- r\"\\d+\": 하나 이상의 숫자\n",
        "\n",
        "- ' ': 대체할 문자열\n",
        "\n",
        "- x: 대상 문자열\n",
        "\n"
      ],
      "metadata": {
        "id": "KQw2qOIcMDlc"
      }
    },
    {
      "cell_type": "code",
      "source": [
        "train_df['document'].isnull().sum()"
      ],
      "metadata": {
        "colab": {
          "base_uri": "https://localhost:8080/"
        },
        "id": "GT9eEVcIKld9",
        "outputId": "0e1babf4-9e2c-418b-f4ee-99286999861e"
      },
      "execution_count": 9,
      "outputs": [
        {
          "output_type": "execute_result",
          "data": {
            "text/plain": [
              "5"
            ]
          },
          "metadata": {},
          "execution_count": 9
        }
      ]
    },
    {
      "cell_type": "code",
      "source": [
        "train_df['document'].head()"
      ],
      "metadata": {
        "colab": {
          "base_uri": "https://localhost:8080/"
        },
        "id": "rohV5QORMegg",
        "outputId": "3bb6594d-faa3-4443-aca9-ce9915bddcf4"
      },
      "execution_count": 10,
      "outputs": [
        {
          "output_type": "execute_result",
          "data": {
            "text/plain": [
              "0                                  아 더빙.. 진짜 짜증나네요 목소리\n",
              "1                    흠...포스터보고 초딩영화줄....오버연기조차 가볍지 않구나\n",
              "2                                    너무재밓었다그래서보는것을추천한다\n",
              "3                        교도소 이야기구먼 ..솔직히 재미는 없다..평점 조정\n",
              "4    사이몬페그의 익살스런 연기가 돋보였던 영화!스파이더맨에서 늙어보이기만 했던 커스틴 ...\n",
              "Name: document, dtype: object"
            ]
          },
          "metadata": {},
          "execution_count": 10
        }
      ]
    },
    {
      "cell_type": "code",
      "source": [
        "import re\n",
        "\n",
        "train_df = train_df.fillna(' ')\n",
        "# 정규 표현식을 이용하여 숫자를 공백으로 변경(정규 표현식으로 \\d 는 숫자를 의미함.)\n",
        "train_df['document'] = train_df['document'].apply(lambda x : re.sub(r\"\\d+\", ' ', x))\n",
        "\n",
        "# 테스트 데이터 셋을 로딩하고 동일하게 Null 및 숫자를 공백으로 변환\n",
        "test_df = pd.read_csv('/content/drive/MyDrive/Kaggle - 파이썬 머신러닝 완벽 가이드/kaggleData/ratings_test.txt', sep='\\t')\n",
        "test_df = test_df.fillna(' ')\n",
        "test_df['document'] = test_df['document'].apply( lambda x : re.sub(r\"\\d+\", \" \", x) )\n",
        "\n",
        "# id 칼럼 삭제 수행\n",
        "train_df.drop('id', axis = 1, inplace = True)\n",
        "test_df.drop('id', axis = 1, inplace = True)"
      ],
      "metadata": {
        "id": "D9G_a-c6Fb-8"
      },
      "execution_count": 11,
      "outputs": []
    },
    {
      "cell_type": "markdown",
      "source": [
        "### **토큰화**\n",
        "- 문장을 한글 형태소 분석을 통해 형태소 단어로 토큰화\n",
        "- 한글 형태소 엔진은 SNS 분석에 적합한 Okt 클래스 이용\n",
        "- Okt 객체의 morphs() 메서드를 이용하면 문장을 형태소 단어로 토큰화해 list 객체 반환\n",
        "- Tfidf 피처 벡터화의 tokenizer로 사용을 위해 토큰화 작업을 tw_tokenizer() 함수로 생성"
      ],
      "metadata": {
        "id": "VwypuO2BRzNs"
      }
    },
    {
      "cell_type": "code",
      "source": [
        "# 문장을 형태소 단어 형태로 반환하는 tokenizer 함수\n",
        "import konlpy\n",
        "from konlpy.tag import Twitter\n",
        "\n",
        "twitter = Twitter()\n",
        "def tw_tokenizer(text):\n",
        "    # morphs() : 입력 인자로 들어온 text를 형태소 단어로 토큰화 하여 list 객체 반환\n",
        "    tokens_ko = twitter.morphs(text)\n",
        "    return tokens_ko"
      ],
      "metadata": {
        "colab": {
          "base_uri": "https://localhost:8080/"
        },
        "id": "aqOoFDqQM-Bg",
        "outputId": "f8f08f4e-6265-4f74-e378-b19af2eb361e"
      },
      "execution_count": 12,
      "outputs": [
        {
          "output_type": "stream",
          "name": "stderr",
          "text": [
            "/usr/local/lib/python3.10/dist-packages/konlpy/tag/_okt.py:17: UserWarning: \"Twitter\" has changed to \"Okt\" since KoNLPy v0.4.5.\n",
            "  warn('\"Twitter\" has changed to \"Okt\" since KoNLPy v0.4.5.')\n"
          ]
        }
      ]
    },
    {
      "cell_type": "markdown",
      "source": [
        "> TfidfVectorizer(tokenizer=twitter.morphs()) 와 같이 메서드를 tokenizer 매개변수에 전달하면 에러가 발생한다.\n",
        "\n",
        "- tokenizer 매개변수는 텍스트를 토큰화하는 함수를 기대합니다. 그러나 twitter.morphs()는 함수가 아니라 메서드입니다. 이 메서드를 바로 전달할 수 없으며, 대신에 해당 메서드를 호출하여 반환된 값을 전달해야 합니다.\n"
      ],
      "metadata": {
        "id": "vBJsKt2CeSwF"
      }
    },
    {
      "cell_type": "code",
      "source": [
        "from sklearn.feature_extraction.text import TfidfVectorizer\n",
        "from sklearn.linear_model import LogisticRegression\n",
        "from sklearn.model_selection import GridSearchCV\n",
        "\n",
        "# Twitter 객체의 morphs( ) 객체를 이용한 tokenizer를 사용. ngram_range는 (1,2)\n",
        "tfidf_vect = TfidfVectorizer(tokenizer=tw_tokenizer, ngram_range=(1,2), min_df=3, max_df=0.9)\n",
        "tfidf_vect.fit(train_df['document'])\n",
        "tfidf_matrix_train = tfidf_vect.transform(train_df['document'])"
      ],
      "metadata": {
        "colab": {
          "base_uri": "https://localhost:8080/"
        },
        "id": "yMEF6ongOmkv",
        "outputId": "a1688e28-5ba8-4bf1-9273-01cbda66a7e8"
      },
      "execution_count": 13,
      "outputs": [
        {
          "output_type": "stream",
          "name": "stderr",
          "text": [
            "/usr/local/lib/python3.10/dist-packages/sklearn/feature_extraction/text.py:528: UserWarning: The parameter 'token_pattern' will not be used since 'tokenizer' is not None'\n",
            "  warnings.warn(\n"
          ]
        }
      ]
    },
    {
      "cell_type": "markdown",
      "source": [
        "### **로지스틱 회귀를 이용해 분류 기반의 감성 분석 수행**\n",
        "\n",
        "- 정규화(regularization) 강도를 조절하는 매개변수\n",
        "- C의 값이 클수록 모델이 훈련 데이터에 대해 덜 규제되고, C의 값이 작을수록 모델이 더 많이 규제\n",
        "- 일반적으로 C의 값이 작을수록 규제 강도가 강해지므로 모델이 더 많이 규제됩니다. 이는 모델이 간단해지고 과적합을 방지할 수 있습니다. 반대로 C의 값이 클수록 규제 강도가 약해지므로 모델이 덜 규제되며, 훈련 데이터에 더 맞춰져 과적합될 가능성이 있습니다.\n",
        "\n",
        "![image.png](data:image/png;base64,iVBORw0KGgoAAAANSUhEUgAAAeIAAAEMCAYAAAAYp7VRAAAAAXNSR0IArs4c6QAAAARnQU1BAACxjwv8YQUAAAAJcEhZcwAADsMAAA7DAcdvqGQAAFh3SURBVHhe7b0LdFzHeef5t1cbIWOD4K4cgWuuBYwpCBI9ZiuOCY5sDTAhIWicGMAyIqTsEoY9gCXH5sORIYRZQjiJCUEmATGWQSpjUQJtQkhkA7QZNDbWCAJpNZyVDpozNps5oQgi1KI1og7aa58BGPKwuVHO3ap763bfR91nd6P5+H46JaLvs249vlfVvfUBhQGCIAiCIIrCB8W/BEEQBEEUAVLEBEEQBFFESBETBEEQRBEhRUwQBEEQRYQUMUEQBEEUEVLEBEEQBFFESBETBEEQRBEhRUwQBEEQRYQUMUEQBEEUEVLEBEEQBFFESBETBEEQRBEhRUwQBEEQRYQUMUEQBEEUEVp9iSgMb0/iwMQsULIOD3+lDuVs09LJMUwu3o7bbwVWVtchwjcSBEGopJE4+gKmLwBln2lD2/oysZ3D9v2A7UvJ9l3/kEdMFIaPN6DtrjRik09i9LS2qWx9C9b9OomVnyElTBCElRJEtjRhVTKGF04wI95A+uQEXpqYRFnjjhtOCXNIERMFY/b9CPq+FMHgsRizZzkpzN56NyK3qD8IgiDMXEgAn3kEFWeSTFoI0glMX7kVZfFaRD4utt1gkCImCkQCyavVqG58FDtfG8Pkr9mm9FlcLanWdhMEQVhIn7uKsgcqEHljHgti22x8ERtWJjH5hzW4UaUHKWKiMLyTxK13VbA/Imj6owUMTyQB3snW3XhhJYIg8sPs4q2IlJWjfO0iFnkY7e0YltbUYfHMDO761N0o0Q674SBFTBSEpX9gSvcu7e+Kz7VhVd8wDv18CeWrtW0EQRBmkjj3LxUox0qsWpPEL3+ZRDxViZrVS8wrXkLdDTyxhBQxURBm3y/Dvbr5elsDWlqHMZCqYP4xQRCEhAtxYDWXEGVYWR7F+EvzKL+vAkifQmzixh0f5pAiJoDLzPIceQJPHM1MjwhPOoGx73Sjf2QSP+TvGqiUoG7zTjy8jsaHCeKG4v00kieH8UTXWHZyVQjSp8fQ2zeMH0aHwZxfVKx5DBsa61D+9iQO7RvGdPlZREfiYLtuSOg94puaJaaAhzHDLNDFse2Y/cIcRrbQe0UEQXizxBTw8BvMf700hu3n2jB3pEX9XgARHPKIb2rKUNO6AztaH8TdK8UmgiAIH5Stb8OOr7fhwWqagJkrpIgJgiAIooiQIiYIgiCIIkKKmCAIgiCKCE3WIhgpjH2xCuONwSZrpZeWcFX8nQu3fqgMJfTZS4K4LkkdbUXVRLP/yVrvp7F0OS+SA2VluX/iY+lcHPMl6xC5o3ifCyFFTDDCKOI04vseQH1fgv1djR1/+Qwa7tD2SFlK4vTb2ssHC7OTmHkjhvjb6k9Een+Gn32d3jAmiOuRwIr4whha7+lAlP+9uQ9HO9YxlerEVfzyrVks8K9sXUpi5s0YZqZnxatSbRj5fw6i6Tb1RwiWEBuJYeUDG4BXduPL8Wb8X3/ZVJyZ31wREzc7C8poW6mydWxB/PbJpRmlf2OpUlpaqtz56KgyLzb75UrydeX5r25SSu/sVF79ldio889XlMXFRWXxkvh9jXLl0hXxV0DY8135Z/E3QVzHLIxtVUrbRpkU8c/8WLtyJ5MbpaWblP54wD50ZVE5Fd2jPHRnqbLp4CmxMQS/Gle2lbYr42rGTymDn71fGUyoe5adoitiLsR5ypWg19GPt54T9DrXO/M/GVT2PP6Q8mnWqO/c8JDS+dSg8up5sdMPiUFlkyizsJ1i/uV2ZetLFjUeP6Ls+fHryuuzi2LDtcf8j3crg0GFSIZ5ZXzv88qpZTQ0QhsNy0mx83hdGEgsj7JiusQMV2a8Llv+z7+qDD7VqTy04U5mTH9aeejxPcrgT/ya44vKq4+z87jskBniflhkjsDv71Fez6HJXFnUT2bXunOrMvqu+LnMXBMecVDF56Qsg17HiSDXccrLzcT8y8wiVsshhHWrckWZefYIs0kNxEfz0imuLC4oZ+MFUOjnjyjte2dYzuVcYQLRk3dHlfYnX3e8Rj7JzWhYRpLjSv93TzmXCY+UJE8pr8dOKQv5fpxLM8rgk+OBIzt5hytT8acc1l++26+8mhQ/BYuzrJ3/eI9yJC42XOuw8t7zWU1+homoqSRHlcGon769qMxPHlEGmZx5NWkv3fmxbcq2seLVfFEVsVGJGf/2g+xYP+fr95ElHePffgh6/I3HvDL6qLBuP7tHmcmHl5cXRXxFWXhjVNn9ByxfTGnmj0Vl/KvblHEHK37xjX6l/eGHlG0ve3fsmb2bgoXDFl9VRicDGhUORsOVX51VXn3mIWY8iQ3XCAtj7cruEw6qiOV5/GC7cn9pvr2XK8rrT7bbr8kU/3z8iNL5RLDQa2iYYtnG2k77MzOslblwhXlwjx6xKy9m3I1eL4qYcSXen4mobfXRX0Jx6ZTy/N5R5axaoMwTf+Ih5Ygh6nclPqjsLqIS5iz760srVqzIpIsXL6qJo/9t3O+Efm4YrPfU/w1zPT2f/FyvPN/YVKDlW8/hMT7L4fQAtj4ezem7s/mjBOX3taC5RvzMF2+PYxgNqJNMEkmfPoTB80147odH0Vc+it5X3L+OW7PxQRw6FgOfi+KLS0uYX/J9NGMJ0WfiaP5yjWEJuSQmv3MAwz+dRPSbk2LbtUP5lq9g5VMvgE8DtHFbNZr+t//AWlyeOf0CDnxkJ1oMq4PxTzgeeG4UsckxHPql2FhIfj2J3pdvRx9rO881nsXgiwnndlFSg7aGSQxM5Pb15dkfjGFW/F0MStZ3Yf+3tA4afawDA78I0rb9kEb8+zPY8PUWaB8AK8PKj0zi9Hlxn3cmMXGlDX1bWIs6HUX0HW3zcrPsilhXekbFZ1Rgsv1GjIovLPo1OE7X4tv0ZMS43ZhP/W/j/puK2xrw1F/3gHep1A86sftoUtt+A5JKxHC1JsK6tJ2SdY+hp7VaVXplv9uFns95fP7vrggeHIkXThhKjYYKNHx9Bx7bsiH/Ci0v1KCu4RCi0/kWyk6kETs2jrrfNc/cX/ZPOLI+1LOrTm1XJXe1oefLEdf1d8vva8bi98eZWRWepeR80RdSiGwbwtAfcis+jt4nDiB+WdueF95mhtQdjyCSKcgkzsYbsG4N25BOYOA/bkHH5z+myez7E1jl9uZHAbmuPuihKz+OrvQKha5Y9fvpOG3X8dp/I1Oyfgee7lZVMcbaOzEsXk/KB+lzURz6zjDivxYbGOl3mAIz/PbPEpKvMW9nXy969w8jZnXfl5jHOHIAB9j9Js8lmPf4BFq/NpxRlslzY6gut3+ce+lNds3no5g1CJKlM3Ek3QQLXwQdZ5EsUAjBzWhYHvjCIgdwaGLW4N0tYfZk0jUKUL3uQQyfDGCepOIY+/4AensG1HtZlUvqJPNqv8PycZS1GebpdnPva1o/apblcQPWifWzi0Go9r36LmxIxZC4NsJPOVCBliefRgvXxSd7sXVvgAiRB6mfLyHyGVbD0zHEpuOIsTYS/9/3o40vqVgSQdfxrLy+eFFzJIrBdaOIjUpYh/8Oo4z18/Rkve5ykJo+xAQ9F/Zu6RBiF8QJ1wUlqNk1hIMP8L8nsf1R1ujzYd2+M4YDpyNo/ngc9QdjYmMSozu2IppR9vwjAeJPV1KY7OrA8K3N2LGrBz1fr0OyZwuGz4nd3Er+g24s1e5g3lAdlvq+jJmaHXj0MxXCO0njyiXmjXzErNrSbx7A8C0Pozbdi+5jwkdJx9D/bwcRX9R+qh8ysEmYVaj8zFVcfV/8zDNORsPykEb8uWFgcy2ufrMbo6Ku0j/tx/qDhiXtLi/ZBG/ZKiaVZ5O+hjj4cMCWnrOoae1CT28XHikbRUdPLHP91LEObJ2sQNvXd6Bt9av48rO/ibbt/wGVK8XbqxfOIVG+Civd3M9CErp9r0LF2mnMvid+Xs/c0YLnDu1Q3+FNfefL2JaXiFoaZy+tQoQZWjO/OI3Tb51FPL6A6jX8LtcWy6qIjcrPmLz2cZyUpXF7EIXKj9WTX2T580pOlNc+xgQ9F/Zu6THUGcasrCRfkSlvc5q0eKWyPPpJ/mEC79tDGet2NxO4uVq3s9NX0LCF+Y0/fxUNayq1jakEYj9tRkR4MemfDmDbmLcHlWYG0LY369BUKxTpLRV4sKEE2/vEeqp/P4nekxFUqCGqCiboZpnnlEJda50I4y5hyaYd0piZrcDD61NITC8icofo6G/FMbpuA+4SdTj7g20Y/FmQQGAaiaOWOn3xP2Nm0mrEjSEhLWS50bBsXJ7B2TseRg2vqyVWph/VNs/+fBSRmrvEhxNmMbxjEBnnVOf2Smy46ufrS0xhffMJVG5uRoX4OltZ7YPYwIT5oZP8VwrTfzOGVdWaIVVyx92omBjH6dta0LJOaN6rV7C0ZhVTa8UhfPsux6o1rDEWyIiTIZMNbikIJb/bg7/SI2r/5x6M5Txey5TvVdbObqtRjbAdX2lD1xci6H5p2hYxKTbX3Ze1vCo3iGLNFzxPxbjvtczSK0/g048cQmp9D372t12GMRqfnBzD2EeZsNQNEeZddt/+Au59a0Tdlv5pN25/8V78/V+1eI5zxvetQD2mcHFXjfQrQOq29gimLnah5kIUHf9+Go+cegYNH0oz7/mTmNz4X/CMYayXXy+28SK61osNOm8Po/HBFHrm2HXYz+T3G/HJCz24qAoXJ5IY29oN9GvP5cmFMQy8WYsuX19ASyH6WBVmH5XkVSWOgRX1wHGn/Rrc4IvqEQMHqht3oIGH+yTwcqhP9WCOlT9/3uHmTyL5pxfRc5+2Xwr/+tJuYL/sa03ql5nG0ay2BdkzaNsSh/mX4sqQ2P95PFn2HCa+XA2cO4TGr17FU8d3ME9J8IsBVD1bib9z+DKUry9HLcUx/P0ZdwF/2wa0tdbIhwlCtm9bW2RlM/Ye6zey+rwQw6Gjp02fpU1OMw+8VjcyNW797YfxWK2f9lUIEjiw6d+h+2Q5Wo78HYY255CP08xgvcocHmNZvNmLFd+921aX6aU0SvLwuczQqHOnlxn1NZcCvPIT5Jp6HpxSEIIez1mIPa8MPjvokZ5XXl+WdyYKwKXXlT2fbVdGLe86+sb6+tIbe5TSpuzrGjN771TuVz8gckWZ/8kRZc+Tg8ophzdeZvayOhWvLy38uF0p/Sw7Vv2loX4Z6M5+se2UcuTP+5X+J7Yp2766Tel8yf5O66mD90u/Qqa+T515L1j7WlnnT/g7E4vKzEv9yp4/H5e8AjOj9Jfu9v9RgndHlf4AX0Djz+78ehK/t9v+fDCvjP4fpdnXkVj+t5Z2Kq/yYvnVjHLkmT3KnqjkeZLsOKevNanX0F9fOqX036mXs472XO0/1s5e5B+teXa30rljm9L+eL/yurVN8uu5fBkqzJejAhOyfc88Zam/gK8vzeztZ6V1bTH/0lZlk8s7+n5ZGOu3vY526tn7RbkaWHhV2f24rG8uH0UZI87FezSGPawpCHoe+L/WtBz4Dk0XyzDNCeblPf4MSr79HFryNAsxtTAP1NwtLPdZnHojhYZPMZ/mwjQSq5ux4fKs+6QoQXntI3gsxY41TIJZuJBEzR83aB7ShXM4fUsN2p58Bgf/8iCeabXPXK3+ZANmZu1jWIsXZtD0iUrt+MsJzBxrwoZPMP/nZAyLn2vAytNJLKhHGngnicTme3F3gYzxWz8cQaJQM8F8sYj5eBPu5bNUGekzM4g2blBfJYm/sYjmB1Yi8batVFiFzyN6x+0+JplF0PDHNZg5x9qHzq8XkCx/DI8Ir2729AwqPvcneOovDmLoL7pQZ22THy7DqmPzrNUWj3DtO4XkuTqUh/7W8rVH+uQAtk83Y2iX8XW7MCwh8cY0rhjd/3fGMPhaE/Z/yTw7HuUN6PuLIn1jWnBdzZrm6IrSqjz1RPgljaWlJZEsA4xpfbuWgo3x8sUgujH/6Bi61udPu5TXNKPtzVEMvxbFga9tw8BPH8OGtWzH6gY0rY4hmra+osNZQvzFJ9D/Mvvz5X488WIcS/w1q7+twfQ3nsChiUmM7duOgfRT+NE20TlX12Dd6UZUfez2jIH3yYe6MWkYryqpqUXbiRnbe67VG3di6dgooq8No7e9G4f4+DAX+uub0MAEaqy2NhsOFSwlYli5paFgQkBuNGgzmbu/thvD7Nfwn25HN5+xW5CBs2o0bF/CD1+OYnKkF609hxD5zF2qwqlpbMD8T2O214Y4yfMJNEXutgvjtyfR3dOPGfZffw+rl7f56y8/wlNpJsD3jWFy4hCe+MY0av72KTSI9rDuvmoc+PTHcPv/LIz2qvXoeN7wjm5ZNdY9kEDSOibJ7nWg7wlse2YGeKMf277RiwOvFEZdh2vfSZx9oxZ3OwwJLBfpCwnEJobBJ5eOTSe18DwzRBOW+SmeMEX5xPcqcfCQ93CTN7OYXd2C9PcGMPZaDJNHWXt/4Qp2/lUXaj4kDmEkp8cwvL8Xh07nOpMlR4RnvOxYQ8HG5IXsHD0FQXa+noIQ9Phrgl+dVV6PjSp7Gvjzmr8StTj7qjL65EPKnQ/vUUYnz7p/4cdC3j4VZwlNL8zOK4vqQhBXlIXoNqX0q+OZfPHQIQ99nk2cDRTO4p+htH6X9+x3N1m+8MPu95Pdyv2Pv2oqh/nvbVX2xIx3W1TmZxfEYhVXtBDYs9kQ2Mxe/jWfReVUwhgAm1eOPNqvzASKwTl8Z9iJK68rezaaQ/HLyuK8cpY/Mv8O8iXrh/VnlP4/OKLM/+qUcsoUF3T/cpkjouxNLL6qdG60fO2N3e/5NvMH/udfekjZ5utTiYUhVPtODCoPGdqYynKGphdZOf7HTcpDf3pEeZ21ff6d64XEqNL/7KCy5/e3BhuW4gvItLG85Ovb66xsBt/Q/pT1c5Xzr6rf1V/8SWdmGKNYFM0jlnmzevJCdo6egiA7X09BCHr8NcFt1aiLlKGk6Rl0lQ9j2GDpl93VgIbPVGNndw9aHqj2/Q5q8pUn0H2+Dc/wr9QEJZ129rx/MYD7P828n/dKUHbLaQw/n8Qzf9SUydfir1ehIj2J2X/RXzHyR0mZfR3k9KUkVt1m9E9LUL6mAisvmfNX8aU+3P3KC5nZyqlj38Anf/8Q4uz4sqUJDL68AT2tuqe3hMVfRfCbyUmkDNdOHj2E1KM7UBMocFCCkkAPWYe2L8ws48cxjKQQ7fokPv9iHPhQGRZfGcTwfT1oWyd2Ly0i9anfxPxrKfC3lTK8PY7xiraMR+ubW1jZWyfcsHb13z9cjjKDF8TbfuXtC0j/i/jNqNi8A2U/yO3jGKEJ1b7TiI2dwiNb7NGEINRsZ+1P/B2Id6LYXteJ1Bd+hKPfakPdXayMWX8qX9eCxz4+i4FFEQ3yA/OeD3xtGJW9Zm/VL2nJkFTqHFDNIwoMWT9X+TiTcx/nQxencG+RX2n6H/6cIf4mbjb+/sd4Y/VO/N7/8hM8OXwLfq99Q+YVjtPRn+N/3fxZ+JnIy+FjO3/0w9/Bvm9txEfENv8sYXL/j1FyfwSZN15/+X/jW89+Dyf+aQ1+71MlSKXSWFUyi+8dTuDf9DyLtrXZnvWRTzfgEx+rZknW24KxKvIg0uNP4cDx8zifiCN+fAyHfvphfKO3DdX/ShykshKfuK8Ek6PvoPre1Vj5zyn84z99GL915QT+08tpdBzqQW1GkZRgTcMGrPlYBNX6A74dxUsXfx+P1wUvraCsvPd38Mvvvoz372f1m3sRBeDDSL/3j1j6V7+Fy8f/E/76SgeO9NRmDbuSNWioWYPKe6vZkTpJjPXHsemJh1HxG2JTLny4Gv++8r/i2wMvY+bcLE7PxDH514dx/rPPoWvTR5Apjt+oxGfvmMS343di0z3Z3CwLv3E5cPtOn/w2vlfyNez4t5Z3xP/pDM780yfwCb8d9zdCNAj+rv3DjZj9yn/Gc5JZzSX/46/wX9+/Fzvv95MJVt9/3I1ffeW7eNTwzL45fQDf/scIPvuvjeem8cbP3kPks58wtCsnkjj+7au4d6d/WVcQhGdM3IScOtivzdY9f0R5qPROQ6j1lDK4N8CqQPxD9V8NuXqKssjy8ZB9GUQiv1w6pRz5Xu4zUQvN/I8HbasKLSfzk4PKeJBlQIvBpdeV51+wz+Y/+zKf6b9Vef7nYkOBmP/eQ0rpnS7LDyaeV/b4WpjkijKzd2vIFdsYyXGlM8dlENUZ85Zhp2JAivimZUEZ3au/ksHH5Eqz41Kscfp+RSbs2I5Y1Wb37/NVm4q3DihBEEFg/f1OJiueyv2lp7DzSdRVw57dqvyb0lLlzrCrqjH5w8eNr5zYLX0Vcbm57j7oQeSJdAwHflCJHV/SxnN5aPmBTTN49NRRNM8OYLy6S/seqxuX4xhoqsf0J3rQIF5PceVSEjPxWSxdmkfspGE0rnUE/+0vs2NiBEFco6gfU+nArUfmcvrYRvJoB+r3XsXDX8gOh7mxMDuJ0xfYv2dimM28jRdB39/9DDv0OQcBSHznkxgs68Pd07OoOxBubDqfkCK+WWGKdwBdhq8RJTH80CfRu24CL344jt/s1L4O5UwasX2teOYNP58hdKdm+wh6HiA1TBDXPG8PY8u927HB8WtsCQyPAG2ZiYoS3h5Dx+PDyHllyZUteOZIG6rFz0Dw775fvopb+UQusamYkCK+SUk8N4DFji7UGVrh0sR2fGxrApHup/DarrprooESBHENoX6KsxFXf/jfTJ991eHfxB6+rQuPhfBSb2auuw96EPkghXOLlai0aNqyB1rQVZ7AXXdJPqRAEARRsgEP/1kNDv1g0v6q1ztjeGHxYVLCIaDXl24ykq9048k/6kbvaAzn/9/fQqTuE/iIPvP/lkqsVP4BJbVtiPxPYhtBEESGW7DqM3X4nfi38KVn38AtpR/CpdQ5nPybw/jx/9eErubcv4l1M0KhaSJvBF7B5P0UUkvlN9S3cgnipuFyCrNnziJdfi+q78htrPVmlx0Umibyw+UYBnaOwntFYMblWUy+eABPPFKF4aDfoyUI4trgQ+WoXl+HSI5KGKlJ9H5zEr6WJrlBZQd5xETRcFzXlyAIwoUbTXaQR0zkTPrtSQz3dePAL4q8gglBENcV18zqR0WGPGIiR1KYnFjAhlteQvf7PTjYeCtSv5jB2X8Suy2s+kQdqsW4DnnEBHETwwz4STRgw+wT+Ea6C0Oby25a2UGKmMgDS4h+rRvoPYimAJMnSBETBBHfV4+Zz00F+kIWKWKCsMI/e/fd2/HiF1YieUc10n/zAqYdZl5UPLADTWJ5MlLEBHGzw7/oN4q7f8S/5JdG4gc3p+wgRUzkzplDeOJnlaj9aDkaGiM+ZlAmMfmdKCanuzFf0Ye6B5qw43P0/iFB3HRwI35/GZ77iwaf35q/MWUHKWIiP6TTCLZiPUEQNy3vp5n/y+TFz7rx5V/vxMiW4i7MX2xo1jSRH0gJEwThk8Rz67FtJIoDL63Ezs/d3EqYQx4xQRAEsbxcY6sfFRtSxARBEARRRCg0TRAEQRBFhBQxQRAEQRQRUsQEQRAEUURIERMEQRBEESFFTBAEQRBFhBQxQRAEQRQRUsQEQRAEUURIERMEQRBEESFFTBAEQRBFhBQxQRAEQRQRUsQEQRAEUURIERMEQRBEESFFTBAEQRBFhBQxQRAEQRQRUsQEQRAEUURIERMEQRBEESFFTBAEQRBFhBQxQRAEQRQRUsQEQRAEUURIERMEQRBEESFFTBAEQRBFJJQiTh1txcBJ8cMnYc6J71sR+ByCIAiCuJ5wVMRcca5YsUJLXxxDSmyXk8LYF8WxxuR5nkYYJU0QBEEQNwJyRXxyAFXtEUxdvIiLLM01jqNqX1zslFGOliPasZn01hCaxF6CIAiCIORIFXH8RC96jnehRvwu37IfQ2fqM55uVXtU7HHhvXmgsZapaG+S56NIJP34zgRBEARxYyFRxCkkzzSh8qPip0o5KtY2Yegt4SEf9vJ1Uxg7mEDzfX7UML8fED2f1H4ZQuL1feomgiAIgrhhCTVZy4vU0U6MN+5Hy2qxwY2Tw+hAD3rODGLsAve+RzLh7alucQzn5ABTzq3qMQRBEARxoyBRxNz7jWL+PfFThXutUXTc4x2a5h5t1fmdGNnixxuOY2BTAkNPd6FrewQdIy7j0Ou7mHIe8afcCYIgCOI6QeoR12zsQe+mAaYmNbiH27F2KuOpykPT2sxproQv7tJHl124MIbWFfVIHBaeM1O0c2sGscJ1UhhBEARB3FjIQ9NcKR5OoF6fnDXRjDk35aoq1SrMb2eK2o8SZsRHOoDDcybPmYeluTJuPUoTtwiCIIibgw8oDPG3b3j4ebhiBF3rxQYfhDmHf9AjtvFioHMIgiAI4nqiIJO1CgJN1iIIgiBuQK4fRUyTtQiCIIgbkFChaYIgCIIg8sP14xETBEEQxA0IKWKCIAiCKCKkiAmCIAiiiJAiJgiCIIgiQoqYIAiCIIoIKWKCIAiCKCKkiAmCIAiiiJAiJgiCIIgiQoqYIAiCIIoIKWKCIAiCKCKkiAmCIAiiiJAiJgiCIIgiQoqYIAiCIIoIKWKCIAiCKCKkiAmCIAiiiJAiJgiCIIgiQoqYIAiCIIoIKWKCIAiCKCKkiAmCIAiiiJAiJgiCIIgiQoqYIAiCIIoIKWKCIAiCKCKkiAmCIAiiiJAiJgiCIIgiQoqYIAiCIIpIOEX8/hJmT05i7PkDODASRSKlbU6eTmBJ+1Mlvm8FBk6KHwFIHW3FihUr7GlfXBwRx8CKAfZ/M47nieSclxTGvtiKsQvip4Bfr/WoeDjfGK51csCQZxcujKH1i2PsTFk+2LOq+wwYr5s515lwz0EQ1wbSfm3oV/F99r7rhWef4H3Mek9D8uxPPvqlJivk11eT1/m55jGDLk/lctANz7Ln5eCUJ77PRT5K9YdUpvL8m59dTXr5edxHRmCZ6au+nQmsiJMT3djy4DZMLpSj5g/b0NYYweIPBnDgO9vx+YmrKBPH5UL5lhFcvHiRpTkMbe7BlPo3S7tqxBFysufZ01S3OChfWBqYqeKdsHWc4AIkDMnzUUTPJ8UvB0TewhhOxM0NF5grJIaxo4DUk0/BZevXx3vQtKZC7HXGpMCDCsn1XeZ7GtLc4SZxkAvvzSN6bB7uva4cLUfk97j41hA87xIojw5K36NcpEaQb7nF6v+ecTS/pedrDs0TVWYF11evXTOgorRj0BN6OtLCStgBJu8CKVqn8pO2++B80P+F0ojvb2TKthp90RHsYAq4oqwMZWUVqPt6AzA2jAc/VS2OzRMXpjF+rBcxVTkYC6IeveoBQWhC5UfFnypGIVGFjmNRdNyj//apkDYPYU6v9MAdhxsZrAxXi31B0RvwPR2Iik1SWIOrP9ODnjP1Ls/EymJTL3qOX0TXerFpGVA7eagOqNVdeKNBa0vG89W85GDRXvdwQyzk89fs4oI/gXrb+TXoyrR3S/LTX6Twtgrs3OIoYjXY81RNNGf651zjOKoCPJ9mXMhTVXsUkQq3+/M8JtDTzcrEtX07CXeWvPq1D8x5zCp9rqSbDs9p9eCmrBh25yaA3DoZQ+LwfrRkjmV5eHoImJjO1kP3lHZd1ckyl0d9H9C7Kfs7mOIsBE0YyhgVeupirTx3mEesKzp3Use2Yet31+Hgt9tQ/SGxMUM11v1uEzass/vDxoI0Jy8DgFXK7g5EunvYNfixRutxitk/ueIiJFgqvEJKYh6V8LbrGcc6UGUsO6Y0Mw3YUaCJRn2wEnNHutB1ZA6VB9lviWBIHR1ELzMq2pZRCeeGVnf5rCNV4HgIJcKZ8i070XNsHNNGT0kWNdJTKEXDDbB64LhV+OlGtO6psbZ/MIGhp7P1Wb5lP4ZgyZ8L3LiwygQ9uXnEmgc5iMq3RtC1awRzawbZbzdZJxPuIl2L7ZE7R2vr8qJ87LhECFgacTW+elFva2f58VaXA6aIe1DnJdAuxzD4J2OI/NljqLMpYc5VXC1pwDqLleTWmN0tCd7hmJe6doo15i7N2s4pjJtC8oz404It9LJMXhFXfonGWn8dzeh583TczQzRvMUVKzqBp9mxmc4sGvnGmHjWrNCanoiiyZAX7g20Hh3TrqOXh0momuvCXIYDGODehKrwNWPA5nlKvQSzNWw8xp4f/owiD1JhbxDItmuKtnVMGIni+az5Mj2TsU2o9xvAmGG/1FKXHGduW3o9Wa8hnu2oNlSgbfdZNjxlykc/3iyMZM+lbuPGnTD4MvXlUOdaWY2JPOnXr0FddxTjb1rKwtp2jSmAotE8VK7gZAaYrsxGhPfFjNxjVq+tHBVro5h/T/zMiYgluqbnbwU6sd+QD24AcI+yDjFRjva2Yo7EmVN4RcKHo5zIDFVl6td/hDE+wpyjjT7V8Po6RNo7DbKCtWPmXMEo92ShaTFM5r8csk6VydvPk7e6LCg+WBjbqpSWblVGk2JDQVlQRttKla1jC+K3IN6vlLaNsr2cGaW/tJ/9X8D3lZb6TJbz9mZ+qajPKrZpz62d1x9XN2V5d1TZmskPI/Nby3/mfpbra1jyz8/Vj+fl/K7YrsKONd6HY31e6/4giHsbn29mL7+uNX+GfKn3F/vVvw379GdRn1srC+O1beUr/lbvmSkrXj7Z82z5Ufdby0nDeB3na/rIl6FMTb/F82Xap7VsdKzHiXtq97C0cdM1tHxm8+32HGJfpmz0tpfNj/Fc63OZrsvr0diOrM9lqHP1OpJntl5fvYbxdyi057XJAwMze6154ecY24sGf1693HhepdcU9WbqX47JXga54JgnKznlUbQvW3/iv3n7cXkm3gYM7ZKjtT8tGftTBkteTc/H91muJ20zxraptkPJtQTSMpTdh13Hrazt1/EoG9Nz2tueF74ma6nWVXkEd90hNnigW4e+ktESUtE8N1sYgo+vOlnQxrFX7i3qYVs18TC2cSA/mJWkW1fBwqDCQpd6rty7kYTXVM+Bj7+I30ZChaaDYB0/58/dlslf6s1xRLt3Zsd61rexfGpDGvETvexYwzjQ6hbsDDwxLoWKVvYsmcl4Fai0lIMxP47w8fA+VtdivMnrmnK0CEHPdmNY0xp27cmOUa6uYP6Rk6dlOI6366dZXfXFVOu+9mlDG1evYYS1n9ZM6Qcom3LUNrLWYKirijXs95kku4r9uWpas/mx4lbnKsZ9bljbrimZIytyNG/HLSxZsyvrgWrwMkogabo2j4rZ27kN1n5HMrLCK1nv6x+ZjORjz9H2Ktt2m4w05pH3f1PUgcsQY7jbnEd1GIrJDh5lHAwy5sq9500QfctI9l5SGWkpT1M98n226/lAyD7tWubIkq0MTVGoApOph+CeuC9FfCXN/veZSqzSftpYem0Yk78WPxjuIWlL8qoIW5iCF24SbfkIOzAFro3hZK+tTvAI0zh8oYVFxxvnAih2h7FshzyGM4LcQ3aqIaaHkNSkhXbzRznKubDI1HWI66uCIsGEgt4uwl6ThzWtApsL9nyFNbmC0PKWDRO7hQbzUDYq/LksczZcxmnzUucWIczfXOATArPt2L8iM74mY3plhpeLzJjfHkHH7qwQTh3tRMdan8YDRyZ3DMk0UdDjWHPSwqx5lZF+YX2ksz2iKlNuXJrDxs6o7XQ3sD+MzDUNb0iSzMjYPm9xPJgB4DiM4T7XR3Xewir8ZcSXIq6sqAPOL2BB/DaTxPjpVdhwm/hpgCuF8DNbRQPgk42shatWVPjxEyPaGI7BigwwbmWy9j0nn3AlzD1hd+veCb9lKevg5nETQ+KNc3UtmpmHlUg6243cq5Kdz42Jmo09zAI1dGjW8Qb7xN++EWOgJ+rEtR0iA46wsmXlD9MMzbDXlCldmXIOCx+71Kx4bTyR581t8mGuZaPDn8voKelJLlzd6twJrryNcw2KCjey+Uxp0T8DG9imNxzMyTZZS3aszVPVk7G8zd6cLeXVm+N9hL9KpN+fKbC3mjF+j5sc1dqe2k6DyEUjFmPMlJyieaI8s4abDwOAK3yn8uL7bMYacz9k0QeWnGdnO4znS64dFF+KuOKBR9GSGkX0Te4aG1lC/PlXcfcfNeTl/WEzPJQG08zHDGqYzBp6CkbWG+GJW/uWQmaV6voOoKyBuTZWzXILFuL2Ac9H2E6iooUzo8ZXCiyU39cMWJQtt3JVw4ALvMPIlt0984hkQtN8ggzzwk7oDTWO4XaZuaIpukw4Vn1tTfvTD/F9zKPsnrIYOGGvqZVH70GjN8VnlTej1q83laHXEP5jQm03M9a661BzIcn8YkPY+mTMxSPOrWyy8Odi9WTyEnkfkAti1zqXEkesrwnN9/FnEsaD3pdEqre8jqInZ8FnJNs/+XV0+NAIHMLrpldvgvYRFy+Xhz/zg4s3l5chJyP8XpYIhCrD3JScwzBhobCUub29eDhfTsMgMifJxdCSP6+Y7Co5Ph8RC1+KGKub8NyPvoDZr65nlsUYJqdjiE0cQnfPD3HrHz6GGulM6lyxC44MJ4eZ4szhHVyGqZPKEuu4vl4tugHQxkA7MOwkZHmHVa1nvWFrL+lrRkUKyQrds+OpC3Vsq/7BhZpdzNvLhDhjqJS++lGDNqMy3w3sZMf1bvIxhqh74KYwKj/P7ZpC2aqd3N65eduweVOhjJ0eNDN/QssTM/bWTokoBB9HN7xuwbzdqW6uaGSCJoeysSB9Ll0Qr69T2wDfpypG1zq3o4096qFfF6ElScaxPmelnPXm9Y/zcEOiHtp4p/v7uiExzTUxp7wb1ISrctSSh2fsNEM/70aNH7zaswUxacsnV5TF5Cnl9fhZZeGS2OSCcUadPfmcWWaYJZdJbjMxbTP75DMo/eB7FqMJw+w6W14cyMwUdJ6Z516WLrP5GL6eQ5SzdOajC1q+DPdXZw+65+emQC2HcO3uekNrA3l4VpeZrOb2z9rXGGuvBjnA27ivvibw7BMyuWNMbjKIk+nTIfF7vu04j9m9UnzOmpZgn7EeAJ73AHWm4iRT1f4mqSc9BbxPYNmfY31/gP9P6GSCCAcPKfGZ3ILl/kLXNQkP5d4zj51+xrcIUV7c6w4/E5kgrldIERMEQRBEEfE3RkwQBEEQREEgRUwQBEEQRYQUMUEQBEEUEVLEBEEQBFFESBETBEEQRBEhRUwQBEEQRYQUMUEQBEEUEVLEBEEQBFFEgini9BKWlkS6LLZJSOvHsJR+X2zMIFtxxONj3iExL+ygJfWj9ScHtG+A8q/5BFzhhF/T9/dDLZiWbxPI8mhNjvfj+Zd8YzfXVa+uJ0LVB/8SmFpuvC16tL0QbYQgCCIIgRTx0nuzOHViEK0f+xg+9nhUKpzSvziAlk9/DJ//5jhmEvNYMiliLvi0pQBNH+U+DtR7KmP5ii6Z5CAsrUu5+fn0olk5+v+4vlypup9vXnxCLHFn+Xh5PlY/0dYpLozBkw/c8pe/+gjx/O/NI3ps3n0lLoIgiBz4YBDhVPbxGmxYCdT+WQ9wJilZnziB0X8AaphGbGhpQ0NtBOUlYheHL/fWPWVXhuu7MNXdi5inFydbT5UlP6trcM9GF8iG7yJb4cJbW5VGvzZfgcaf8Lev6MQVq79VojRFVIX57ew8fWFs2YoyxqXC+PJexlWHnDw3dk59Xw+m8vLdYy2i4cvjVsvcqX1phpV+Hb6OsrqKjuUZ8lcfU+jZXBlwRS32rJsS6Oku0Oo+BEEQDOYR+1GAWWbPlKDmgXLUnV7AomV54uSxc4hUA5N4DBvWio1G+FJrTHHYhLhQFHWFXChAXXtTCOXjTsuw8zWQI5gyLnnHztt/GBh/U6ri3OFrx66tc1F+WS9/cI3muatGir4c2MaYULIGZWZcKowbIMal2qRL9bF7HOxF0+G2PC0+UKB1lRnacozjmM4o2TzWB18DeG2F76UMNW96EJVvjaBr1wjm1gya64EgCCJPMEUcRAEmce5SNe4uX4nb2d+//LXYzHkniviqRqw8P4PE5g2IlIntJrgQnwKsi4NvQp68NTvR9irTvcKO74YhPtKByEa3p8qu2yoNP2eUrkPZ8LCp+NMRdSF584Lt2TKweLeqB5v1NjUvXaSMR8jPMXqk2jUy5btvwHQNTtIQItbuzc+pQscxsfB3xguuQV13NJzR44F3XWjoz9wJvsZydiUgzbuuQ8z0HARBELnzQc/Flo0szWK+PILy8lW4m6mA+ffEdiZGo9NlaLzvKmbjUURq7nLxPDSPKuPFuSmaHLGHioXCYwpO/Zd7ySYvki8YbwmPMuXU2Q6hyALAvXxYw/B88XdNkHPlZ1J0Xkk2KetEAk1nBl3DtKk3x9ld9fA4U/zbexCdmNaej3uJ7J/eE9q11WPF4u48bzz/WrnNYehMvUT5cMVerw436OW7E70W46AX46pSY/uZB4/2TpZf3ga08XC+ZKLRk69Y05TNX77qg50zeGYIbca6UEP6LO/ipw4PkWfaiY1s283HuD1BEAQn2KzpM0xsR/goWwUqmRA9+64mHpdeexUln6tDCWYx82I5mmoi6vYMqqclUS7S5Db+l1VkpsTHSsURdswemy1ZxiS58p5rHNfGaHkKs0Yqf17u5e+ymhfZMW6uoHWhb0xzh5tsE8zUZLkWD53WM7U38nQzxnebn8GGcWyUDw+I8C9XvOjuYco8qZ6fPB9F0xp+ZByxPpbXVv2eFgWuo3rbPabnrGm1jtf3YKeutFZXMJPAaMB5k3t9sPrn5zxtCdurxsMUyx1BEERxCaSIEz9ngvYe/lcZbr8DOPfeAnA5hvH0g2i4jW0+PYNJNCNyFz/GgHF81jM5CdlsGJcnm8KSjo9yZB64SA6TvMyedDAlrI4t7gb2B/Tyde+4qj2aDac7TBDix6oTmLgC5GWrTu5yGb80zfrlRhRXhnz8lfnKG9tYjXHFrClf1dNUPWWL0eMywa3QhK4P1QDks/R9nmOcCOeZaLyYIIj8EEARi/FhdRZ0CVauiiCxmEJsYgl1jZoKTJ5xGx9mcEG37LNPXTxiV086KNr4qzq26GgUyOGKVZ+sZUxTzOe1lpfqCZ8ZwpzxHnws2eEVsPL7mpmxkUAyE2Xg4d4m9J4YxjzzZuvWl6NibZR51YPo3dyMWq6wVM+Vz7I258f2XKtr0by51zSjmI/F5lKmqlfeWBuo/KRwJax6zwEmlhknwumJG2uW18m0VJjhFIIgbj78K+JfJ3CWjw+Ln6vKK4DvDyNZ0yTCnks+xofDIRtLNXmOxiRV9BKloieDcpHdx5RcjQjNYw8+dsg9UUP41kDNrin0iLCxjuodyhS9qkQkymE1V5bmCVCqcu7rRW+3NqO7ZmMPoseMCpBPmrIoWF42ljC+9swsj4ZXqAZZWXu+SuaIwSvnv3KpDzUKEyyaQRAEUQx8KGLm9e7bjvpNrRh4tgPbn0+Av7VUXhFBzR93oe3j7IjpQ+j+2kPofBFYeGkQ3SNxppbzh2ws1THZxmX943mfHK7tjF3p6cT31aM3wCs3csT4bvtw1ltezZUzxHgwg48bs38iFdk78bJQPXKh9NSJWzID4CRQZyijkdZKttHPu9PCM1dn0GuefOoo88rFZDFOceojCOL1M1cDjSAIwgNlOYn3K6WlpY5p69iCODCfzCj9kntlUz87wj8LY1tD53Nm71Zl9F3xw8LMXnvewt+nVOmPix8C7frBntWTd0eVrTyve7NXVe9j+O2XsPkLVR+8Hap55G3D4578GdtGFcc78P0hnpcgCELnA/x/QicTRAi4V6i9E6zCx1NlnvMNCZ9/oH2ytRAfOCEI4uaAFDFBEARBFJFg7xETBEEQBJFXSBETBEEQRBEhRUwQBEEQRYQUMUEQBEEUEVLEBEEQBFFESBETBEEQRBEhRUwQBEEQRYQUMUEQBEEUEVLEBEEQBFFEwinipSQmRw7gwMgkkpfFNjf4knS2lXsKh33VnlaM8YXwj7Zi4CQ7IPByjPwzjto1ghPHgOTZ1XWLTXm0p9ajDiXGy1O6SMQK7flMiIUJ9OuazuOfaAy4rm7QulzmuicIgrjeCKyI06cPYeCVNDa07sCORuBA27Bh0flCYFEk1uQg5HuOG1fq8bMcnuU+vpWHQ/48zjcvdj+Hoc1so2Xd2+BLKlrheavC/PbsNefWDHoYIXLDwRmn+qGF8wmCIPzwwUAC83IcL7y5ATv+sBrq2v9lK1H+2mnM+vGKc6IJQ29llUkm8UXbxRGOcO9XKAe+hrEcTWGNN2YX559rHEeVL4WkrUNsy5fP5Qs1710oy+3zqOJ5lSlKw3OsuKcDUcMawI5K/8I0xjGENsOCBOVbdqKnL5ZnJSmrH1o4nyAIwg/MI+5FzBbOlJM8FkPFlghKxG+8fRYzD6xD9YfEbzeOdWhKRpIcQ7D5QF0wX1MOc4cd1DZXWGunTB5o+Zb9TIWNYzpEODr15jgiG93UUNaLHFyjKX919R49rxtjomwMRpLhOVRF3z2V/X3TrHZEEARx48EUcQ/qfC3hlkJ8KYI6zCI2HWPKO4bhZ+J45NttEMvLO7O6BSO60pCk3EOwdrQF57PJPnZaKOIYbmfl5FqmWS9a+uwZpevgVb43Dyff3sTqWjSjA8OGZ4/vq0dvdx15qwRBENcIH/QdQkyfxZXyCPOCZ3D6F6cxOxtHPFWNu24X+zOksVTwULU7NbvMip4n7nHycdmM57nL8NRcYZ2pN3nmqaOdTIU1o9ZzbNkMV3Q4binTTDRA83Dtk8lckmxS1okEms4M+pg8xhX+HCoPZq9XD+ZJG599ObA8P0EQBJHF/2Stvz+N9F3lKFvfhh1f34HHWrvQ9qluvPTTJXGA4BfD2Pb9BFPHDD5jVlconsltVnIUHfdIzuFjpeIIG173Nik4TWE1T1Rl9ldNNAde4J7PhOaKzrZIfGYSlqagZYYCD5s3Hc6OUWeSRWlq99iJkaebMb47xBi26Xo16FqOsVzL8xMEQRBZfCvixM+Be9eJHwYWLqsqN8tvP4aRbWIc2SMkbU5OM5vNisSmsJyUpdu9j/eIg4xYFFYgJayN+XZif2BvU/eO+USyaLswBBxmNfNjVQOB34M/nzq5y9vL5MpbPg4f4vUlgiAIIq/4VMQpnFtcZRkLTmDmlQg2MC9ZI43ExDAO7RvApNWzLca7pG4e8aZecVAeUO/TCTwdfKybK1Z9spYxTTGf16qMVU/4DPMsjQYCD7EfB+rzrUydJtY51qFDxMLBoCAIgiCy+FPES0zpvnFFCzcLkkcHMdm4H48KLzn95jQWN7Zhw4dfReKX2rZckY2lmjxHY5IJfct7uaaU8Vy5V2i5liW5TvRSPW8/7ylbiSPW14OdEuVds2sKPWeSJqWnvncs89LViV3eIV9pma2oh90k4eFqSXnxJI0SWCIJxhQwOkAQBHEz4k8Rn5tFeUuaebtjmJyexNh3unEovRMjTNDqrzKV3NeAug8xzzl+LyIfFxtzRDaW6phCC30XxSOSbcw3L9SgrrsX9RIDQp3Z7PM9ZL9Ix58vMoUv9i8f4tUt8pYJgiBUfCniBJOZda2PoW9XIzZEatHy9T70tUa0j3oYSZ/FKWxAxLaDUYz3iF3u6f/LWYWDGxpqGNqSNzVcnWdv0r9HXGiEB03eMkEQhMoHFIb42wHmwTyXQMO2BrvitXJyAPXxBkxti4gNBEEQBEG44e0RX07gv5dLvF8j6bQ6fpz8hxk8WENKmCAIgiD84sMj9mIJ0a/VY3bjnyA5fSu6Bpu8v7RFEARBEIRKHhQxI72Epau3oqws8xVqgiAIgiB8kB9FTBAEQRBEKHx+0IMgCIIgiEJAipggCIIgiggpYoIgCIIoIqSICYIgCKKIkCImCIIgiCJCipggCIIgiggpYoIgCIIoIqSICYIgCKKIkCImCIIgiCJCipggCIIgiggpYoIgCIIoIqSICYIgCKKIkCImCIIgiCJCipggCIIgiggpYoIgCIIoIqSICYIgCKKIkCImCIIgiCJCipggCIIgiggpYoIgCIIoIqSICYIgCKKIkCImCIIgiCISShGnjrai9WhK/PIijoEVA+z/4eH3GzgpfmTg112BFdb0xTGoObswhtZ93neN71thvzY/V7+ODdl9c3s+9ZqS+/G8me9jT/Zy0XAus6B5TWHsi60YuyB++iTTRk4OYIWtHvg15c+jJteyt+ffrT3yffZ7BH8eEz7blhF5fTiQKbMQZR8ib3Kcy9pennryyqus7xiSU74l/THTb6XtKzyy59Pvo7YxV9kgx619cpz3S+qfP68lf1rS6ypMH3ciZH2FgZer7B6GNuXWh6T7QvUF9swB6zcLr69wZe+oiE0NMlDGrJVXj172X71pmyWzDo3LW3D1YOriRVw0piMtKBd7nTAquPo+oHdT9rdbh9GerR44brnncbDnc6sAB8XjUa41u4z3mWJPy+ieMmy7iK716qE5Ysmf3/oOXW/laDlifDZDemsITeIoDWN7srYld8HP23DV+Z2S++zE/D1u5/J7BuxQDmXh2p5CCnX7fbwUoBPmvupdb6zmtoxIylNLU93iIDc2D2FOcq6adtWIg/KHvLz0JC+3psNzpnz56WPm+wSvj2h7leF8PVWh45g4QGd9VyZfc4eb0JORRV1wLz2rXLYkqcKqQZe4ly3Z+qkFR8VqSMa2v7oFI/q1j/cY6mAELavFMRaMcryqPWqS4+5GQvB2r+Egx0P3vyxyRcyEStVEc6bDzDWOo8q3wLBUnlphTRh6y7DN2mgMjUtPU91NqPyo2J9nzArOnEa2uKjxkzH0MkVo65gs/1PdvYg5VqhE8fByWVvhaTRkK38QlawM59YMqpUvE/BuDdNZIfDrV2G8MSt8fNd3pt64kZA1ioIZB6xTuN7LRRi4dNKiYDGSeHJtTyHJCl8t+VKANni9G43KKYC1Fy+h5KbYuFHrybEOVEnO5cncRg1C754ORI3nBfRyrIpVS3MY2iwOcMKoTDb1io12VIPPIC8vvtWMcVdDz07wPKYwPcH6+IkgZSFxXPQkNYJclDevE3GUFKNi5YkpV5sR5uA0xU/0IjoxrckEg4HLZZoRNznubNRp7T6RKW/e7v3WldyBCNf/zEgUMcvowQSGns4WUvmW/RjCOKYDa31WkazCIt0RdNwTxMOII3amGbWeQtbqafPk8z42i83Heevr0NNXbxdWrLHU9/WgLoACSr05jshGNxtW7wRVmN/OK1xTOrpHsh+dWr4NSszYMM3WsotCuDCN8bVTpv3h6ztPSAwUmwLwIYx5WemGizlxo+YaU+I5EWX9Szybl4DUOTmMDlbvWaOJGTxMWPoR7HKlwZOPMnXxiM1t1CVqUgDPWYrFS5PDFWIEU0alws7bfxgYf9PTlM3g2yMWpI52ooO7ODJ5pMtF386TG0GVtwwmyzYlWG6ZMeXVb7ksPTOEobUd6OSGmSUCYMdgsPHkdX0u75h0259pa7zdc/2kX4NH3ZYfiSJOYv5YBBWmDlWOirVRzL8nfvpA8840i7trFyvMtyox6LNxpI4OItFYaxPGZgyeEu8kGW/EK0TD4QbCPHbq5/PE82fMm7DAzVY6v6fmOWQ7C0ubwBqrn/vqxDHcHvFQ3Nnnk3mYmRChg1WZPO9LHOeHC0kk2H9Jprh1r9xqvfqGCz9rB+cRGkuImStYY91ogsxu2cpDqQVSwkwomtpFHkJW/jBEnLxChoJUkgnGNRXil+CjlWg6k/Tsn3KloSXnyIvAxSOWygaDR5T7XAx/WJ/P85lyxNRGef2ZjBV7W+V9rIrJj6kjIxhhxyeYPDLnUShPH8N03sicHT35qA+1/jTDd4QZVpphLO8XqrHNFDZ3Alt2TSHC68FVsXIlbI7mTYH1Qbdz3ptH1Gro83af0R9iCHCZCTVZyw3dcxlcoxVORono1uX2eYmCM8A81c6JZoPFoqGHWQvdKTKIzmD3JA0GQCYFUcK8I3EDxXJORkDxxm2x8jySvUx4RKEJiYM+LOLVtWg+U2+6hmZt+4lIaHDvPsr+4x6A7pX7sl7VxCxQB+EcpK41L00ILZPw9kohhbuudI3KwxaaNgvRQG1Yvb6zR1Qs5IZNNrmH4s19h4f0TGF2q+LgUSvVyBX7rcZyAZA9n/pMzDNT/+VyzJTPctQ2JlBvzBeXYe1A831uZcGQtVNrGD6TtHbK5Sv3GOd0maPKVU1p+R/r9ItM1hmTs9zLDJOdqGPHZfuBVr77gd3a/kyeubHNjYvMsfzecxiyyCYTNu+WncUUeE9fLNunZf00Z3i0UpcbKSTPqH8IdMMloFxRbCwoo21bldF3xU8V87aFsa3K1rEF7UdemVH6S6331u7XHxc/VPhxpUqpU2obVRbeHVW27p0Rx0vg+03n9bOrCvg+fg3x036sW7Ln3wh/llJbvtjzGO/nwMzeUks5yOB1pR1nrydebobnzKCdk3kGU15k7cGIXmfma2fuHe+XPG9w1HIzlrPhmvbnzBWnchLI2pbHc/I82urO2s50Mteyl73sOrxdOJWNI7L8mrZZyoDvM97DNVnLztK+PFKmLm15zJaH6ZldntfWbkzJqV3zZ5cdL5Kkzsz3sddZYeRlEII8U8j6csOpreeC9JqGdivrp7JzrG3bM5/GvsHLSvZ3MCQecTlatkfQsTtrQage0tqdthCJDdu4q1uyhCdU6zCGOkkoxo6HpeYnJKN76Jnk4tXajnVLTvnXvMFO7A84xpX1IvlkGHeviltqWqiGRyK49bnzvFd4h2MZjwsQ0uLefeLwfvbMNWg7zDwDz3txjBalBd4OJNeweSqGMuT7ZJ6YbVzZlJYrbLwcBA9NY32b6m1kvShtHG+o1aFtSiZUOidrX3IZ75WkTF3ykKHRu1E9oGykRvWmHcduNUztxkfYV8NFvjiUr7l9+pFhWYyTLO3JOYwr94Cd+laQaETI+soHHjrE9Myra1lrEGPJAi6PervrXGS59RzR7jOTiYOGpnlZuegOn8hD06zTqTNnxcOrMwL9KA+pwjLPqM2mbGNVG6Iawgj4QLzScgo5OISAdwP7ZcrIQUl4ojauTuDpoI2W50+frGVMc2ieqLIoY36sNhvQeA8eKvYcNwmJGiZjV9fvx4URv1eQkLJvXOqa50N2T5vyNiTvmY4OY2Nu5WgbI+bJQ+HbwpDeIS3TaxoscQMtOFyAGOc78OESbwWSs3HjJGhl5crlifpqoDiGz+sIYCSGhyszQ96Mye9kuAA4z/71MbO7oLiUA08FkCluTo99uIu3YU0W6nni8sjd0dHavTr+rJ7jr90XGscxYpMQK3DjVxtiIC/RB7xCXa/JFZemHI2VrSY+jp3PMQW1cYWobDEG0mabrMUa09NDwPmk+M3hDUyu6J3L16OjseQ27qS2Ect1+b38GRsOis7lNRGniT5OE8PclIa78nLxiJzalKPH6FLvUqHjbozKjYuwgsT8nH5eO8vJuOFK2DpJUiR1Eo9MsJvKNYChHmL81YzLbGGDPHT3ZlkqhLISWA0yLVln/cqdDWN0zZjMBm3wyIBKLmXvZKixJO/nmtzL5MuXHgne7s2y0vo9Ay25yUov8j5Zi8gjq+2hFw3WuXZ3ANZZr4Fx6Wgi+WukYXAQdG6hRodXX+QTwzRyetXmukcI4Twqg/DGzTKTUyjdP87erEi+FEM4rO+Ta8kaWrUoKo9kNqJDRgZyLXuXV9wKJ4+8KKysvP4VsYOXpCW3UBlvoNnZe6Z0sBJzTlEAafhRS/kPyfI8mkMvWtLC1f48z2uVwnvEnJxetbnuYe3naZ9jxgGQKwCePIwbHgHQX2O0JPX1tAIqreA4tE81eQ8fLAf+POIccVGKBasvN5me19nP1w4f4DO2xN8EQdxQcI9GvMufJ0+Ce8Ruhg+PQFzfBiKRRWs/zoqdR7XCRxOILKSICYIgCKKI0BgxQRAEQRQRUsQEQRAEUURIERMEQRBEESFFTBAEQRBFhBQxQRAEQRQRUsQEQRAEUURIERMEQRBEESFFTBAEQRBFhBQxQRAEQRQRiSJ2+tB39rvN/DN3TitN8H32b/jyazp9n9Xhfh4fquernpjzYL6Hfb83bs8lvZ7L0nzOuJWFnDDPopJOITEdxfB3DuDQ0RiSS+pGJE4bV21yg+XV6/lkK60Ykuf3nH2VoXwFmUwqdB51MnkNWofe5WheTMH8jfRg/S2bt8Dthj9fAVcLyjfxffZvyZvLUZ4c69vh+YP3P95efSwJaSFTl9LlVsP3gWLKLiP2duzyTOL5A5V9iGfi18/e1/xswes9PBJFbFhl4niPYfUa5w+6Gxs//w6t6UP7rh2bV+wgKjOLMmeT47JooeH30gvcnJw6prGSrMuGOQtv3rgCNlYHReF8Dy+WkHi+A/VbB5FANR78Uhse+XcrEf/uARzoa8HAGXGYU0cI0phdVlpxWxUpw3vziB6bh7tp4LKCjJ+F8APl0aGduLbFHMuR1b+65reer7eaMX6PWZDrbS8XwWAWOobkms8wCsC5r6nJZ7nIlaq7gjMv0yjW87UsXJCfb2FbyiVAXZufR0ve9RqsD4STXRxz3flvb2H6jeGZ+DMY6ynMghK+ZEkWXkbq+sX6Pfna1x716GXohe2frqHp+IleRCem1YxZla0RtzVKC7miinn1Ea9VR8wGBrqzFeDUMd2WOMv7h+0N+cntHklEv3Y/Ohfa8KMf9aGtthrlZWUoK4+g5csVmN23iA1r9eUTJZ2bdwi23++dHYU7S7ydRCrcrsQ676YEeroTqA+j6HjKw0Lt5jxm2wlfXzez0pBrO86tHOMnEhh62rDa1+oW7D8MjL+ZFQl6PtTFG7jlL57favi6CYJse+ZL5RmWofRcb7wJQxJj2dkIclkyzvEcO3a5whVrBBU+lq/U2qW2Spm6vjgvH1kbMypG3paMq6s5CmXeHqsw3phdYnOucdzfGuYZo9BcB8EW5WD9xuNe4WQXfy5tkRDt2CmAyVh/ykVS59yR87lUa3xEW694OKQi8y9LdOKI9bHyN/ZrVjdTa8cx7dvQMyfP9bhdcFbErIHWnxnC0FptPVxjBuSejtUi8hOa4ZW3E/P3GM/Tkp9l0czLsVnX4dQVdfAQkQmD0NNS+NBM4Ukjsb8DrakuDP1ZHcrE1gy3RVDzQBM2rBO/JaTeHEdko3/jya3Du3nEmmHHoyEj6No1okVAXMvWQRnw5KlIlp+g5RgIvpygrBxYKt56rQZsfcaQcjGcLkxjfG0dkxpOZA22wTWaklTLQ1d+G2MiH4Z2ZoyWcCPBaBA7tSs1H1MmhVa+ZT+G4C7EC4rM6Asqu04Oo4M9V7YNMfnMlGnviXASjxuYzfd59UytzjTPdA6VB4N7lcFlybWHVBGrD8asC26lt+yaQoRZ3O7hDF6Y1hAzV7DGwhDre9qsFQfrOQ+etKao7SH1VDIB9MV8VBQzLu6Zx05jvvh6qkZrVKydGT6MnEfeHkXvN5Po+vrDkNuhi0h/KoJq8ctOHMPtEdTlTZhHUPlR8adA96A7sd9UN5qhV4eYEBr28oyiQ2KwaSl8p0ued1ILKSTPAIkky4fuNflWIsHKsWZjBB27DW2KCdDOdpiEmCw0bYpG+PICBBeSSLD+GAvtffjAbR3bkIYT95rcjZtsZELq9WWUrsPSfTy0Kf4sOGodJJBkiluvR7flJV3hhplNXgaXXVwu2jzYj1ai6Uwye44DspBt/Zlm1LpFL1RDQUQt1Pxr9Vd3gp3vI7oQXpZwalDXzXSSsd+ozqdHnguEXRGzzFQxITKVeTCuKLXF6cPGvzVEGEYt8Kzl6ic5KblgoWmdFKYnmH+1OU+CSAicvIeqLejP6qbw42O9mEQbHqwtEVusRPBYd4PdUxbE9/GwlEVIZRbptig7N69HpKr2XqE8s1EJ3YOWl1fWKDPvN4d+uaednbvAk4Ng9ZHH7PiZJXLCvZ5jTP3zoRldgPsMqwYqRw67vhra1PN1zziamXVvNCBNoWkGF3zG8S3uBbi1DSPcW8fmptCeTlHgQpI9r9njzxpnXDaZDBOvJDFcuAfXdGbQO4K2uhbNZ+pN5Z062okO+BfivA6i7L/xN1OZPiGPIMlkJZN1mfZkTn7bgEoeZZc1ZKsO62xvAQwK2mZoiMiONYqjlocw1vjf1v064WRJFn7+FGtVmfLbBEwFMBJ5e8tNJxrg6xHnhxmlv7RUKc2krcrou2KXuq+f/X/5mNlbqvTHxQ8DC2Nbla1jC4ry7qiy1ZInvs92jnqc8bkM5/B9baMKu5qBBWW0ze1ZJWUR71dK97qc4fAsZvh9Wf4eHbfkxx/82e15YHm1Pd/ywp89W/YeyaUM7XXFy8vYRs3w+/J2Yir7zDWc2/NylaOtTZjyli0TaXtWj9Pai+0atryLdmW4pinJnotfR3ZsJjmXuxT1evbyntnrfZ1Mf/cgU2+Z8ski73+WcjGd49621PagloG5HWXy6iEPfGOrB0MZSp5Tel/TNud2n0UrF1mZ8+ezlyPDo71Iz1kG5PWexbrfT3t0wnGMWBZqMCa7JWANMRster5P5rVYx5UtyU+4Ter1tCLZKrGkuLc/0Yz93ELi1piPWXL28TjDc/B918z4ZBpXLrF/1qxyzE/i+8NIiL+zaBa3Gt4JMxygh20dkqmdeBxrTprnqFu9vlIehjNUuPd1ZkhtJzWtQ0hs8hP6zq0cg/a3ijVmj1b1chtrRd1r0Sf75BEermTetjoxjEcZ+GQcrzkUkoloxiRr/5Y+Y5r0piazt++GWi67gf1OUQ8HjOHezGQ2B3nCj1VnrfN643lXJ3d51bmlXAJ5UvVIHN7PyqAGbYf9Ty5yfHWI9yvZNYLKrvVtGGKefratsXvyIcpWnyWv9m9tElsgL9uWz2xynAAVQpY4wnWIRQ/wNhHb6OyN29GGssLiqIitoQZjcpqE4+yqOzUiq/I2JD9hQF6A1nEQ9Vz76x9qxR2sxJyx8fGQI+90rh2BC1gHYSWpQA0xHh6kQRhna2aSl5A0Uo6Kteyf1CLU14WtXI5h8moEEfFTRTViOoGncwhPGSe7WJKtnciO5fUsHU80Cl4Pg83HeJJveJkYQ1RcSHgZbHkox6D9jR9vDKvxyY3u9+ZlqE1oMRvI1rkc1woGwyaAkuNwOaRP1jImtbwsfV0N8TOjyyYXeJ17KuPg6EMKel3p9RgopOyboLJLN870vsWHWHwaTVy+cqX9Vog+oPYf/Z7mxIeOpISWJQ5IXntS54f4hpedfwPTivOs6ZCYx2315DR+6yJgfUyMUb2Aw232QmbCk7/+Mf+e+M3hFSfr0Hy7pwfjMFFImkc3D8KhQcgalZqCVGwJNvxBD2peHMbkO2KTzvtJjL24hIe/YlLDwhIN33hUXCzT0JNPbORosAVBLRNLPTm1HZ18lGMITNECzzbMy1CWR6dolabQZPUqTaqC05SndZ/1PVY9uSsfrR8FN2y011J2Ss6r2TWFHsvEI9UAcpIL0nLxMApZkjsjGur9LHXF69HfczoY+Jvk0lUjiOzimPuab49QLa8c+oDL5D7/Xmk4+CRAbE5gUG+PzDAYZG1Wf3VXRWIsOLXrMG/q5F0Rm0NQerK/WpTF8D6jNXkIl/L7moH2YbvVygqNzzq1ztgNT9D3KAuLFsa0W+slv92FoR9WYLipEdufjyI2zbzgowfQvS+Bmm1NDjOp84DkHWg9FboTEYUj+LCAmxFqT6ryUQ254ILLGclsWAEPCfcGeEdejotRKFLh2ryDrOTfRXDk2pJd1xqZCAXzZnee528HxTG2uwMRpsemxKu7KqqxLSlHaQpukBTZI+Y4hXF58ggN8cLhU/Kt56nh6nx6KEGtysKihTHlXkzF5/ow8V/G0PO7q4CVldjw+R3o62ZK+BZxQCGQhtVFymfYmLjxYJ5ULh9CkGGbDSuSGq72jBxcyyyHR1wkHGaBq8l16DA8XAln5gYweMQk0l6vvk7FjSnejrhyLtT9jXyAz9gSfxMEQSwrGWEYcByYIG4kSBETBEEQRBHJe2iaIAiCIAj/kCImCIIgiCJCipggCIIgiggpYoIgCIIoIqSICYIgCKKIkCImCIIgiCJCipggCIIgiggpYoIgCIIoInlTxNr3j82fJlM/fn5yQPu4u3S1D3ecV3OS4OP6sjyaF/duNf32RxwD6n1dVjpxIkSZ8Dz6LpMcyj6L/nwyHD6An/kkHN/vvYJNoHqW4u8+YZDmzas8+X5buRjahtP5pgU0zG0pTNsMfA6//zJ8zo8gCDMOili+ikomOQihpsPmpcf8fPzctMJLECFgElos8W+n2r5XahbO2jeaDR/ndv1YugWJcPWlPEzneStqmbHAk/u9jAoxhDFguE8m+Vbclg/R+yhT66o+slVMzM8rU/j+FLz5HGNyKidz27fmzZdis30gni96EkGF27fPeXvmy3RmzuHLE3rUpW5o+cbBcPJd1wRBFAIXjziHVTuMwt3lg+Rc6fCVL/Rry9YLdcRx6UBjclh20IIusD2X7bMs1eVtaDDBxxdi18tRtk6yBNkKVm734qvKQD/neAQduwMKVtkSZAX89q95VZ85DG32MuKsK964reaVxXn1IO2ectxXEAq+LB9v54NIyJbrNBA/0Yue7cYy54vGA+Nv5ltFSlbwoe88E0RRKcwYsdEjcPSQ4hhuj2DKsBqKul5oX8zT08ni7LnLPAWbtymMBF1gyxZgzwVNAO/PrgLFyoWvk5xf4RpH7MwQ2nTFtb4NQxjHtIeyXz7EijEOXld8XxU61jJ/sb0qeHg6Y/C5re4VDllkwpQ/PfriZTiyPHaydr5zSzLrjV5rK98QBFFU8qqIo0yYGgWXa9jsQhKJzZWWNXIrULk5gaRPJcKFOF+yymTdi8SXr5IJdqvnxT0c3x6xgaygdlYCyfNRRCrMvkZ5RQTR80nxS445TOsRguXlKP7MIpY+c10ezRlzSDdXJSc8MKvXJYYW1IjIri7m8c6h8iC/X4DQesbg8+ch+4YrT74ikKGd8HvgoMGY0KMIrsvq6RERHpkxePWSqFLNxh70Gq+vKnCg+T7yVQniRidvitg2/sqSGsZb36X9y4VmnkNgNbt04W1PfO1RP2PUnDAecfZ586wEGObQNBfi2bE9f8aCGFYIMgZuwBzS9Xo+yxqpXspf92L18dCMItNDwnxslO03etAZz1dPQY2DgBPpeOSicdwy36AeMIWOPVANjUFUvuVzXWw+1LJ9PntPVYHnc01tn+hrS9O4MUEsGy6KOMyC0g6TQfRk7NyrKxA5Ng+zb5jE/DGPSS0mnMfznMbyrF574MlNAahY04RE0izOUskEmtaY4wDeZL0pm7HAy1H8mSVIGeaCdexWpIxy5fst4/S6F+tolIlrWvfbxrHZdTMKOozX7l5GMsMyY9i5GpViuOREHTsnoCI1zXswn8vzE2Z8OjDdYs5Gno1mgiCccVDEZgXHhb8ppOslRGXJFo7jk1ESqDeMsfFJR16TWlSsM6ZdUza0KxOugYVlAMq37ESkvTOr6NVwIx8vzKeIq0AlOjCsh+FPDqNjbZ13GeYLz7owhtY9ZuNbkueM4NChaW7wiT9dcJ117egxir5jCVnzoQzvGc7ckJUPRfg7nyCI65E8T9Zy8YglnjRXjOpMaXEMHy/0ZfVLZ0wzYSyb/WubOc3yGDbsZn09yvM6zDBRZ0qL4zPjhe5YX+XRktNYMRf8U4B+ziaYJsD5wvbal5Z8CX5TXchmQBufVx7BmOqWzxQvnAco8dQlOM669vPmgIkUpieiiE5Ma+0lj8M09giPV91ZhhI8jycIotDYFLHMC+DjktIOL50xKnk9Qk8S4WMSdgEVCM9r4Jm2LriG/zLelyH5Eaam87y9b7nXzpOb4jBGIrwVjAnZc4kUVBGmjnZivHEKzROGKEC+kBgLjsrD5qVXoeOYw1CLy2Q4R4844KxnbWb4FKbWsmfwfD1PriilcwOkBqlb3TlHrApn9BAE4YVNETt6AbIU1PMqKEzI0LhWkdBCzlXndzKBXsO83v3AbqZA/L4T7oWDseCoPFwUlD25GS4O79Lz5KutaREibWZ4jdq3tAiQs/J3MmTz/WqdL1SDpnBzKAiC0MhzaJojt+i15CaAwiEP42rJ0WNyCMWqiWaLBkAf8+0EnmYKI2OYiRD0xphaptdv2NPJi+bJXUFp3jSfNW0sF2HovlWJQX4NqaESwCMuNKpBU4SZ2wRxk/EBhSH+JgiCIAhimSmAR0wQBEEQhF9IERMEQRBEESFFTBAEQRBFhBQxQRAEQRQN4P8HYAY5nAsWxVYAAAAASUVORK5CYII=)"
      ],
      "metadata": {
        "id": "Jz3TDA6IfY5y"
      }
    },
    {
      "cell_type": "code",
      "source": [
        "# Logistic Regression 을 이용하여 감성 분석 Classification 수행.\n",
        "lg_clf = LogisticRegression(random_state=0, solver='liblinear')\n",
        "\n",
        "# Parameter C 최적화를 위해 GridSearchCV 를 이용.\n",
        "params = { 'C': [1 ,3.5, 4.5, 5.5, 10 ] }\n",
        "grid_cv = GridSearchCV(lg_clf, param_grid = params, cv = 3, scoring = 'accuracy', verbose = 1)\n",
        "grid_cv.fit(tfidf_matrix_train, train_df['label'])\n",
        "print(grid_cv.best_params_, round(grid_cv.best_score_,4))"
      ],
      "metadata": {
        "colab": {
          "base_uri": "https://localhost:8080/"
        },
        "id": "mEKxgktpfAC6",
        "outputId": "af64bf59-f328-4f60-f175-fc53137388cb"
      },
      "execution_count": 15,
      "outputs": [
        {
          "output_type": "stream",
          "name": "stdout",
          "text": [
            "Fitting 3 folds for each of 5 candidates, totalling 15 fits\n",
            "{'C': 3.5} 0.8593\n"
          ]
        }
      ]
    },
    {
      "cell_type": "code",
      "source": [
        "from sklearn.metrics import accuracy_score\n",
        "\n",
        "# 학습 data로 학습한 TfidfVectorizer를 이용해 test data를 tf-idf 값으로 피처 변환\n",
        "tfidf_matrix_test = tfidf_vect.transform(test_df['document'])\n",
        "\n",
        "# classifier 는 GridSearchCV에서 최적 파라미터로 학습된 classifier를 그대로 이용\n",
        "best_estimator = grid_cv.best_estimator_"
      ],
      "metadata": {
        "id": "omMF_Q8Pse4i"
      },
      "execution_count": 17,
      "outputs": []
    },
    {
      "cell_type": "code",
      "source": [
        "preds = best_estimator.predict(tfidf_matrix_test)\n",
        "\n",
        "print('Logistic Regression 정확도: ',accuracy_score(test_df['label'],preds))"
      ],
      "metadata": {
        "colab": {
          "base_uri": "https://localhost:8080/"
        },
        "id": "8U-IVjdFvgjT",
        "outputId": "0eb83c2e-74db-464b-975b-1b18ea86d36e"
      },
      "execution_count": 18,
      "outputs": [
        {
          "output_type": "stream",
          "name": "stdout",
          "text": [
            "Logistic Regression 정확도:  0.86172\n"
          ]
        }
      ]
    },
    {
      "cell_type": "markdown",
      "source": [
        "> TF-IDF 기반의 분석과 코사인 유사도 기반의 분석은 주로 다음과 같이 함께 활용된다\n",
        "\n",
        "1. **TF-IDF 기반의 벡터화**: 먼저 TF-IDF 기반의 벡터화를 사용하여 각 문서를 벡터 형태로 표현합니다. 이를 통해 각 문서의 단어들을 가중치를 부여하여 표현하게 됩니다. 이 단계에서는 각 문서의 특징을 추출하고 벡터화합니다.\n",
        "\n",
        "2. **코사인 유사도 계산**: 벡터화된 각 문서에 대해 코사인 유사도를 계산합니다. 이는 문서 간의 유사성을 측정하는 데 사용됩니다. 코사인 유사도는 각 문서 벡터 간의 각도를 계산하여 유사성을 측정하므로, 이를 통해 문서 간의 상대적인 유사성을 알 수 있습니다.\n",
        "\n",
        "- 이처럼 TF-IDF 기반의 벡터화와 코사인 유사도 계산은 보통 순차적으로 진행됩니다. 먼저 TF-IDF를 사용하여 각 문서를 벡터화하고, 이후에는 벡터화된 문서 간의 코사인 유사도를 계산합니다. 이렇게 함으로써 문서 간의 유사성을 정량화하고, 유사한 문서를 찾거나 분류하는 데 활용할 수 있습니다."
      ],
      "metadata": {
        "id": "Da8yBgrdt_9Y"
      }
    }
  ]
}