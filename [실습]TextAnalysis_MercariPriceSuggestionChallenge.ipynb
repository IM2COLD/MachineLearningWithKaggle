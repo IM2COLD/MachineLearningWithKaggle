{
  "nbformat": 4,
  "nbformat_minor": 0,
  "metadata": {
    "colab": {
      "provenance": [],
      "gpuType": "T4"
    },
    "kernelspec": {
      "name": "python3",
      "display_name": "Python 3"
    },
    "language_info": {
      "name": "python"
    },
    "accelerator": "GPU"
  },
  "cells": [
    {
      "cell_type": "markdown",
      "source": [
        "- [for more study](https://www.kaggle.com/code/mrfirdauss20/price-prediciton)\n",
        "\n",
        "- [Mercari Price Suggestion Data](https://www.kaggle.com/datasets/djohn8/mercari-price-prediction-train-and-test-data?select=train.tsv)"
      ],
      "metadata": {
        "id": "cbpy9Aqfwhdr"
      }
    },
    {
      "cell_type": "markdown",
      "source": [
        "### **데이터 전처리**\n",
        "\n",
        "**데이터 구조**\n",
        "\n",
        "- train_id: 데이터 id\n",
        "\n",
        "- name: 제품명\n",
        "\n",
        "- item_condition_id: 판매자가 제공하는 제품 상태\n",
        "\n",
        "- category_name: 카테고리 명\n",
        "\n",
        "- brand_name: 브랜드 이름\n",
        "\n",
        "- shipping: 배송비 무료 여부, 1이면 무료(판매자 지불), 0이면 유료(구매자 지불)\n",
        "\n",
        "- item_description: 제품에 대한 설명\n",
        "\n",
        "- **price: 제품 가격(예측해야 하는 타겟값)** =>  제품 예상 가격을 판매자들에게 제공"
      ],
      "metadata": {
        "id": "7vjgqQvzvNcf"
      }
    },
    {
      "cell_type": "markdown",
      "source": [
        "> - price : target data\n",
        "- 'name' 제품명,'category_name'카테고리명, 'brand_name' 브랜드명, 'item_description' 제품 설명 : 비정형 텍스트형 피쳐\n",
        "- **item description과 같은 text 형태의 비정형 data와 다른 정형 속성을 같이 사용하여 회귀를 수행**"
      ],
      "metadata": {
        "id": "rZq57Y1e2Brj"
      }
    },
    {
      "cell_type": "code",
      "execution_count": 1,
      "metadata": {
        "id": "SrdrHCevvI2I",
        "colab": {
          "base_uri": "https://localhost:8080/",
          "height": 287
        },
        "outputId": "c68edbda-e6a7-47d4-e346-ea4fddff5ea9"
      },
      "outputs": [
        {
          "output_type": "stream",
          "name": "stdout",
          "text": [
            "(1482535, 8)\n"
          ]
        },
        {
          "output_type": "execute_result",
          "data": {
            "text/plain": [
              "   train_id                                 name  item_condition_id  \\\n",
              "0         0  MLB Cincinnati Reds T Shirt Size XL                  3   \n",
              "1         1     Razer BlackWidow Chroma Keyboard                  3   \n",
              "2         2                       AVA-VIV Blouse                  1   \n",
              "3         3                Leather Horse Statues                  1   \n",
              "4         4                 24K GOLD plated rose                  1   \n",
              "5         5     Bundled items requested for Ruie                  3   \n",
              "6         6   Acacia pacific tides santorini top                  3   \n",
              "\n",
              "                                       category_name       brand_name  price  \\\n",
              "0                                  Men/Tops/T-shirts              NaN   10.0   \n",
              "1  Electronics/Computers & Tablets/Components & P...            Razer   52.0   \n",
              "2                        Women/Tops & Blouses/Blouse           Target   10.0   \n",
              "3                 Home/Home Décor/Home Décor Accents              NaN   35.0   \n",
              "4                            Women/Jewelry/Necklaces              NaN   44.0   \n",
              "5                                  Women/Other/Other              NaN   59.0   \n",
              "6                           Women/Swimwear/Two-Piece  Acacia Swimwear   64.0   \n",
              "\n",
              "   shipping                                   item_description  \n",
              "0         1                                 No description yet  \n",
              "1         0  This keyboard is in great condition and works ...  \n",
              "2         1  Adorable top with a hint of lace and a key hol...  \n",
              "3         1  New with tags. Leather horses. Retail for [rm]...  \n",
              "4         0          Complete with certificate of authenticity  \n",
              "5         0  Banana republic bottoms, Candies skirt with ma...  \n",
              "6         0  Size small but straps slightly shortened to fi...  "
            ],
            "text/html": [
              "\n",
              "  <div id=\"df-fd42d1de-e6b5-478f-86f2-5af531125c7f\" class=\"colab-df-container\">\n",
              "    <div>\n",
              "<style scoped>\n",
              "    .dataframe tbody tr th:only-of-type {\n",
              "        vertical-align: middle;\n",
              "    }\n",
              "\n",
              "    .dataframe tbody tr th {\n",
              "        vertical-align: top;\n",
              "    }\n",
              "\n",
              "    .dataframe thead th {\n",
              "        text-align: right;\n",
              "    }\n",
              "</style>\n",
              "<table border=\"1\" class=\"dataframe\">\n",
              "  <thead>\n",
              "    <tr style=\"text-align: right;\">\n",
              "      <th></th>\n",
              "      <th>train_id</th>\n",
              "      <th>name</th>\n",
              "      <th>item_condition_id</th>\n",
              "      <th>category_name</th>\n",
              "      <th>brand_name</th>\n",
              "      <th>price</th>\n",
              "      <th>shipping</th>\n",
              "      <th>item_description</th>\n",
              "    </tr>\n",
              "  </thead>\n",
              "  <tbody>\n",
              "    <tr>\n",
              "      <th>0</th>\n",
              "      <td>0</td>\n",
              "      <td>MLB Cincinnati Reds T Shirt Size XL</td>\n",
              "      <td>3</td>\n",
              "      <td>Men/Tops/T-shirts</td>\n",
              "      <td>NaN</td>\n",
              "      <td>10.0</td>\n",
              "      <td>1</td>\n",
              "      <td>No description yet</td>\n",
              "    </tr>\n",
              "    <tr>\n",
              "      <th>1</th>\n",
              "      <td>1</td>\n",
              "      <td>Razer BlackWidow Chroma Keyboard</td>\n",
              "      <td>3</td>\n",
              "      <td>Electronics/Computers &amp; Tablets/Components &amp; P...</td>\n",
              "      <td>Razer</td>\n",
              "      <td>52.0</td>\n",
              "      <td>0</td>\n",
              "      <td>This keyboard is in great condition and works ...</td>\n",
              "    </tr>\n",
              "    <tr>\n",
              "      <th>2</th>\n",
              "      <td>2</td>\n",
              "      <td>AVA-VIV Blouse</td>\n",
              "      <td>1</td>\n",
              "      <td>Women/Tops &amp; Blouses/Blouse</td>\n",
              "      <td>Target</td>\n",
              "      <td>10.0</td>\n",
              "      <td>1</td>\n",
              "      <td>Adorable top with a hint of lace and a key hol...</td>\n",
              "    </tr>\n",
              "    <tr>\n",
              "      <th>3</th>\n",
              "      <td>3</td>\n",
              "      <td>Leather Horse Statues</td>\n",
              "      <td>1</td>\n",
              "      <td>Home/Home Décor/Home Décor Accents</td>\n",
              "      <td>NaN</td>\n",
              "      <td>35.0</td>\n",
              "      <td>1</td>\n",
              "      <td>New with tags. Leather horses. Retail for [rm]...</td>\n",
              "    </tr>\n",
              "    <tr>\n",
              "      <th>4</th>\n",
              "      <td>4</td>\n",
              "      <td>24K GOLD plated rose</td>\n",
              "      <td>1</td>\n",
              "      <td>Women/Jewelry/Necklaces</td>\n",
              "      <td>NaN</td>\n",
              "      <td>44.0</td>\n",
              "      <td>0</td>\n",
              "      <td>Complete with certificate of authenticity</td>\n",
              "    </tr>\n",
              "    <tr>\n",
              "      <th>5</th>\n",
              "      <td>5</td>\n",
              "      <td>Bundled items requested for Ruie</td>\n",
              "      <td>3</td>\n",
              "      <td>Women/Other/Other</td>\n",
              "      <td>NaN</td>\n",
              "      <td>59.0</td>\n",
              "      <td>0</td>\n",
              "      <td>Banana republic bottoms, Candies skirt with ma...</td>\n",
              "    </tr>\n",
              "    <tr>\n",
              "      <th>6</th>\n",
              "      <td>6</td>\n",
              "      <td>Acacia pacific tides santorini top</td>\n",
              "      <td>3</td>\n",
              "      <td>Women/Swimwear/Two-Piece</td>\n",
              "      <td>Acacia Swimwear</td>\n",
              "      <td>64.0</td>\n",
              "      <td>0</td>\n",
              "      <td>Size small but straps slightly shortened to fi...</td>\n",
              "    </tr>\n",
              "  </tbody>\n",
              "</table>\n",
              "</div>\n",
              "    <div class=\"colab-df-buttons\">\n",
              "\n",
              "  <div class=\"colab-df-container\">\n",
              "    <button class=\"colab-df-convert\" onclick=\"convertToInteractive('df-fd42d1de-e6b5-478f-86f2-5af531125c7f')\"\n",
              "            title=\"Convert this dataframe to an interactive table.\"\n",
              "            style=\"display:none;\">\n",
              "\n",
              "  <svg xmlns=\"http://www.w3.org/2000/svg\" height=\"24px\" viewBox=\"0 -960 960 960\">\n",
              "    <path d=\"M120-120v-720h720v720H120Zm60-500h600v-160H180v160Zm220 220h160v-160H400v160Zm0 220h160v-160H400v160ZM180-400h160v-160H180v160Zm440 0h160v-160H620v160ZM180-180h160v-160H180v160Zm440 0h160v-160H620v160Z\"/>\n",
              "  </svg>\n",
              "    </button>\n",
              "\n",
              "  <style>\n",
              "    .colab-df-container {\n",
              "      display:flex;\n",
              "      gap: 12px;\n",
              "    }\n",
              "\n",
              "    .colab-df-convert {\n",
              "      background-color: #E8F0FE;\n",
              "      border: none;\n",
              "      border-radius: 50%;\n",
              "      cursor: pointer;\n",
              "      display: none;\n",
              "      fill: #1967D2;\n",
              "      height: 32px;\n",
              "      padding: 0 0 0 0;\n",
              "      width: 32px;\n",
              "    }\n",
              "\n",
              "    .colab-df-convert:hover {\n",
              "      background-color: #E2EBFA;\n",
              "      box-shadow: 0px 1px 2px rgba(60, 64, 67, 0.3), 0px 1px 3px 1px rgba(60, 64, 67, 0.15);\n",
              "      fill: #174EA6;\n",
              "    }\n",
              "\n",
              "    .colab-df-buttons div {\n",
              "      margin-bottom: 4px;\n",
              "    }\n",
              "\n",
              "    [theme=dark] .colab-df-convert {\n",
              "      background-color: #3B4455;\n",
              "      fill: #D2E3FC;\n",
              "    }\n",
              "\n",
              "    [theme=dark] .colab-df-convert:hover {\n",
              "      background-color: #434B5C;\n",
              "      box-shadow: 0px 1px 3px 1px rgba(0, 0, 0, 0.15);\n",
              "      filter: drop-shadow(0px 1px 2px rgba(0, 0, 0, 0.3));\n",
              "      fill: #FFFFFF;\n",
              "    }\n",
              "  </style>\n",
              "\n",
              "    <script>\n",
              "      const buttonEl =\n",
              "        document.querySelector('#df-fd42d1de-e6b5-478f-86f2-5af531125c7f button.colab-df-convert');\n",
              "      buttonEl.style.display =\n",
              "        google.colab.kernel.accessAllowed ? 'block' : 'none';\n",
              "\n",
              "      async function convertToInteractive(key) {\n",
              "        const element = document.querySelector('#df-fd42d1de-e6b5-478f-86f2-5af531125c7f');\n",
              "        const dataTable =\n",
              "          await google.colab.kernel.invokeFunction('convertToInteractive',\n",
              "                                                    [key], {});\n",
              "        if (!dataTable) return;\n",
              "\n",
              "        const docLinkHtml = 'Like what you see? Visit the ' +\n",
              "          '<a target=\"_blank\" href=https://colab.research.google.com/notebooks/data_table.ipynb>data table notebook</a>'\n",
              "          + ' to learn more about interactive tables.';\n",
              "        element.innerHTML = '';\n",
              "        dataTable['output_type'] = 'display_data';\n",
              "        await google.colab.output.renderOutput(dataTable, element);\n",
              "        const docLink = document.createElement('div');\n",
              "        docLink.innerHTML = docLinkHtml;\n",
              "        element.appendChild(docLink);\n",
              "      }\n",
              "    </script>\n",
              "  </div>\n",
              "\n",
              "\n",
              "<div id=\"df-54ff7c76-dcdc-4815-aeab-7c612ccaf8e9\">\n",
              "  <button class=\"colab-df-quickchart\" onclick=\"quickchart('df-54ff7c76-dcdc-4815-aeab-7c612ccaf8e9')\"\n",
              "            title=\"Suggest charts\"\n",
              "            style=\"display:none;\">\n",
              "\n",
              "<svg xmlns=\"http://www.w3.org/2000/svg\" height=\"24px\"viewBox=\"0 0 24 24\"\n",
              "     width=\"24px\">\n",
              "    <g>\n",
              "        <path d=\"M19 3H5c-1.1 0-2 .9-2 2v14c0 1.1.9 2 2 2h14c1.1 0 2-.9 2-2V5c0-1.1-.9-2-2-2zM9 17H7v-7h2v7zm4 0h-2V7h2v10zm4 0h-2v-4h2v4z\"/>\n",
              "    </g>\n",
              "</svg>\n",
              "  </button>\n",
              "\n",
              "<style>\n",
              "  .colab-df-quickchart {\n",
              "      --bg-color: #E8F0FE;\n",
              "      --fill-color: #1967D2;\n",
              "      --hover-bg-color: #E2EBFA;\n",
              "      --hover-fill-color: #174EA6;\n",
              "      --disabled-fill-color: #AAA;\n",
              "      --disabled-bg-color: #DDD;\n",
              "  }\n",
              "\n",
              "  [theme=dark] .colab-df-quickchart {\n",
              "      --bg-color: #3B4455;\n",
              "      --fill-color: #D2E3FC;\n",
              "      --hover-bg-color: #434B5C;\n",
              "      --hover-fill-color: #FFFFFF;\n",
              "      --disabled-bg-color: #3B4455;\n",
              "      --disabled-fill-color: #666;\n",
              "  }\n",
              "\n",
              "  .colab-df-quickchart {\n",
              "    background-color: var(--bg-color);\n",
              "    border: none;\n",
              "    border-radius: 50%;\n",
              "    cursor: pointer;\n",
              "    display: none;\n",
              "    fill: var(--fill-color);\n",
              "    height: 32px;\n",
              "    padding: 0;\n",
              "    width: 32px;\n",
              "  }\n",
              "\n",
              "  .colab-df-quickchart:hover {\n",
              "    background-color: var(--hover-bg-color);\n",
              "    box-shadow: 0 1px 2px rgba(60, 64, 67, 0.3), 0 1px 3px 1px rgba(60, 64, 67, 0.15);\n",
              "    fill: var(--button-hover-fill-color);\n",
              "  }\n",
              "\n",
              "  .colab-df-quickchart-complete:disabled,\n",
              "  .colab-df-quickchart-complete:disabled:hover {\n",
              "    background-color: var(--disabled-bg-color);\n",
              "    fill: var(--disabled-fill-color);\n",
              "    box-shadow: none;\n",
              "  }\n",
              "\n",
              "  .colab-df-spinner {\n",
              "    border: 2px solid var(--fill-color);\n",
              "    border-color: transparent;\n",
              "    border-bottom-color: var(--fill-color);\n",
              "    animation:\n",
              "      spin 1s steps(1) infinite;\n",
              "  }\n",
              "\n",
              "  @keyframes spin {\n",
              "    0% {\n",
              "      border-color: transparent;\n",
              "      border-bottom-color: var(--fill-color);\n",
              "      border-left-color: var(--fill-color);\n",
              "    }\n",
              "    20% {\n",
              "      border-color: transparent;\n",
              "      border-left-color: var(--fill-color);\n",
              "      border-top-color: var(--fill-color);\n",
              "    }\n",
              "    30% {\n",
              "      border-color: transparent;\n",
              "      border-left-color: var(--fill-color);\n",
              "      border-top-color: var(--fill-color);\n",
              "      border-right-color: var(--fill-color);\n",
              "    }\n",
              "    40% {\n",
              "      border-color: transparent;\n",
              "      border-right-color: var(--fill-color);\n",
              "      border-top-color: var(--fill-color);\n",
              "    }\n",
              "    60% {\n",
              "      border-color: transparent;\n",
              "      border-right-color: var(--fill-color);\n",
              "    }\n",
              "    80% {\n",
              "      border-color: transparent;\n",
              "      border-right-color: var(--fill-color);\n",
              "      border-bottom-color: var(--fill-color);\n",
              "    }\n",
              "    90% {\n",
              "      border-color: transparent;\n",
              "      border-bottom-color: var(--fill-color);\n",
              "    }\n",
              "  }\n",
              "</style>\n",
              "\n",
              "  <script>\n",
              "    async function quickchart(key) {\n",
              "      const quickchartButtonEl =\n",
              "        document.querySelector('#' + key + ' button');\n",
              "      quickchartButtonEl.disabled = true;  // To prevent multiple clicks.\n",
              "      quickchartButtonEl.classList.add('colab-df-spinner');\n",
              "      try {\n",
              "        const charts = await google.colab.kernel.invokeFunction(\n",
              "            'suggestCharts', [key], {});\n",
              "      } catch (error) {\n",
              "        console.error('Error during call to suggestCharts:', error);\n",
              "      }\n",
              "      quickchartButtonEl.classList.remove('colab-df-spinner');\n",
              "      quickchartButtonEl.classList.add('colab-df-quickchart-complete');\n",
              "    }\n",
              "    (() => {\n",
              "      let quickchartButtonEl =\n",
              "        document.querySelector('#df-54ff7c76-dcdc-4815-aeab-7c612ccaf8e9 button');\n",
              "      quickchartButtonEl.style.display =\n",
              "        google.colab.kernel.accessAllowed ? 'block' : 'none';\n",
              "    })();\n",
              "  </script>\n",
              "</div>\n",
              "\n",
              "    </div>\n",
              "  </div>\n"
            ],
            "application/vnd.google.colaboratory.intrinsic+json": {
              "type": "dataframe",
              "variable_name": "mercari_df"
            }
          },
          "metadata": {},
          "execution_count": 1
        }
      ],
      "source": [
        "from sklearn.linear_model import Ridge, LogisticRegression\n",
        "from sklearn.model_selection import train_test_split, cross_val_score\n",
        "from sklearn.feature_extraction.text import CountVectorizer, TfidfVectorizer\n",
        "import pandas as pd\n",
        "\n",
        "mercari_df = pd.read_csv('/content/drive/MyDrive/Kaggle - 파이썬 머신러닝 완벽 가이드/kaggleData/MercariPricetrain.tsv', sep = '\\t')\n",
        "print(mercari_df.shape)\n",
        "mercari_df.head(7)"
      ]
    },
    {
      "cell_type": "markdown",
      "source": [
        "**Null 값 확인**"
      ],
      "metadata": {
        "id": "NS-AyrTKBcRb"
      }
    },
    {
      "cell_type": "code",
      "source": [
        "print(mercari_df.info())\n",
        "# brand_name의 null 값이 너무 많음을 알 수 있다"
      ],
      "metadata": {
        "colab": {
          "base_uri": "https://localhost:8080/"
        },
        "id": "xWmd61qi7cth",
        "outputId": "a55b8ccd-b2cb-4330-d683-3306f2f620a5"
      },
      "execution_count": 2,
      "outputs": [
        {
          "output_type": "stream",
          "name": "stdout",
          "text": [
            "<class 'pandas.core.frame.DataFrame'>\n",
            "RangeIndex: 1482535 entries, 0 to 1482534\n",
            "Data columns (total 8 columns):\n",
            " #   Column             Non-Null Count    Dtype  \n",
            "---  ------             --------------    -----  \n",
            " 0   train_id           1482535 non-null  int64  \n",
            " 1   name               1482535 non-null  object \n",
            " 2   item_condition_id  1482535 non-null  int64  \n",
            " 3   category_name      1476208 non-null  object \n",
            " 4   brand_name         849853 non-null   object \n",
            " 5   price              1482535 non-null  float64\n",
            " 6   shipping           1482535 non-null  int64  \n",
            " 7   item_description   1482531 non-null  object \n",
            "dtypes: float64(1), int64(3), object(4)\n",
            "memory usage: 90.5+ MB\n",
            "None\n"
          ]
        }
      ]
    },
    {
      "cell_type": "markdown",
      "source": [
        "### **Target label의 분포 확인** => 책 속의 오류, Only 잔차 residuals만 정규분포를 따르면 된다.\n",
        "- **회귀에서 target값의 잔차가 정규 분포를 따르는 것은 매우 중요**\n",
        "\n",
        "> - 선형 회귀는 정확하게는 타깃값이 정규 분포를 따르는게 아니라, **잔차가 정규 분포를 따른다는 가정하에 만들어진 모델** 입니다. 일반적으로 skew된 타깃값을  log 변환하면 이런  이슈들을 전반적으로 개선하기 쉽기 때문에 적용합니다.\n",
        "\n",
        "- https://socialinnovation.tistory.com/145\n",
        "\n",
        "- https://walkingwithus.tistory.com/606\n",
        "\n",
        ">- 선형 회귀 모델은 종속 변수와 하나 이상의 독립 변수 간의 선형 관계를 모델링하는 통계적 기법입니다. 이 모델은 종속 변수와 예측 변수 간의 관계를 설명하기 위해 사용됩니다. 선형 회귀 모델의 기본 가정 중 하나는 잔차(residuals)가 정규 분포를 따른다는 것입니다.\n",
        "- 잔차란 모델로부터 예측된 값과 실제 관측값 간의 차이를 의미합니다. 선형 회귀 모델에서는 잔차가 종속 변수의 예측값에 대한 오차를 나타냅니다. 이러한 잔차가 정규 분포를 따른다는 것은 다음과 같은 의미를 갖습니다.\n",
        "1. 정규성 가정: 잔차가 정규 분포를 따른다는 것은 잔차가 평균을 중심으로 대칭적으로 분포되어 있고, 대부분의 잔차가 중심 부근에 있으며 극단값이 거의 없다는 것을 의미합니다.\n",
        "2. 등분산성 가정: 잔차의 분산이 예측 값에 대해 일정하다는 것을 의미합니다. 이는 잔차가 모든 예측 값에 대해 동일한 정도로 퍼져 있다는 것을 의미합니다.\n",
        "3. 독립성 가정: 잔차들은 서로 독립적이어야 합니다. 즉, 하나의 잔차가 다른 잔차에 영향을 미치지 않아야 합니다.\n",
        "- 잔차가 정규 분포를 따른다는 가정은 선형 회귀 모델의 통계적 추론에 사용됩니다. 예를 들어, 잔차의 정규성을 확인하기 위해 정규성 검정을 수행하거나 잔차의 분포를 시각적으로 확인할 수 있습니다. 만약 잔차가 정규 분포를 따르지 않는다면, 모델의 신뢰도가 떨어질 수 있고, 추가적인 조치가 필요할 수 있습니다.\n",
        "- 따라서 선형 회귀 모델을 적용하기 전에 잔차가 정규 분포를 따른다는 가정을 충족하는지 확인하는 것이 중요합니다.\n",
        "\n",
        "> - **잔차가 중심 부근에 있을수록 모델이 데이터를 잘 설명하고 있음**을 나타낸다. 만약 잔차가 중심 부근에 없다면, 모델이 데이터를 충분히 설명하지 못하고 있는지 혹은 모델이 예측한 값이 실제 관측값과 얼마나 다른지에 대한 정보를 제공할 수 있습니다.\n",
        "- 따라서 잔차가 중심 부근에 있는지 여부를 확인하는 것은 모델의 적합성과 예측력을 평가하는데 중요합니다. 이를 통해 모델이 얼마나 잘 작동하는지를 판단할 수 있습니다.\n",
        "\n",
        "> **하나의 잔차가 다른 잔차에 영향을 미치는 경우**\n",
        "- 이상치(outliers)나 영향점(influential points)이 있는 상황에서는 하나의 관측치가 전체 모델에 미치는 영향이 크기 때문에 다른 잔차들에도 영향을 미칠 수 있습니다.\n",
        "1. **이상치 (Outliers)**: 이상치는 대부분의 데이터와는 극단적으로 다른 값을 갖는 관측치를 말합니다. 이상치는 일반적으로 모델에 큰 영향을 미칠 수 있으며, 특히 회귀 분석에서는 모델의 파라미터 추정치를 왜곡할 수 있습니다. 따라서 이상치가 있는 경우에는 잔차에도 영향을 미치게 되어 다른 잔차들이 이상치의 영향을 받을 수 있습니다.\n",
        "2. **영향점 (Influential Points)**: 영향점은 회귀 분석에 대한 결과를 크게 변화시키는 관측치를 의미합니다. 이러한 관측치는 회귀 선의 기울기나 절편을 크게 변화시킬 수 있습니다. 따라서 영향점이 있는 경우 해당 관측치의 잔차가 다른 잔차들에도 영향을 미칠 수 있습니다.\n",
        "3. **다중공선성 (Multicollinearity)**: 다중공선성은 독립 변수 간에 강한 상관관계가 있는 경우 발생합니다. 이러한 상황에서는 하나의 독립 변수가 다른 독립 변수와 높은 상관관계를 갖게 되어 예측 변수 간의 영향을 구분하기 어려워집니다. 이는 모델이 특정 관측치에 민감하게 반응하여 잔차에 영향을 미칠 수 있습니다.\n",
        "- 이러한 상황에서는 모델의 적합성과 예측력을 신뢰할 수 있는지 확인하기 위해 추가적인 조치가 필요합니다. 따라서, 이상치나 영향점을 식별하고 적절하게 처리하여 모델의 성능을 향상시키는 것이 중요합니다."
      ],
      "metadata": {
        "id": "KNGL6c83BfCY"
      }
    },
    {
      "cell_type": "code",
      "source": [
        "import matplotlib.pyplot as plt\n",
        "import seaborn as sns\n",
        "\n",
        "y_train_df = mercari_df['price']\n",
        "plt.figure(figsize = (6,4))\n",
        "sns.histplot(y_train_df, bins = 100)\n",
        "plt.show()"
      ],
      "metadata": {
        "id": "VsyovHd570Ia",
        "colab": {
          "base_uri": "https://localhost:8080/",
          "height": 388
        },
        "outputId": "d3f46840-ad39-4c81-edb0-5654791df94b"
      },
      "execution_count": 3,
      "outputs": [
        {
          "output_type": "display_data",
          "data": {
            "text/plain": [
              "<Figure size 600x400 with 1 Axes>"
            ],
            "image/png": "[encoded data removed]"
          },
          "metadata": {}
        }
      ]
    },
    {
      "cell_type": "code",
      "source": [
        "import numpy as np\n",
        "\n",
        "y_train_df = np.log1p(y_train_df)\n",
        "sns.histplot(y_train_df, bins=50)\n",
        "plt.show()"
      ],
      "metadata": {
        "colab": {
          "base_uri": "https://localhost:8080/",
          "height": 449
        },
        "id": "TQCklJc9lZCf",
        "outputId": "98842988-b1bc-46aa-abcd-43d2d0e69e0e"
      },
      "execution_count": 4,
      "outputs": [
        {
          "output_type": "display_data",
          "data": {
            "text/plain": [
              "<Figure size 640x480 with 1 Axes>"
            ],
            "image/png": "[encoded data removed]"
          },
          "metadata": {}
        }
      ]
    },
    {
      "cell_type": "code",
      "source": [
        "# data set의 price column을 원래 값에서 로그로 변환된 값으로 변경\n",
        "mercari_df['price'] = np.log1p(mercari_df['price'])\n",
        "mercari_df['price'].head(3)"
      ],
      "metadata": {
        "colab": {
          "base_uri": "https://localhost:8080/"
        },
        "id": "103ZG7LNlohj",
        "outputId": "0bf36b40-f94f-4c4f-d0f0-be0d291bf3b4"
      },
      "execution_count": 5,
      "outputs": [
        {
          "output_type": "execute_result",
          "data": {
            "text/plain": [
              "0    2.397895\n",
              "1    3.970292\n",
              "2    2.397895\n",
              "Name: price, dtype: float64"
            ]
          },
          "metadata": {},
          "execution_count": 5
        }
      ]
    },
    {
      "cell_type": "markdown",
      "source": [
        ">- **만약 타겟(label) 변수를 로그 변환한 경우, 모델의 예측 결과를 발표할 때는 해당 로그 변환을 역으로 취소하여 원래의 스케일로 되돌려야 합니다.** 이는 모델이 로그 변환된 값에 대해 학습하고 예측했지만, 결과를 이해하기 쉽고 해석하기 위해서는 원래의 스케일로 변환해야 하기 때문입니다.\n",
        "- 예를 들어, 타겟 변수인 주택 가격을 로그 변환한 경우, 모델은 로그 변환된 가격에 대해 학습하고 예측합니다. 그러나 최종 결과를 발표할 때는 이러한 로그 변환을 역으로 취소하여 원래의 주택 가격으로 되돌려야 합니다.\n",
        "- 로그 변환을 역으로 취소하는 과정은 간단합니다. 예측된 로그 변환된 값을 지수 함수(Exponential function)를 사용하여 원래의 스케일로 변환하면 됩니다. 이를 수식으로 표현하면 다음과 같습니다:"
      ],
      "metadata": {
        "id": "kaTMAZermD-z"
      }
    },
    {
      "cell_type": "code",
      "source": [
        "print('Shipping 값 유형:\\n',mercari_df['shipping'].value_counts())\n",
        "print('\\n')\n",
        "print('item_condition_id 값 유형:\\n',mercari_df['item_condition_id'].value_counts())"
      ],
      "metadata": {
        "colab": {
          "base_uri": "https://localhost:8080/"
        },
        "id": "daBU9CeUmPoX",
        "outputId": "b04a2e90-507e-46df-d8aa-37d532b8ab5e"
      },
      "execution_count": 6,
      "outputs": [
        {
          "output_type": "stream",
          "name": "stdout",
          "text": [
            "Shipping 값 유형:\n",
            " 0    819435\n",
            "1    663100\n",
            "Name: shipping, dtype: int64\n",
            "\n",
            "\n",
            "item_condition_id 값 유형:\n",
            " 1    640549\n",
            "3    432161\n",
            "2    375479\n",
            "4     31962\n",
            "5      2384\n",
            "Name: item_condition_id, dtype: int64\n"
          ]
        }
      ]
    },
    {
      "cell_type": "code",
      "source": [
        "# item_description column은 Null값은 별로 없지만, 'No description yet'과 같이 아무 설명이 없는 값들이 있다\n",
        "\n",
        "boolean_cond= mercari_df['item_description']=='No description yet'\n",
        "mercari_df[boolean_cond]['item_description'].count()\n",
        "\n",
        "# 'No description yet'도 Null과 마찬가지로 의미있는 값이 아니기에 처리가 필요"
      ],
      "metadata": {
        "colab": {
          "base_uri": "https://localhost:8080/"
        },
        "id": "aBiRSkvimfPI",
        "outputId": "09e6b33b-af9e-412f-8210-ae230451f52b"
      },
      "execution_count": 7,
      "outputs": [
        {
          "output_type": "execute_result",
          "data": {
            "text/plain": [
              "82489"
            ]
          },
          "metadata": {},
          "execution_count": 7
        }
      ]
    },
    {
      "cell_type": "markdown",
      "source": [
        "> \"category_name\" 칼럼의 경우 tokenizer를 \\로 하여 단어를 분리해 벡터화할 수도 있지만, 이번 실습에서는 \\를 기준으로 단어를 token화하여 각각 별도의 피처로 저장"
      ],
      "metadata": {
        "id": "uI_08Psmnf8Z"
      }
    },
    {
      "cell_type": "code",
      "source": [
        "# apply lambda에서 호출되는 대,중,소 분할 함수 생성, 대,중,소 값을 리스트 반환\n",
        "def split_cat(category_name):\n",
        "  try:\n",
        "    return category_name.split('/')\n",
        "  except:\n",
        "    return ['Other_Null' , 'Other_Null' , 'Other_Null']\n",
        "\n",
        "# 위의 split_cat( )을 apply lambda에서 호출하여 대,중,소 컬럼을 mercari_df에 생성.\n",
        "mercari_df['cat_dae'], mercari_df['cat_jung'], mercari_df['cat_so'] = zip(*mercari_df['category_name'].apply(lambda x : split_cat(x)))\n",
        "# *: * 기호는 해당 Iterable(여기서는 Series)의 요소를 unpack하여 개별 인수로 전달하는 역할\n",
        "\n",
        "# 대분류만 값의 유형과 건수를 살펴보고, 중분류, 소분류는 값의 유형이 많으므로 분류 갯수만 추출\n",
        "print('대분류 유형 :\\n', mercari_df['cat_dae'].value_counts())\n",
        "print('중분류 갯수 :', mercari_df['cat_jung'].nunique())\n",
        "print('소분류 갯수 :', mercari_df['cat_so'].nunique())"
      ],
      "metadata": {
        "colab": {
          "base_uri": "https://localhost:8080/"
        },
        "id": "qSjyrsTHnQsP",
        "outputId": "22165479-1eac-42b5-ea5b-eebf586f5bc5"
      },
      "execution_count": 8,
      "outputs": [
        {
          "output_type": "stream",
          "name": "stdout",
          "text": [
            "대분류 유형 :\n",
            " Women                     664385\n",
            "Beauty                    207828\n",
            "Kids                      171689\n",
            "Electronics               122690\n",
            "Men                        93680\n",
            "Home                       67871\n",
            "Vintage & Collectibles     46530\n",
            "Other                      45351\n",
            "Handmade                   30842\n",
            "Sports & Outdoors          25342\n",
            "Other_Null                  6327\n",
            "Name: cat_dae, dtype: int64\n",
            "중분류 갯수 : 114\n",
            "소분류 갯수 : 871\n"
          ]
        }
      ]
    },
    {
      "cell_type": "code",
      "source": [
        "mercari_df['category_name'].apply(lambda x : split_cat(x))"
      ],
      "metadata": {
        "colab": {
          "base_uri": "https://localhost:8080/"
        },
        "id": "qsECw22FxPLZ",
        "outputId": "f0356ea9-a6e3-4684-d0d3-75a9020468b5"
      },
      "execution_count": 9,
      "outputs": [
        {
          "output_type": "execute_result",
          "data": {
            "text/plain": [
              "0                                      [Men, Tops, T-shirts]\n",
              "1          [Electronics, Computers & Tablets, Components ...\n",
              "2                            [Women, Tops & Blouses, Blouse]\n",
              "3                     [Home, Home Décor, Home Décor Accents]\n",
              "4                                [Women, Jewelry, Necklaces]\n",
              "                                 ...                        \n",
              "1482530                           [Women, Dresses, Mid-Calf]\n",
              "1482531                         [Kids, Girls 2T-5T, Dresses]\n",
              "1482532    [Sports & Outdoors, Exercise, Fitness accessor...\n",
              "1482533               [Home, Home Décor, Home Décor Accents]\n",
              "1482534                [Women, Women's Accessories, Wallets]\n",
              "Name: category_name, Length: 1482535, dtype: object"
            ]
          },
          "metadata": {},
          "execution_count": 9
        }
      ]
    },
    {
      "cell_type": "markdown",
      "source": [
        "> pandas의 apply lambda로 반환되는 data set은 list를 요소로 가지고 있는데, 이를 다시 대,중,소의 dataframe으로 분리해야 한다. 따라서, zip과 *을 apply lambda 식에 적용하여 여러 개의 칼럼으로 간단하게 분리\n",
        "\n",
        "- 주어진 코드에서 `zip(*mercari_df['category_name'].apply(lambda x: split_cat(x)))` 부분은 Pandas DataFrame의 `category_name` 열에 대해 `split_cat()` 함수를 적용한 후 그 결과를 `zip()` 함수로 묶는 역할을 합니다. 이를 하나씩 살펴보겠습니다.\n",
        "\n",
        "1. `mercari_df['category_name'].apply(lambda x: split_cat(x))`: 먼저, `mercari_df` DataFrame의 'category_name' 열에 있는 각각의 값에 대해 `split_cat()` 함수를 적용합니다. 이 함수는 각 카테고리 이름을 '/' 기준으로 분할하여 대, 중, 소 카테고리로 나눕니다.\n",
        "\n",
        "2. `*`: `*` 기호는 해당 Iterable(여기서는 Series)의 요소를 unpack하여 개별 인수로 전달하는 역할을 합니다. 즉, `split_cat()` 함수의 반환값을 각각의 인수로 전달합니다.\n",
        "\n",
        "3. `zip(*...)`: `zip()` 함수는 여러 개의 Iterable을 병렬로 처리하여 튜플로 묶어주는 역할을 합니다. 여기서 `*`를 사용하여 `split_cat()` 함수의 반환값을 unpack하고, 이를 `zip()` 함수의 인수로 전달합니다. 따라서 `zip()` 함수는 대, 중, 소 카테고리를 튜플로 묶어줍니다.\n",
        "\n",
        "결과적으로, `zip(*mercari_df['category_name'].apply(lambda x: split_cat(x)))`는 대, 중, 소 카테고리를 튜플로 묶은 결과를 반환합니다. 이 튜플은 DataFrame의 각 행에 대응되며, 대, 중, 소 카테고리를 함께 묶어서 표현합니다."
      ],
      "metadata": {
        "id": "PuafXqYFwbkK"
      }
    },
    {
      "cell_type": "markdown",
      "source": [
        "> try except\n",
        "- 주어진 코드에서 try 블록 안에 있는 코드가 먼저 실행됩니다. 여기서는 category_name을 슬래시('/')로 분할하려고 시도합니다. 이 때, 만약 category_name에 슬래시가 포함되어 있지 않거나 다른 이유로 분할이 실패하면(예를 들어, category_name이 None일 경우), 예외가 발생하게 됩니다.\n",
        "\n",
        "- 그런 다음, 예외가 발생하면 프로그램이 except 블록으로 이동하여 해당 예외를 처리합니다. 여기서는 'Other_Null'이라는 문자열을 3번 반환하는데, 이는 분할에 실패한 경우에 대한 대체 값으로 사용됩니다. 따라서 최종적으로는 대체 값이 반환됩니다.\n",
        "\n",
        "> zip\n",
        "- zip 함수는 파이썬의 내장 함수 중 하나로, 여러 개의 순차적인(iterable) 자료형을 병렬로 처리할 때 사용됩니다. 이 함수는 각 자료형에서 동일한 인덱스에 해당하는 요소들을 묶어서 튜플로 반환합니다.\n",
        "\n",
        "\n",
        "\n",
        "```python\n",
        "list1 = [1, 2, 3]\n",
        "list2 = ['a', 'b', 'c']\n",
        "list3 = [True, False, True]\n",
        "\n",
        "zipped = zip(list1, list2, list3)\n",
        "# [(1, 'a', True), (2, 'b', False), (3, 'c', True)]\n",
        "\n",
        "# zip() 함수에 pd.Series 타입의 data 입력\n",
        "import pandas as pd\n",
        "# pd.Series 객체 생성\n",
        "data1 = pd.Series([1, 2, 3, 4, 5])\n",
        "data2 = pd.Series(['a', 'b', 'c', 'd', 'e'])\n",
        "# zip 함수 적용\n",
        "zipped = zip(data1, data2)\n",
        "# 결과 출력\n",
        "for item in zipped:\n",
        "    print(item)\n",
        "```\n",
        "\n"
      ],
      "metadata": {
        "id": "Npe9CqCjqBdf"
      }
    },
    {
      "cell_type": "markdown",
      "source": [
        "brand_name, category_name, item_description 컬럼의 Null 값은 모두 \"Other Null\"로 변경"
      ],
      "metadata": {
        "id": "8CVfwM3V8HIv"
      }
    },
    {
      "cell_type": "code",
      "source": [
        "mercari_df['brand_name'] = mercari_df['brand_name'].fillna(value = 'Other_Null')\n",
        "mercari_df['category_name'] = mercari_df['category_name'].fillna(value='Other_Null')\n",
        "mercari_df['item_description'] = mercari_df['item_description'].fillna(value='Other_Null')\n",
        "\n",
        "# 각 컬럼별로 Null값 건수 확인. 모두 0가 나와야 합니다.\n",
        "mercari_df.isnull().sum() # isnull => dataframe의 값 각각에 대하여 true / false 반환"
      ],
      "metadata": {
        "colab": {
          "base_uri": "https://localhost:8080/"
        },
        "id": "HwV7-ahExCMN",
        "outputId": "2cc555d9-f05d-4a24-d397-e138add6336a"
      },
      "execution_count": 10,
      "outputs": [
        {
          "output_type": "execute_result",
          "data": {
            "text/plain": [
              "train_id             0\n",
              "name                 0\n",
              "item_condition_id    0\n",
              "category_name        0\n",
              "brand_name           0\n",
              "price                0\n",
              "shipping             0\n",
              "item_description     0\n",
              "cat_dae              0\n",
              "cat_jung             0\n",
              "cat_so               0\n",
              "dtype: int64"
            ]
          },
          "metadata": {},
          "execution_count": 10
        }
      ]
    },
    {
      "cell_type": "markdown",
      "source": [
        "### **Feature 인코딩 & 벡터화**\n",
        "\n",
        "- Mercari data에는 문자열 컬럼이 많다\n",
        "- 이 중 레이블 or 원핫 인코딩을 수행하거나 피처 벡터화로 변환할 칼럼 선별\n",
        "\n",
        "> featue 인코딩 & 디코딩\n",
        "- 피처 인코딩은 범주형 데이터를 기계 학습 알고리즘이 이해할 수 있는 형태로 변환하는 과정\n",
        "1. 원핫 인코딩(One-Hot Encoding): 각 범주형 변수를 이진형 변수로 변환하여 각 범주를 0 또는 1의 값으로 표현합니다. 이는 각 범주가 별도의 열로 확장되는 희소 행렬(sparse matrix)을 생성합니다.\n",
        "2. 레이블 인코딩(Label Encoding): 각 범주형 변수를 정수형으로 변환합니다. 이는 각 범주에 대해 고유한 정수 값을 할당하는 방식입니다.\n",
        "3. 순서 인코딩(Ordinal Encoding): 범주형 변수가 순서를 가지고 있는 경우에 사용됩니다. 예를 들어, '낮음', '보통', '높음'과 같은 범주를 숫자로 변환합니다.\n",
        "- 피처 디코딩은 인코딩된 데이터를 원래의 형태로 복원하는 과정입니다.\n",
        "일반적으로 원핫 인코딩이나 레이블 인코딩과 같이 데이터를 변환한 후에는 디코딩이 필요하지 않을 수 있습니다.\n",
        "- 그러나 경우에 따라서는 원래의 범주형 데이터로 복원해야 할 때가 있습니다. 원핫 인코딩의 경우, 각 열의 값을 다시 원래의 범주로 디코딩하여 원래의 피처 형태로 되돌릴 수 있습니다."
      ],
      "metadata": {
        "id": "UWb-iYDu9rKU"
      }
    },
    {
      "cell_type": "markdown",
      "source": [
        "> - 선형 회귀 모델의 경우 원핫 인코딩 적용이 훨씬 선호됨\n",
        "- 피처 벡터화의 경우 비교적 짧은 텍스트 : Count 기반 벡터화 적용\n",
        "- 긴 텍스트 : tf-idf 벡터화 적용"
      ],
      "metadata": {
        "id": "wQZaHD2E_PLX"
      }
    },
    {
      "cell_type": "code",
      "source": [
        "# brand name Column\n",
        "print('brand name 의 유형 건수 :', mercari_df['brand_name'].nunique())\n",
        "print('brand name sample 5건 : \\n', mercari_df['brand_name'].value_counts()[:5])"
      ],
      "metadata": {
        "colab": {
          "base_uri": "https://localhost:8080/"
        },
        "id": "tVdIz2Ju9hrx",
        "outputId": "0c0c2a28-f6a5-4fcc-f03c-1656284fc2e1"
      },
      "execution_count": 11,
      "outputs": [
        {
          "output_type": "stream",
          "name": "stdout",
          "text": [
            "brand name 의 유형 건수 : 4810\n",
            "brand name sample 5건 : \n",
            " Other_Null           632682\n",
            "PINK                  54088\n",
            "Nike                  54043\n",
            "Victoria's Secret     48036\n",
            "LuLaRoe               31024\n",
            "Name: brand_name, dtype: int64\n"
          ]
        }
      ]
    },
    {
      "cell_type": "markdown",
      "source": [
        "- brand name의 경우 대부분 명료한 문자열\n",
        "- 별도의 피처 벡터화가 필요 없이 인코딩 변환을 적용하면 된다\n",
        "- 4810 종류의 brand로 다소 많지만, 원핫 인코딩을 적용하는 데 큰 문제는 없다\n",
        "\n",
        "> **텍스트 데이터를 별도의 피처 벡터화를 하지 않고 인코딩 변환을 적용한다는 것은 텍스트 데이터를 토큰화(tokenization)하거나 어근 추출(lemmatization 또는 stemming) 등의 전처리 과정을 거치지 않고, 바로 벡터로 변환하는 것을 의미합니다.**\n",
        "이러한 방식은 텍스트 데이터가 단순하고, 전처리 과정을 거치지 않아도 기계 학습 모델에 적용할 수 있는 경우에 주로 사용됩니다. 그러나 텍스트 데이터의 복잡성이나 정보 손실 없이 효율적으로 모델링하기 위해서는 피처 벡터화를 수행하는 것이 보다 일반적인 접근 방식입니다."
      ],
      "metadata": {
        "id": "JizYplJDB7gc"
      }
    },
    {
      "cell_type": "code",
      "source": [
        "# name Column\n",
        "print('name 의 종류 갯수 :', mercari_df['name'].nunique())\n",
        "print('name sample 7건 : \\n', mercari_df['name'][:7])"
      ],
      "metadata": {
        "colab": {
          "base_uri": "https://localhost:8080/"
        },
        "id": "obX_Nvbz_nZC",
        "outputId": "d14ab85b-7ed2-4687-fb26-40e141f9dcce"
      },
      "execution_count": 12,
      "outputs": [
        {
          "output_type": "stream",
          "name": "stdout",
          "text": [
            "name 의 종류 갯수 : 1225273\n",
            "name sample 7건 : \n",
            " 0    MLB Cincinnati Reds T Shirt Size XL\n",
            "1       Razer BlackWidow Chroma Keyboard\n",
            "2                         AVA-VIV Blouse\n",
            "3                  Leather Horse Statues\n",
            "4                   24K GOLD plated rose\n",
            "5       Bundled items requested for Ruie\n",
            "6     Acacia pacific tides santorini top\n",
            "Name: name, dtype: object\n"
          ]
        }
      ]
    },
    {
      "cell_type": "markdown",
      "source": [
        "- name column은 유형이 매우 많고, 적은 단어 위주의 text 형태로 되어 있기에, count 기반으로 피처 벡터화 변환 적용\n",
        "- category_name 컬럼은 대,중,소 분류의 세 개의 칼럼에 원핫 인코딩을 적용\n",
        "- shipping 칼럼은 0 / 1 => 원핫 인코딩\n",
        "- item_condition 칼럼은 1,2,3,4,5 => 원핫 인코딩\n",
        "\n",
        "- **item_discription 칼럼은 상품에 대한 간단 설명으로 데이터 세트에서 가장 긴 텍스트 => tf-idf 변환**"
      ],
      "metadata": {
        "id": "qt_LbTfrCgeY"
      }
    },
    {
      "cell_type": "code",
      "source": [
        "pd.set_option('max_colwidth', 200)\n",
        "# item_description의 평균 문자열 개수\n",
        "print('item_description 평균 문자열 길이:',mercari_df['item_description'].str.len().mean())\n",
        "mercari_df['item_description'][:2]"
      ],
      "metadata": {
        "colab": {
          "base_uri": "https://localhost:8080/"
        },
        "id": "zC6iVseBDZwl",
        "outputId": "490373ea-52c0-4cd9-e07a-df41e1eb9ae5"
      },
      "execution_count": 13,
      "outputs": [
        {
          "output_type": "stream",
          "name": "stdout",
          "text": [
            "item_description 평균 문자열 길이: 145.7113889385411\n"
          ]
        },
        {
          "output_type": "execute_result",
          "data": {
            "text/plain": [
              "0                                                                                                                                                                              No description yet\n",
              "1    This keyboard is in great condition and works like it came out of the box. All of the ports are tested and work perfectly. The lights are customizable via the Razer Synapse app on your PC.\n",
              "Name: item_description, dtype: object"
            ]
          },
          "metadata": {},
          "execution_count": 13
        }
      ]
    },
    {
      "cell_type": "code",
      "source": [
        "# name 속성에 대한 feature vectorization 변환\n",
        "cnt_vec = CountVectorizer()\n",
        "X_name = cnt_vec.fit_transform(mercari_df.name)\n",
        "\n",
        "# item_description 에 대한 feature vectorization 변환\n",
        "tfidf_descp = TfidfVectorizer(max_features = 50000, ngram_range= (1,3) , stop_words='english')\n",
        "X_descp = tfidf_descp.fit_transform(mercari_df['item_description'])\n",
        "\n",
        "print('name vectorization shape:',X_name.shape)\n",
        "print('item_description vectorization shape:',X_descp.shape)"
      ],
      "metadata": {
        "colab": {
          "base_uri": "https://localhost:8080/"
        },
        "id": "G1FPwYvDD7qR",
        "outputId": "fa775484-62e4-4f20-9194-b2602970f454"
      },
      "execution_count": 14,
      "outputs": [
        {
          "output_type": "stream",
          "name": "stdout",
          "text": [
            "name vectorization shape: (1482535, 105757)\n",
            "item_description vectorization shape: (1482535, 50000)\n"
          ]
        }
      ]
    },
    {
      "cell_type": "markdown",
      "source": [
        "LabelBinarizer 클래스의 sparse_output 매개변수를 True로 설정하면, 원핫 인코딩 결과를 희소 행렬(sparse matrix) 형태로 반환합니다. 이 매개변수의 기본값은 False이며, 이 경우에는 밀집(dense) 행렬 형태로 반환됩니다.\n",
        "\n",
        "> `OneHotEncoder`와 `LabelBinarizer`는 모두 범주형 데이터를 원핫 인코딩하는 데 사용되는 도구들이다. 그러나 두 가지 클래스 간에는 몇 가지 차이점이 있다.\n",
        "1. **사용 방법**:\n",
        "   - `OneHotEncoder`: Scikit-learn의 `OneHotEncoder`는 대부분의 Scikit-learn 변환기와 동일한 방식으로 작동합니다. 즉, `fit`, `transform`, `fit_transform` 등의 메소드를 사용하여 모델을 학습하고 변환할 수 있습니다.\n",
        "   - `LabelBinarizer`: `LabelBinarizer`는 `fit` 메소드로 학습하고 `transform` 메소드로 변환하는 대신, 한 번에 학습과 변환을 수행할 수 있는 `fit_transform` 메소드만 제공합니다.\n",
        "2. **출력 형태**:\n",
        "   - `OneHotEncoder`: `OneHotEncoder`는 기본적으로 희소 행렬을 출력합니다. 이는 대부분의 열이 0으로 채워진 행렬을 의미합니다.\n",
        "   - `LabelBinarizer`: `LabelBinarizer`는 기본적으로 밀집(dense) 행렬을 출력합니다. 하지만 `sparse_output=True`로 설정하면 희소 행렬을 출력할 수 있습니다.\n",
        "3. **적용 대상**:\n",
        "   - `OneHotEncoder`: `OneHotEncoder`는 숫자로 레이블 인코딩된 범주형 데이터를 원핫 인코딩으로 변환하는 데 주로 사용됩니다.\n",
        "   - **`LabelBinarizer`: `LabelBinarizer`는 문자열 형태의 범주형 데이터를 바로 원핫 인코딩으로 변환하는 데 사용됩니다. 따라서 레이블 인코딩과 원핫 인코딩을 한 번에 수행할 수 있습니다.**\n",
        "4. **유연성**:\n",
        "   - `OneHotEncoder`: `OneHotEncoder`는 입력 데이터가 2차원 배열 형태여야 하므로 데이터를 직접 변환하기 전에 reshape 또는 pandas DataFrame을 사용하여 변환해야 할 수 있습니다.\n",
        "   - `LabelBinarizer`: `LabelBinarizer`는 단일 열의 벡터 형태 또는 2차원 배열 형태의 입력을 바로 처리할 수 있습니다.\n",
        "- 따라서 `OneHotEncoder`와 `LabelBinarizer`는 사용하기에 따라 각각의 장단점이 있으며, 상황에 따라 적합한 도구를 선택하여 사용해야 합니다.\n"
      ],
      "metadata": {
        "id": "1yTAHomsJQ6r"
      }
    },
    {
      "cell_type": "code",
      "source": [
        "from sklearn.preprocessing import LabelBinarizer\n",
        "# brand_name, item_condition_id, shipping 각 피처들을 희소 행렬 원-핫 인코딩 변환\n",
        "lb_brand_name = LabelBinarizer(sparse_output = True)\n",
        "X_brand = lb_brand_name.fit_transform(mercari_df['brand_name'])\n",
        "\n",
        "lb_item_cond_id = LabelBinarizer(sparse_output=True)\n",
        "X_item_cond_id = lb_item_cond_id.fit_transform(mercari_df['item_condition_id'])\n",
        "\n",
        "lb_shipping= LabelBinarizer(sparse_output=True)\n",
        "X_shipping = lb_shipping.fit_transform(mercari_df['shipping'])\n",
        "\n",
        "# cat_dae, cat_jung, cat_so 각 피처들을 희소 행렬 원-핫 인코딩 변환\n",
        "lb_cat_dae = LabelBinarizer(sparse_output=True)\n",
        "X_cat_dae= lb_cat_dae.fit_transform(mercari_df['cat_dae'])\n",
        "\n",
        "lb_cat_jung = LabelBinarizer(sparse_output=True)\n",
        "X_cat_jung = lb_cat_jung.fit_transform(mercari_df['cat_jung'])\n",
        "\n",
        "lb_cat_so = LabelBinarizer(sparse_output=True)\n",
        "X_cat_so = lb_cat_so.fit_transform(mercari_df['cat_so'])"
      ],
      "metadata": {
        "id": "8rCjuIg2KM6q"
      },
      "execution_count": 15,
      "outputs": []
    },
    {
      "cell_type": "code",
      "source": [
        "print(type(X_brand), type(X_item_cond_id), type(X_shipping))\n",
        "print('X_brand_shape:{0}, X_item_cond_id shape:{1}'.format(X_brand.shape, X_item_cond_id.shape))\n",
        "print('X_shipping shape:{0}, X_cat_dae shape:{1}'.format(X_shipping.shape, X_cat_dae.shape))\n",
        "print('X_cat_jung shape:{0}, X_cat_so shape:{1}'.format(X_cat_jung.shape, X_cat_so.shape))"
      ],
      "metadata": {
        "colab": {
          "base_uri": "https://localhost:8080/"
        },
        "id": "CXnfBZHum4X6",
        "outputId": "dc4a0e63-ea9f-42db-98b7-b27e80456f59"
      },
      "execution_count": 16,
      "outputs": [
        {
          "output_type": "stream",
          "name": "stdout",
          "text": [
            "<class 'scipy.sparse._csr.csr_matrix'> <class 'scipy.sparse._csr.csr_matrix'> <class 'scipy.sparse._csr.csr_matrix'>\n",
            "X_brand_shape:(1482535, 4810), X_item_cond_id shape:(1482535, 5)\n",
            "X_shipping shape:(1482535, 1), X_cat_dae shape:(1482535, 11)\n",
            "X_cat_jung shape:(1482535, 114), X_cat_so shape:(1482535, 871)\n"
          ]
        }
      ]
    },
    {
      "cell_type": "code",
      "source": [
        "from scipy.sparse import hstack\n",
        "\n",
        "sparse_matrix_list = (X_name, X_descp, X_brand, X_item_cond_id, X_shipping, X_cat_dae, X_cat_jung, X_cat_so)\n",
        "# 사이파이 sparse 모듈의 hstack 함수를 이용하여 앞에서 인코딩과 Vectorization을 수행한 데이터 셋을 모두 결합.\n",
        "X_features_sparse = hstack(sparse_matrix_list).tocsr()\n",
        "print(type(X_features_sparse), X_features_sparse.shape)\n",
        "\n",
        "import gc\n",
        "# 데이터 셋이 메모리를 많이 차지하므로 사용 용도가 끝났으면 바로 메모리에서 삭제.\n",
        "del X_features_sparse\n",
        "gc.collect()"
      ],
      "metadata": {
        "colab": {
          "base_uri": "https://localhost:8080/"
        },
        "id": "G2KOKM_3oowd",
        "outputId": "0aa444cc-2c65-4d81-9b31-3ad5f3b60ed1"
      },
      "execution_count": 17,
      "outputs": [
        {
          "output_type": "stream",
          "name": "stdout",
          "text": [
            "<class 'scipy.sparse._csr.csr_matrix'> (1482535, 161569)\n"
          ]
        },
        {
          "output_type": "execute_result",
          "data": {
            "text/plain": [
              "0"
            ]
          },
          "metadata": {},
          "execution_count": 17
        }
      ]
    },
    {
      "cell_type": "markdown",
      "source": [
        "```python\n",
        "import gc\n",
        "# 데이터 셋이 메모리를 많이 차지하므로 사용 용도가 끝났으면 바로 메모리에서 삭제.\n",
        "del X_features_sparse\n",
        "gc.collect()\n",
        "```\n",
        "\n"
      ],
      "metadata": {
        "id": "W2t0TR9Zp0IA"
      }
    },
    {
      "cell_type": "markdown",
      "source": [
        "### **릿지 회귀 모델 구축 및 평가**"
      ],
      "metadata": {
        "id": "rCKGuwilomVK"
      }
    },
    {
      "cell_type": "markdown",
      "source": [
        "![image.png](data:image/png;base64,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)"
      ],
      "metadata": {
        "id": "_cIT7kW_qthO"
      }
    },
    {
      "cell_type": "markdown",
      "source": [
        "- 모델을 평가하는 평가 지표 : RMSLE\n",
        "- 낮은 가격보다 높은 가격에서 오류가 발생할 경우 오류 값이 더 커지는 것을 억제하기 위해 rmsle 도입"
      ],
      "metadata": {
        "id": "hcva0gOSrJqR"
      }
    },
    {
      "cell_type": "code",
      "source": [
        "def rmsle(y, r_pred):\n",
        "  # underflow, overflow를 막기 위해 log가 아닌 log1p로 rmsle 계산\n",
        "  return np.sqrt(np.mean(np.power(np.log1p(y) - np.log1p(r_pred), 2)))\n",
        "\n",
        "def evaluate_org_price(y_test , preds):\n",
        "  # 원본 데이터는 log1p로 변환되었으므로 exmpm1으로 원복 필요.\n",
        "  preds_exmpm = np.expm1(preds)\n",
        "  y_test_exmpm = np.expm1(y_test)\n",
        "\n",
        "  # rmsle로 RMSLE 값 추출\n",
        "  rmsle_result = rmsle(y_test_exmpm, preds_exmpm)\n",
        "  return rmsle_result"
      ],
      "metadata": {
        "id": "1nZ5EVXzqeMw"
      },
      "execution_count": 18,
      "outputs": []
    },
    {
      "cell_type": "code",
      "source": [
        "import gc\n",
        "from scipy.sparse import hstack\n",
        "\n",
        "\n",
        "def model_train_predict(model, matrix_list):\n",
        "  # scipy.sparse 모듈의 hstack 을 이용하여 sparse matrix 결합\n",
        "  X= hstack(matrix_list).tocsr()\n",
        "  # tocsr()은 희소 행렬을 CSR 형식으로 변환하는 메소드이며, 주로 대규모 희소 행렬에 대한 효율적인 행렬 연산을 위해 사용\n",
        "  X_train, X_test, y_train, y_test=train_test_split(X, mercari_df['price'], test_size=0.2, random_state=156)\n",
        "  # mercari_df['price'] => log 변환된 상태\n",
        "\n",
        "  # 모델 학습 및 예측\n",
        "  model.fit(X_train , y_train)\n",
        "  preds = model.predict(X_test)\n",
        "\n",
        "  del X , X_train , X_test , y_train\n",
        "  gc.collect()\n",
        "  return preds , y_test"
      ],
      "metadata": {
        "id": "xNxi9Uy1r6hP"
      },
      "execution_count": 19,
      "outputs": []
    },
    {
      "cell_type": "code",
      "source": [
        "# Ridge를 활용한 Mercari Price 회귀 예측\n",
        "# Item_description 속성이 있을 때 / 없을 때의 예측 성능 차이 확인해보기\n",
        "\n",
        "linear_model = Ridge(solver = 'lsqr', fit_intercept = False)\n",
        "sparse_matrix_list = (X_name, X_brand, X_item_cond_id, X_shipping, X_cat_dae, X_cat_jung, X_cat_so)\n",
        "linear_preds , y_test = model_train_predict(model=linear_model ,matrix_list=sparse_matrix_list)\n",
        "print('Item Description을 제외했을 때 rmsle 값:', evaluate_org_price(y_test , linear_preds))\n",
        "\n",
        "# 학습 data에서 X_item_cond_id 제거\n",
        "sparse_matrix_list = (X_descp, X_name, X_brand, X_item_cond_id,\n",
        "                      X_shipping, X_cat_dae, X_cat_jung, X_cat_so)\n",
        "linear_preds , y_test = model_train_predict(model=linear_model , matrix_list=sparse_matrix_list)\n",
        "print('Item Description을 포함한 rmsle 값:',  evaluate_org_price(y_test ,linear_preds))"
      ],
      "metadata": {
        "colab": {
          "base_uri": "https://localhost:8080/"
        },
        "id": "GCfRp0Apul5Z",
        "outputId": "3630bdbe-2ac0-4a2c-f372-297659c5e6d0"
      },
      "execution_count": 20,
      "outputs": [
        {
          "output_type": "stream",
          "name": "stdout",
          "text": [
            "Item Description을 제외했을 때 rmsle 값: 0.4983990938999374\n",
            "Item Description을 포함한 rmsle 값: 0.4680329023962086\n"
          ]
        }
      ]
    },
    {
      "cell_type": "markdown",
      "source": [
        "### **LightGBM 회귀 모델 구축과 앙상블을 이용한 최종 예측 평가**\n",
        "\n",
        "- LightGBM 모델 예측값을 이전의 릿지 모델의 예측값과 간단한 앙상블 방식으로 섞어서 최종 회귀 예측값 평가"
      ],
      "metadata": {
        "id": "_2tIXWacvs8s"
      }
    },
    {
      "cell_type": "code",
      "source": [
        "from lightgbm import LGBMRegressor\n",
        "sparse_matrix_list = (X_descp, X_name, X_brand, X_item_cond_id, X_shipping, X_cat_dae, X_cat_jung, X_cat_so)\n",
        "lgbm_model = LGBMRegressor(n_estimators=100, learning_rate=0.5, num_leaves=125, random_state=156)\n",
        "lgbm_preds , y_test = model_train_predict(model = lgbm_model , matrix_list=sparse_matrix_list)\n",
        "print('LightGBM rmsle 값:',  evaluate_org_price(y_test , lgbm_preds))"
      ],
      "metadata": {
        "id": "FD8FhS2evVfc"
      },
      "execution_count": 1,
      "outputs": []
    },
    {
      "cell_type": "code",
      "source": [
        "preds = lgbm_preds * 0.45 + linear_preds * 0.55\n",
        "print('LightGBM과 Ridge를 ensemble한 최종 rmsle 값:',  evaluate_org_price(y_test , preds))"
      ],
      "metadata": {
        "id": "qiYaGHIhxQ9c"
      },
      "execution_count": null,
      "outputs": []
    }
  ]
}