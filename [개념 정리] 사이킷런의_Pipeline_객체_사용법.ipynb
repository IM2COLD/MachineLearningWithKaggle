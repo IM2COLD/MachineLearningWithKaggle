{
  "nbformat": 4,
  "nbformat_minor": 0,
  "metadata": {
    "colab": {
      "provenance": []
    },
    "kernelspec": {
      "name": "python3",
      "display_name": "Python 3"
    },
    "language_info": {
      "name": "python"
    }
  },
  "cells": [
    {
      "cell_type": "markdown",
      "source": [
        "> ## 사이킷런의 Pipeline 객체 사용법\n",
        "\n",
        "- scikit-learn의 Pipeline 클래스는 여러 단계의 데이터 변환 및 모델링 작업을 순차적으로 실행할 수 있는 유용한 도구입니다.\n",
        "- 주로 데이터 전처리 및 모델 학습의 여러 단계를 함께 묶어 편리하게 사용할 때 활용됩니다.\n",
        "\n",
        "```python\n",
        "# 1. Import Statements\n",
        "from sklearn.pipeline import Pipeline\n",
        "from sklearn.preprocessing import StandardScaler\n",
        "from sklearn.svm import SVC\n",
        "# 2. 데이터 생성 및 나누기\n",
        "from sklearn.model_selection import train_test_split\n",
        "from sklearn.datasets import load_iris\n",
        "\n",
        "iris = load_iris()\n",
        "X_train, X_test, y_train, y_test = train_test_split(iris.data, iris.target, test_size=0.2, random_state=42)\n",
        "\n",
        "# 3. Pipeline 정의\n",
        "# 간단한 예제를 위해 StandardScaler로 특성 스케일 조정하고 SVM 모델 사용\n",
        "steps = [('scaler', StandardScaler()), ('svm', SVC())]\n",
        "pipeline = Pipeline(steps)\n",
        "# steps는 각 단계를 정의하는 튜플의 리스트입니다. # 각 튜플은 (이름, 변환 또는 모델) 형태로 구성\n",
        "\n",
        "# 4. Pipeline 학습 및 예측\n",
        "pipeline.fit(X_train, y_train)\n",
        "y_pred = pipeline.predict(X_test)\n",
        "\n",
        "# 5. Pipeline 성능 평가\n",
        "from sklearn.metrics import accuracy_score\n",
        "\n",
        "accuracy = accuracy_score(y_test, y_pred)\n",
        "print(f'Accuracy: {accuracy:.2f}')\n",
        "```\n",
        "> Pipeline을 사용하면 데이터 전처리와 모델 학습 단계를 간단하게 묶어서 코드를 깔끔하게 유지 가능\n",
        "\n",
        "- Pipeline의 각 단계는 이름과 해당 단계를 구분하기 위해 이름을 가질 수 있습니다. 이 이름은 나중에 모델 파라미터에 접근하거나, 그리드 서치(Grid Search)와 같은 하이퍼파라미터 튜닝을 할 때 특정 단계에 대한 설정을 변경할 때 유용합니다.\n",
        "\n",
        "\n",
        "\n",
        "```python\n",
        "from sklearn.pipeline import Pipeline\n",
        "from sklearn.preprocessing import StandardScaler\n",
        "from sklearn.svm import SVC\n",
        "\n",
        "steps = [('scaler', StandardScaler()), ('svm', SVC())]\n",
        "pipeline = Pipeline(steps)\n",
        "\n",
        "# 이름으로 단계에 접근\n",
        "scaler = pipeline.named_steps['scaler']\n",
        "\n",
        "# 이름으로 하이퍼파라미터 설정\n",
        "param_grid = {'svm__C': [1, 10, 100]}\n",
        "# 딕셔너리의 키 'svm__C'는 파이프라인 내의 SVC 모델의 하이퍼파라미터 C를 설정하고,\n",
        "# 그에 대한 후보 값들인 [1, 10, 100]을 지정하고 있습니다.\n",
        "```\n",
        "\n",
        "> 1. fit: 먼저 'scaler' 단계의 fit 메서드가 호출되어 특성을 스케일 조정하고, 그 결과를 다음 'svm' 단계로 전달됩니다.\n",
        "2. fit_transform: 'svm' 단계에서는 fit_transform 메서드를 호출하지만, 여기서는 SVM 모델은 데이터를 변환하지 않고 그대로 출력을 내놓습니다.\n",
        "3. 따라서 각 단계는 fit이나 fit_transform 메서드를 호출할 때 이전 단계의 결과를 입력으로 받아 작업을 수행하게 됩니다.\n",
        "- 이러한 순차적인 작업은 코드를 간결하게 만들어주고, 데이터 전처리 및 모델 학습을 일괄적으로 처리하는 데 편리합니다.\n",
        "\n",
        "- 이름을 지정하면 코드를 더 직관적으로 작성할 수 있고, 복잡한 파이프라인에서 특정 단계에 쉽게 접근 가능\n",
        "\n",
        "- 'svm': 파이프라인에서의 SVC 모델의 이름. 이는 파이프라인에서의 해당 모델 단계를 가리킵니다.\n",
        "- 'C': SVC 모델의 하이퍼파라미터 중 하나인 C.\n",
        "- 'svm__C': svm이라는 이름의 파이프라인 단계에서 C라는 하이퍼파라미터를 설정하는 것을 의미합니다.\n",
        "- GridSearchCV 또는 RandomizedSearchCV에서 이러한 파라미터 그리드를 사용하면 각각의 조합에 대해 교차 검증을 수행하면서 최적의 하이퍼파라미터를 찾을 수 있습니다.\n",
        "\n",
        "```python\n",
        "from sklearn.model_selection import GridSearchCV\n",
        "\n",
        "grid_search = GridSearchCV(pipeline, param_grid, cv=5)\n",
        "grid_search.fit(X_train, y_train)\n",
        "# 여기서 param_grid는 모델 하이퍼파라미터의 후보값들을 지정하는데 사용되며,\n",
        "# GridSearchCV는 이 그리드를 기반으로 최적의 하이퍼파라미터를 찾습니다.\n",
        "```"
      ],
      "metadata": {
        "id": "gjs8qHliCyZO"
      }
    },
    {
      "cell_type": "markdown",
      "source": [
        "### **정리**"
      ],
      "metadata": {
        "id": "2Y_J_eBRLPps"
      }
    },
    {
      "cell_type": "markdown",
      "source": [
        "> Pipeline은 정의된 단계(steps 리스트)를 순차적으로 fit하고 trasform 해준다.\n",
        "\n",
        "- 각 단계는 튜플로 구성되어 있으며, 튜플의 첫 번째 요소는 단계의 이름이나 임의의 식별자이고\n",
        "- 두 번째 요소는 해당 단계를 구성하는 변환기(Transformer)나 모델\n",
        "\n",
        "> Pipeline은 fit 메서드를 호출할 때, 각 단계에 대해 차례로 fit 메서드를 호출하고, 그 결과를 다음 단계로 전달합니다. 이 때, 각 단계의 fit_transform 메서드를 호출하게 되면, **중간 단계의 출력이 다음 단계의 입력으로 자동으로 전달됩니다.**"
      ],
      "metadata": {
        "id": "K4RfZ5z4KQHS"
      }
    }
  ]
}
