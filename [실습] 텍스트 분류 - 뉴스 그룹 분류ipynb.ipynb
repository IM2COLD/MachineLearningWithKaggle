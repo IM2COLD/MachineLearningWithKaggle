{
  "nbformat": 4,
  "nbformat_minor": 0,
  "metadata": {
    "colab": {
      "provenance": []
    },
    "kernelspec": {
      "name": "python3",
      "display_name": "Python 3"
    },
    "language_info": {
      "name": "python"
    }
  },
  "cells": [
    {
      "cell_type": "markdown",
      "source": [
        "> **Text 분류는 특정 문서의 분류를 학습 data를 통해 모델을 생성한 뒤 이 학습 모델을 이용해 다른 문서의 분류를 예측**\n",
        "\n",
        "- 주로 어떤 단어의 빈도 수를 통해 주제를 파악"
      ],
      "metadata": {
        "id": "tnhHv9t0gITv"
      }
    },
    {
      "cell_type": "markdown",
      "source": [
        "1. **텍스트 정규화 (Text Normalization):** 텍스트 정규화는 텍스트 데이터를 일관된 형태로 만드는 과정입니다. 주요한 텍스트 정규화 기법은 다음과 같습니다:\n",
        "\n",
        "   - **소문자 변환 (Lowercasing):** 텍스트를 모두 소문자로 변환하여 대소문자를 통일시킵니다. 이렇게 함으로써 동일한 단어가 대문자로 시작하는 경우와 소문자로 시작하는 경우를 동일하게 취급할 수 있습니다.\n",
        "   \n",
        "   - **불용어 제거 (Stopword Removal):** 자주 등장하지만 의미를 가지지 않는 단어들을 제거합니다. 예를 들어 'the', 'is', 'and' 등의 단어는 대부분의 문장에서 빈번하게 등장하지만 분류 작업에는 큰 도움이 되지 않으므로 제거됩니다.\n",
        "   \n",
        "   - **특수 문자 제거 (Removing Special Characters):** 문장에서 의미를 가지지 않는 특수 문자나 기호들을 제거합니다. 이는 텍스트의 가독성을 높이고 모델이 단어를 올바르게 인식할 수 있도록 돕습니다.\n",
        "   \n",
        "   - **토큰화 (Tokenization):** 문장을 단어 또는 문장 단위로 분할하여 토큰으로 만듭니다. 이를 통해 문장을 단어 단위로 처리할 수 있게 됩니다.\n",
        "\n",
        "2. **피처 벡터화 (Feature Vectorization):** 텍스트 데이터를 숫자 형태의 벡터로 변환하는 과정입니다. 이는 모델이 텍스트 데이터를 이해하고 처리할 수 있도록 합니다. 주요한 피처 벡터화 기법은 다음과 같습니다:\n",
        "\n",
        "   - **Bag of Words (BoW):** 문서 내 단어의 출현 빈도를 기반으로 단어를 표현하는 방법입니다. 각 문서를 벡터로 표현하고, 각 단어의 출현 빈도를 벡터의 원소로 사용합니다.\n",
        "   \n",
        "   - **TF-IDF (Term Frequency-Inverse Document Frequency):** 단어의 상대적인 중요도를 나타내는 수치입니다. TF는 단어의 출현 빈도를 나타내며, IDF는 단어의 문서 내 빈도와 문서 간 빈도를 고려하여 가중치를 부여합니다.\n",
        "   \n",
        "   - **Word Embeddings:** 단어를 밀집된 고차원 벡터로 표현하는 방법입니다. 이 방법은 단어 간의 의미적 유사성을 고려하여 단어를 벡터로 표현합니다.\n",
        "\n",
        "텍스트 정규화와 피처 벡터화를 적용하면 모델이 텍스트 데이터를 이해하고 분류할 수 있는 형태로 데이터를 준비할 수 있습니다."
      ],
      "metadata": {
        "id": "AKUhTrNOkY1i"
      }
    },
    {
      "cell_type": "code",
      "execution_count": 3,
      "metadata": {
        "id": "cD6Zu5J-7Y3O"
      },
      "outputs": [],
      "source": [
        "from sklearn.datasets import fetch_20newsgroups\n",
        "\n",
        "news_data = fetch_20newsgroups(subset = 'all', random_state = 156)"
      ]
    },
    {
      "cell_type": "code",
      "source": [
        "print(news_data.keys())"
      ],
      "metadata": {
        "colab": {
          "base_uri": "https://localhost:8080/"
        },
        "id": "RZ39AS7-lA1u",
        "outputId": "33bfc4da-35f8-4c1c-c24f-1b639b4cd2e9"
      },
      "execution_count": 4,
      "outputs": [
        {
          "output_type": "stream",
          "name": "stdout",
          "text": [
            "dict_keys(['data', 'filenames', 'target_names', 'target', 'DESCR'])\n"
          ]
        }
      ]
    },
    {
      "cell_type": "code",
      "source": [
        "import pandas as pd\n",
        "\n",
        "print('target 클래스의 값과 분포도 \\n', pd.Series(news_data.target).value_counts().sort_index())\n",
        "print('target 클래스의 이름들 \\n', news_data.target_names)"
      ],
      "metadata": {
        "colab": {
          "base_uri": "https://localhost:8080/"
        },
        "id": "Jg-KPsXDoGvx",
        "outputId": "92edd186-0af0-46e1-b3c1-e0f75805b202"
      },
      "execution_count": 12,
      "outputs": [
        {
          "output_type": "stream",
          "name": "stdout",
          "text": [
            "target 클래스의 값과 분포도 \n",
            " 0     799\n",
            "1     973\n",
            "2     985\n",
            "3     982\n",
            "4     963\n",
            "5     988\n",
            "6     975\n",
            "7     990\n",
            "8     996\n",
            "9     994\n",
            "10    999\n",
            "11    991\n",
            "12    984\n",
            "13    990\n",
            "14    987\n",
            "15    997\n",
            "16    910\n",
            "17    940\n",
            "18    775\n",
            "19    628\n",
            "dtype: int64\n",
            "target 클래스의 이름들 \n",
            " ['alt.atheism', 'comp.graphics', 'comp.os.ms-windows.misc', 'comp.sys.ibm.pc.hardware', 'comp.sys.mac.hardware', 'comp.windows.x', 'misc.forsale', 'rec.autos', 'rec.motorcycles', 'rec.sport.baseball', 'rec.sport.hockey', 'sci.crypt', 'sci.electronics', 'sci.med', 'sci.space', 'soc.religion.christian', 'talk.politics.guns', 'talk.politics.mideast', 'talk.politics.misc', 'talk.religion.misc']\n"
          ]
        }
      ]
    },
    {
      "cell_type": "code",
      "source": [
        "print(news_data.data[0])"
      ],
      "metadata": {
        "colab": {
          "base_uri": "https://localhost:8080/"
        },
        "id": "fqQW7Sp5oVgG",
        "outputId": "ff36dbca-45b0-486a-a34a-10324504a046"
      },
      "execution_count": 13,
      "outputs": [
        {
          "output_type": "stream",
          "name": "stdout",
          "text": [
            "From: egreen@east.sun.com (Ed Green - Pixel Cruncher)\n",
            "Subject: Re: Observation re: helmets\n",
            "Organization: Sun Microsystems, RTP, NC\n",
            "Lines: 21\n",
            "Distribution: world\n",
            "Reply-To: egreen@east.sun.com\n",
            "NNTP-Posting-Host: laser.east.sun.com\n",
            "\n",
            "In article 211353@mavenry.altcit.eskimo.com, maven@mavenry.altcit.eskimo.com (Norman Hamer) writes:\n",
            "> \n",
            "> The question for the day is re: passenger helmets, if you don't know for \n",
            ">certain who's gonna ride with you (like say you meet them at a .... church \n",
            ">meeting, yeah, that's the ticket)... What are some guidelines? Should I just \n",
            ">pick up another shoei in my size to have a backup helmet (XL), or should I \n",
            ">maybe get an inexpensive one of a smaller size to accomodate my likely \n",
            ">passenger? \n",
            "\n",
            "If your primary concern is protecting the passenger in the event of a\n",
            "crash, have him or her fitted for a helmet that is their size.  If your\n",
            "primary concern is complying with stupid helmet laws, carry a real big\n",
            "spare (you can put a big or small head in a big helmet, but not in a\n",
            "small one).\n",
            "\n",
            "---\n",
            "Ed Green, former Ninjaite |I was drinking last night with a biker,\n",
            "  Ed.Green@East.Sun.COM   |and I showed him a picture of you.  I said,\n",
            "DoD #0111  (919)460-8302  |\"Go on, get to know her, you'll like her!\"\n",
            " (The Grateful Dead) -->  |It seemed like the least I could do...\n",
            "\n",
            "\n"
          ]
        }
      ]
    },
    {
      "cell_type": "markdown",
      "source": [
        "- 제목, 소속, 이메일 주소 등의 헤더는 뉴스 그룹 분류의 target 클래스 값과 유사한 데이터를 가지고 있는 경우가 많기에 제거한다.\n",
        "\n",
        "- 순수한 text만으로 구성된 기사 내용으로 어떤 뉴스 그룹에 속하는 지 분류"
      ],
      "metadata": {
        "id": "ZzlLTkcBpAM8"
      }
    },
    {
      "cell_type": "code",
      "source": [
        "from sklearn.datasets import fetch_20newsgroups\n",
        "\n",
        "# subset='train'으로 학습용(Train) 데이터만 추출, remove=('headers', 'footers', 'quotes')로 내용만 추출\n",
        "train_news= fetch_20newsgroups(subset='train', remove=('headers', 'footers', 'quotes'), random_state=156)\n",
        "X_train = train_news.data\n",
        "y_train = train_news.target\n",
        "print(type(X_train))\n",
        "\n",
        "# subset='test'으로 테스트(Test) 데이터만 추출, remove=('headers', 'footers', 'quotes')로 내용만 추출\n",
        "test_news= fetch_20newsgroups(subset='test',remove=('headers', 'footers','quotes'),random_state=156)\n",
        "X_test = test_news.data\n",
        "y_test = test_news.target\n",
        "print('학습 데이터 크기 {0} , 테스트 데이터 크기 {1}'.format(len(train_news.data) , len(test_news.data)))"
      ],
      "metadata": {
        "colab": {
          "base_uri": "https://localhost:8080/"
        },
        "id": "Cl3ujDwIphk8",
        "outputId": "ab2374db-66dd-40af-cd67-02125a099ffc"
      },
      "execution_count": 15,
      "outputs": [
        {
          "output_type": "stream",
          "name": "stdout",
          "text": [
            "<class 'list'>\n",
            "학습 데이터 크기 11314 , 테스트 데이터 크기 7532\n"
          ]
        }
      ]
    },
    {
      "cell_type": "markdown",
      "source": [
        "> **피처 벡터화 변환과 머신러닝 모델 학습/예측/평가**"
      ],
      "metadata": {
        "id": "xl03kVIVqXuP"
      }
    },
    {
      "cell_type": "markdown",
      "source": [
        "- default값으로만 전처리를 한 경우"
      ],
      "metadata": {
        "id": "TdoP-ti2yv6f"
      }
    },
    {
      "cell_type": "code",
      "source": [
        "from sklearn.feature_extraction.text import CountVectorizer\n",
        "# Count Vectorization으로 feature extraction 변환 수행.\n",
        "cnt_vect = CountVectorizer()\n",
        "\n",
        "cnt_vect.fit(X_train)\n",
        "X_train_cnt_vect = cnt_vect.transform(X_train)\n",
        "\n",
        "# 학습 데이터로 fit( )된 CountVectorizer를 이용하여 테스트 데이터를 feature extraction 변환 수행.\n",
        "X_test_cnt_vect = cnt_vect.transform(X_test)\n",
        "\n",
        "print('학습 데이터 Text의 CountVectorizer Shape:',X_train_cnt_vect.shape)"
      ],
      "metadata": {
        "colab": {
          "base_uri": "https://localhost:8080/"
        },
        "id": "TSLmHG0tqW1f",
        "outputId": "4adddb59-7f08-4894-e026-54edcc519a1d"
      },
      "execution_count": 17,
      "outputs": [
        {
          "output_type": "stream",
          "name": "stdout",
          "text": [
            "학습 데이터 Text의 CountVectorizer Shape: (11314, 101631)\n"
          ]
        }
      ]
    },
    {
      "cell_type": "code",
      "source": [
        "# count 기반\n",
        "from sklearn.linear_model import LogisticRegression\n",
        "from sklearn.metrics import accuracy_score\n",
        "import warnings\n",
        "warnings.filterwarnings('ignore')\n",
        "\n",
        "# LogisticRegression을 이용하여 학습/예측/평가 수행.\n",
        "lr_clf = LogisticRegression(solver = 'liblinear')\n",
        "lr_clf.fit(X_train_cnt_vect, y_train)\n",
        "pred = lr_clf.predict(X_test_cnt_vect)\n",
        "print('CountVectorized Logistic Regression 의 예측 정확도는 {0:.3f}'.format(accuracy_score(y_test,pred)))"
      ],
      "metadata": {
        "colab": {
          "base_uri": "https://localhost:8080/"
        },
        "id": "0lQL2eMkqTkS",
        "outputId": "4706e033-8d3d-47bd-c45a-4e44d9267bc2"
      },
      "execution_count": 19,
      "outputs": [
        {
          "output_type": "stream",
          "name": "stdout",
          "text": [
            "CountVectorized Logistic Regression 의 예측 정확도는 0.617\n"
          ]
        }
      ]
    },
    {
      "cell_type": "code",
      "source": [
        "# tf- idf 기반\n",
        "from sklearn.feature_extraction.text import TfidfVectorizer\n",
        "\n",
        "# TF-IDF Vectorization 적용하여 학습 데이터셋과 테스트 데이터 셋 변환.\n",
        "tfidf_vect = TfidfVectorizer()\n",
        "tfidf_vect.fit(X_train)\n",
        "X_train_tfidf_vect = tfidf_vect.transform(X_train)\n",
        "X_test_tfidf_vect = tfidf_vect.transform(X_test)\n",
        "\n",
        "# LogisticRegression을 이용하여 학습/예측/평가 수행\n",
        "lr_clf = LogisticRegression(solver='liblinear')\n",
        "lr_clf.fit(X_train_tfidf_vect , y_train)\n",
        "pred = lr_clf.predict(X_test_tfidf_vect)\n",
        "print('TF-IDF Logistic Regression 의 예측 정확도는 {0:.3f}'.format(accuracy_score(y_test ,pred)))"
      ],
      "metadata": {
        "colab": {
          "base_uri": "https://localhost:8080/"
        },
        "id": "-5VkbJE8yR0L",
        "outputId": "66cf803e-ea9d-480d-f087-035d298d6a56"
      },
      "execution_count": 20,
      "outputs": [
        {
          "output_type": "stream",
          "name": "stdout",
          "text": [
            "TF-IDF Logistic Regression 의 예측 정확도는 0.678\n"
          ]
        }
      ]
    },
    {
      "cell_type": "markdown",
      "source": [
        "> 텍스트 분석에서 머신러닝 모델의 성능을 향상시키는 2가지 방법\n",
        "1. 최적의 ML알고리즘 선택\n",
        "2. 최상의 피처 전처리 수행"
      ],
      "metadata": {
        "id": "FO6Ferst1wqJ"
      }
    },
    {
      "cell_type": "markdown",
      "source": [
        "- 다양한 parameter를 적용한 tfidf 벡터화"
      ],
      "metadata": {
        "id": "9lr6jol21__5"
      }
    },
    {
      "cell_type": "code",
      "source": [
        "# stop words 필터링을 추가하고 ngram을 기본(1,1)에서 (1,2)로 변경하여 Feature Vectorization 적용.\n",
        "tfidf_vect = TfidfVectorizer(stop_words='english', ngram_range=(1,2), max_df=300 )\n",
        "tfidf_vect.fit(X_train)\n",
        "X_train_tfidf_vect = tfidf_vect.transform(X_train)\n",
        "X_test_tfidf_vect = tfidf_vect.transform(X_test)\n",
        "\n",
        "lr_clf = LogisticRegression(solver='liblinear')\n",
        "lr_clf.fit(X_train_tfidf_vect , y_train)\n",
        "pred = lr_clf.predict(X_test_tfidf_vect)\n",
        "print('TF-IDF Vectorized Logistic Regression 의 예측 정확도는 {0:.3f}'.format(accuracy_score(y_test ,pred)))"
      ],
      "metadata": {
        "colab": {
          "base_uri": "https://localhost:8080/"
        },
        "id": "HuIg6yqn1iby",
        "outputId": "b1bb8edc-f378-48be-fece-5b557e9ea62c"
      },
      "execution_count": 21,
      "outputs": [
        {
          "output_type": "stream",
          "name": "stdout",
          "text": [
            "TF-IDF Vectorized Logistic Regression 의 예측 정확도는 0.690\n"
          ]
        }
      ]
    },
    {
      "cell_type": "markdown",
      "source": [
        "> GridSearchCV를 이용한 로지스틱 회귀 하이퍼 파라미터 최적화\n",
        "\n",
        "- 로지스틱 회귀의 C 매개변수 : 규제(regularization)의 강도를 조절하는 하이퍼파라미터\n",
        "- 규제는 모델의 복잡도를 조절하여 과적합(overfitting)을 방지하고 일반화 성능을 향상시키는데 사용됨\n",
        "- C 값이 작을수록 규제의 강도가 강해지며, 모델은 더 간단한 결정 경계를 찾게 됩니다. 반대로 C 값이 클수록 규제의 강도가 약해지며, 모델은 학습 데이터에 더 잘 적합될 수 있습니다.\n",
        "\n",
        "![image.png](data:image/png;base64,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)"
      ],
      "metadata": {
        "id": "0oN6szSh2kpM"
      }
    },
    {
      "cell_type": "code",
      "source": [
        "from sklearn.model_selection import GridSearchCV\n",
        "\n",
        "# 최적 C 값 도출 튜닝 수행. CV는 3 Fold셋으로 설정.\n",
        "params = { 'C':[0.01, 0.1, 1, 5, 10]}\n",
        "grid_cv_lr = GridSearchCV(lr_clf ,param_grid=params , cv=3 , scoring='accuracy' , verbose=1 )\n",
        "grid_cv_lr.fit(X_train_tfidf_vect , y_train)\n",
        "print('Logistic Regression best C parameter :',grid_cv_lr.best_params_ )\n",
        "\n",
        "# 최적 C 값으로 학습된 grid_cv로 예측 수행하고 정확도 평가.\n",
        "pred = grid_cv_lr.predict(X_test_tfidf_vect)\n",
        "print('TF-IDF Vectorized Logistic Regression 의 예측 정확도는 {0:.3f}'.format(accuracy_score(y_test ,pred)))"
      ],
      "metadata": {
        "colab": {
          "base_uri": "https://localhost:8080/"
        },
        "id": "EhCoID9V3LAF",
        "outputId": "b4747955-db9d-4a61-8476-f9f30575e58d"
      },
      "execution_count": 22,
      "outputs": [
        {
          "output_type": "stream",
          "name": "stdout",
          "text": [
            "Fitting 3 folds for each of 5 candidates, totalling 15 fits\n",
            "Logistic Regression best C parameter : {'C': 10}\n",
            "TF-IDF Vectorized Logistic Regression 의 예측 정확도는 0.704\n"
          ]
        }
      ]
    },
    {
      "cell_type": "markdown",
      "source": [
        "> **사이킷런 파이프라인(Pipeline) 사용 및 GridSearchCV와의 결합**\n",
        "\n",
        "- 피쳐 벡터화와 ML알고리즘 학습 / 예측을 위한 코드 작성을 한 번에 진행 가능\n",
        "\n",
        "- 데이터의 전처리와 머신러닝 학습 과정을 통일된 api 기반에서 처리할 수 있어 더 직관적인 ML 모델 코드를 생성 가능"
      ],
      "metadata": {
        "id": "0mYfRUPj3w4d"
      }
    },
    {
      "cell_type": "code",
      "source": [
        "# pipeline 사용 예시\n",
        "from sklearn.pipeline import Pipeline\n",
        "pipeline = Pipeline([('tfidf_vect', TfidfVectorizer(stop_words = 'english')), ('lr_clf', LogisticRegression(random_state = 156))])"
      ],
      "metadata": {
        "id": "kp_AGWb630Je"
      },
      "execution_count": 24,
      "outputs": []
    },
    {
      "cell_type": "code",
      "source": [
        "from sklearn.pipeline import Pipeline\n",
        "pipeline = Pipeline([('tfidf_vect', TfidfVectorizer(stop_words='english')),\n",
        "    ('lr_clf', LogisticRegression(solver='liblinear'))])\n",
        "\n",
        "# 별도의 TfidfVectorizer객체의 fit_transform( )과 LogisticRegression의 fit(), predict( )가 필요 없음.\n",
        "# pipeline의 fit( ) 과 predict( ) 만으로 한꺼번에 Feature Vectorization과 ML 학습/예측이 가능.\n",
        "pipeline.fit(X_train, y_train)\n",
        "pred = pipeline.predict(X_test)\n",
        "print('Pipeline을 통한 Logistic Regression 의 예측 정확도는 {0:.3f}'.format(accuracy_score(y_test ,pred)))"
      ],
      "metadata": {
        "colab": {
          "base_uri": "https://localhost:8080/"
        },
        "id": "tk8jiDBr5hIm",
        "outputId": "4f1dec31-d301-4b53-806c-1e5bc3c7198c"
      },
      "execution_count": 25,
      "outputs": [
        {
          "output_type": "stream",
          "name": "stdout",
          "text": [
            "Pipeline을 통한 Logistic Regression 의 예측 정확도는 0.690\n"
          ]
        }
      ]
    },
    {
      "cell_type": "markdown",
      "source": [
        "> GridSearchCV의 생성 파라미터로 Pipeline을 입력해주면, pipeline 기반에서도 하이퍼 파라미터 튜닝이 가능하다."
      ],
      "metadata": {
        "id": "HzFmYxNy8Mvu"
      }
    },
    {
      "cell_type": "code",
      "source": [
        "from sklearn.pipeline import Pipeline\n",
        "\n",
        "pipeline = Pipeline([\n",
        "    ('tfidf_vect', TfidfVectorizer(stop_words='english')),\n",
        "    ('lr_clf', LogisticRegression(solver='liblinear'))\n",
        "])\n",
        "\n",
        "# Pipeline에 기술된 각각의 객체 변수에 언더바(_)2개를 연달아 붙여 GridSearchCV에 사용될\n",
        "# 파라미터/하이퍼 파라미터 이름과 값을 설정. .\n",
        "params = { 'tfidf_vect__ngram_range': [(1,1), (1,2), (1,3)],\n",
        "           'tfidf_vect__max_df': [100, 300, 700],\n",
        "           'lr_clf__C': [1, 5, 10]\n",
        "}\n",
        "\n",
        "# GridSearchCV의 생성자에 Estimator가 아닌 Pipeline 객체 입력\n",
        "grid_cv_pipe = GridSearchCV(pipeline, param_grid=params, cv=3 , scoring='accuracy',verbose=1)\n",
        "grid_cv_pipe.fit(X_train , y_train)\n",
        "print(grid_cv_pipe.best_params_ , grid_cv_pipe.best_score_)\n",
        "\n",
        "pred = grid_cv_pipe.predict(X_test)\n",
        "print('Pipeline을 통한 Logistic Regression 의 예측 정확도는 {0:.3f}'.format(accuracy_score(y_test ,pred)))"
      ],
      "metadata": {
        "colab": {
          "base_uri": "https://localhost:8080/"
        },
        "id": "WbHheiaI8MQx",
        "outputId": "a9dd701d-925a-4fed-da6a-3bd173726b96"
      },
      "execution_count": 26,
      "outputs": [
        {
          "output_type": "stream",
          "name": "stdout",
          "text": [
            "Fitting 3 folds for each of 27 candidates, totalling 81 fits\n",
            "{'lr_clf__C': 10, 'tfidf_vect__max_df': 700, 'tfidf_vect__ngram_range': (1, 2)} 0.7550828826229531\n",
            "Pipeline을 통한 Logistic Regression 의 예측 정확도는 0.702\n"
          ]
        }
      ]
    }
  ]
}