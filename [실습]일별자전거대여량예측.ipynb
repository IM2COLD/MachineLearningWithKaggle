{
  "nbformat": 4,
  "nbformat_minor": 0,
  "metadata": {
    "colab": {
      "provenance": []
    },
    "kernelspec": {
      "name": "python3",
      "display_name": "Python 3"
    },
    "language_info": {
      "name": "python"
    }
  },
  "cells": [
    {
      "cell_type": "markdown",
      "source": [
        "[대회 링크](https://www.kaggle.com/competitions/bike-sharing-demand/data?select=train.csv)\n",
        "- datetime: 시간별 날짜 및 타임스탬프\n",
        "-season: 계절 (1 = 봄, 2 = 여름, 3 = 가을, 4 = 겨울)\n",
        "- holiday: 해당 날짜가 공휴일인지 여부\n",
        "- workingday: 해당 날짜가 주말 또는 공휴일이 아닌지 여부\n",
        "- weather: 날씨 (1: 맑음, 구름이 거의 없음, 약간 흐림, 일부 흐림 / 2: 안개 + 흐림, 안개 + 깨진 구름, 안개 + 일부 구름, 안개 / 3: 가벼운 눈, 가벼운 비 + 천둥 + 흩어진 구름, 가벼운 비 + 흩어진 구름 / 4: 폭우 + 얼음 조각 + 천둥 + 안개, 눈 + 안개)\n",
        "- temp: 섭씨 온도\n",
        "- atemp: 체감 온도 (섭씨)\n",
        "- humidity: 상대 습도\n",
        "- windspeed: 풍속\n",
        "- casual: 비등록 사용자 대여 시작 수\n",
        "- registered: 등록 사용자 대여 시작 수\n",
        "---\n",
        "- count: 총 대여 횟수 => 최종 결정 값 target column"
      ],
      "metadata": {
        "id": "k-1sjx7935S0"
      }
    },
    {
      "cell_type": "code",
      "source": [
        "import numpy as np\n",
        "import pandas as pd\n",
        "import seaborn as sns\n",
        "import matplotlib.pyplot as plt\n",
        "%matplotlib inline\n",
        "\n",
        "import warnings\n",
        "warnings.filterwarnings(\"ignore\", category=RuntimeWarning)\n",
        "\n",
        "bike_df = pd.read_csv('/content/drive/MyDrive/Kaggle - 파이썬 머신러닝 완벽 가이드/kaggleData/bike_train.csv')\n",
        "print(bike_df.shape)\n",
        "bike_df.head(5)"
      ],
      "metadata": {
        "colab": {
          "base_uri": "https://localhost:8080/",
          "height": 418
        },
        "id": "B7-dg-Sp4HXa",
        "outputId": "1a5b2d0c-2597-4c2a-8201-50a8f3b06626"
      },
      "execution_count": 42,
      "outputs": [
        {
          "output_type": "stream",
          "name": "stdout",
          "text": [
            "(10886, 12)\n"
          ]
        },
        {
          "output_type": "execute_result",
          "data": {
            "text/plain": [
              "              datetime  season  holiday  workingday  weather  temp   atemp  \\\n",
              "0  2011-01-01 00:00:00       1        0           0        1  9.84  14.395   \n",
              "1  2011-01-01 01:00:00       1        0           0        1  9.02  13.635   \n",
              "2  2011-01-01 02:00:00       1        0           0        1  9.02  13.635   \n",
              "3  2011-01-01 03:00:00       1        0           0        1  9.84  14.395   \n",
              "4  2011-01-01 04:00:00       1        0           0        1  9.84  14.395   \n",
              "\n",
              "   humidity  windspeed  casual  registered  count  \n",
              "0        81        0.0       3          13     16  \n",
              "1        80        0.0       8          32     40  \n",
              "2        80        0.0       5          27     32  \n",
              "3        75        0.0       3          10     13  \n",
              "4        75        0.0       0           1      1  "
            ],
            "text/html": [
              "\n",
              "  <div id=\"df-1b7b8928-1a34-4d92-b43c-dc0a0241f274\" class=\"colab-df-container\">\n",
              "    <div>\n",
              "<style scoped>\n",
              "    .dataframe tbody tr th:only-of-type {\n",
              "        vertical-align: middle;\n",
              "    }\n",
              "\n",
              "    .dataframe tbody tr th {\n",
              "        vertical-align: top;\n",
              "    }\n",
              "\n",
              "    .dataframe thead th {\n",
              "        text-align: right;\n",
              "    }\n",
              "</style>\n",
              "<table border=\"1\" class=\"dataframe\">\n",
              "  <thead>\n",
              "    <tr style=\"text-align: right;\">\n",
              "      <th></th>\n",
              "      <th>datetime</th>\n",
              "      <th>season</th>\n",
              "      <th>holiday</th>\n",
              "      <th>workingday</th>\n",
              "      <th>weather</th>\n",
              "      <th>temp</th>\n",
              "      <th>atemp</th>\n",
              "      <th>humidity</th>\n",
              "      <th>windspeed</th>\n",
              "      <th>casual</th>\n",
              "      <th>registered</th>\n",
              "      <th>count</th>\n",
              "    </tr>\n",
              "  </thead>\n",
              "  <tbody>\n",
              "    <tr>\n",
              "      <th>0</th>\n",
              "      <td>2011-01-01 00:00:00</td>\n",
              "      <td>1</td>\n",
              "      <td>0</td>\n",
              "      <td>0</td>\n",
              "      <td>1</td>\n",
              "      <td>9.84</td>\n",
              "      <td>14.395</td>\n",
              "      <td>81</td>\n",
              "      <td>0.0</td>\n",
              "      <td>3</td>\n",
              "      <td>13</td>\n",
              "      <td>16</td>\n",
              "    </tr>\n",
              "    <tr>\n",
              "      <th>1</th>\n",
              "      <td>2011-01-01 01:00:00</td>\n",
              "      <td>1</td>\n",
              "      <td>0</td>\n",
              "      <td>0</td>\n",
              "      <td>1</td>\n",
              "      <td>9.02</td>\n",
              "      <td>13.635</td>\n",
              "      <td>80</td>\n",
              "      <td>0.0</td>\n",
              "      <td>8</td>\n",
              "      <td>32</td>\n",
              "      <td>40</td>\n",
              "    </tr>\n",
              "    <tr>\n",
              "      <th>2</th>\n",
              "      <td>2011-01-01 02:00:00</td>\n",
              "      <td>1</td>\n",
              "      <td>0</td>\n",
              "      <td>0</td>\n",
              "      <td>1</td>\n",
              "      <td>9.02</td>\n",
              "      <td>13.635</td>\n",
              "      <td>80</td>\n",
              "      <td>0.0</td>\n",
              "      <td>5</td>\n",
              "      <td>27</td>\n",
              "      <td>32</td>\n",
              "    </tr>\n",
              "    <tr>\n",
              "      <th>3</th>\n",
              "      <td>2011-01-01 03:00:00</td>\n",
              "      <td>1</td>\n",
              "      <td>0</td>\n",
              "      <td>0</td>\n",
              "      <td>1</td>\n",
              "      <td>9.84</td>\n",
              "      <td>14.395</td>\n",
              "      <td>75</td>\n",
              "      <td>0.0</td>\n",
              "      <td>3</td>\n",
              "      <td>10</td>\n",
              "      <td>13</td>\n",
              "    </tr>\n",
              "    <tr>\n",
              "      <th>4</th>\n",
              "      <td>2011-01-01 04:00:00</td>\n",
              "      <td>1</td>\n",
              "      <td>0</td>\n",
              "      <td>0</td>\n",
              "      <td>1</td>\n",
              "      <td>9.84</td>\n",
              "      <td>14.395</td>\n",
              "      <td>75</td>\n",
              "      <td>0.0</td>\n",
              "      <td>0</td>\n",
              "      <td>1</td>\n",
              "      <td>1</td>\n",
              "    </tr>\n",
              "  </tbody>\n",
              "</table>\n",
              "</div>\n",
              "    <div class=\"colab-df-buttons\">\n",
              "\n",
              "  <div class=\"colab-df-container\">\n",
              "    <button class=\"colab-df-convert\" onclick=\"convertToInteractive('df-1b7b8928-1a34-4d92-b43c-dc0a0241f274')\"\n",
              "            title=\"Convert this dataframe to an interactive table.\"\n",
              "            style=\"display:none;\">\n",
              "\n",
              "  <svg xmlns=\"http://www.w3.org/2000/svg\" height=\"24px\" viewBox=\"0 -960 960 960\">\n",
              "    <path d=\"M120-120v-720h720v720H120Zm60-500h600v-160H180v160Zm220 220h160v-160H400v160Zm0 220h160v-160H400v160ZM180-400h160v-160H180v160Zm440 0h160v-160H620v160ZM180-180h160v-160H180v160Zm440 0h160v-160H620v160Z\"/>\n",
              "  </svg>\n",
              "    </button>\n",
              "\n",
              "  <style>\n",
              "    .colab-df-container {\n",
              "      display:flex;\n",
              "      gap: 12px;\n",
              "    }\n",
              "\n",
              "    .colab-df-convert {\n",
              "      background-color: #E8F0FE;\n",
              "      border: none;\n",
              "      border-radius: 50%;\n",
              "      cursor: pointer;\n",
              "      display: none;\n",
              "      fill: #1967D2;\n",
              "      height: 32px;\n",
              "      padding: 0 0 0 0;\n",
              "      width: 32px;\n",
              "    }\n",
              "\n",
              "    .colab-df-convert:hover {\n",
              "      background-color: #E2EBFA;\n",
              "      box-shadow: 0px 1px 2px rgba(60, 64, 67, 0.3), 0px 1px 3px 1px rgba(60, 64, 67, 0.15);\n",
              "      fill: #174EA6;\n",
              "    }\n",
              "\n",
              "    .colab-df-buttons div {\n",
              "      margin-bottom: 4px;\n",
              "    }\n",
              "\n",
              "    [theme=dark] .colab-df-convert {\n",
              "      background-color: #3B4455;\n",
              "      fill: #D2E3FC;\n",
              "    }\n",
              "\n",
              "    [theme=dark] .colab-df-convert:hover {\n",
              "      background-color: #434B5C;\n",
              "      box-shadow: 0px 1px 3px 1px rgba(0, 0, 0, 0.15);\n",
              "      filter: drop-shadow(0px 1px 2px rgba(0, 0, 0, 0.3));\n",
              "      fill: #FFFFFF;\n",
              "    }\n",
              "  </style>\n",
              "\n",
              "    <script>\n",
              "      const buttonEl =\n",
              "        document.querySelector('#df-1b7b8928-1a34-4d92-b43c-dc0a0241f274 button.colab-df-convert');\n",
              "      buttonEl.style.display =\n",
              "        google.colab.kernel.accessAllowed ? 'block' : 'none';\n",
              "\n",
              "      async function convertToInteractive(key) {\n",
              "        const element = document.querySelector('#df-1b7b8928-1a34-4d92-b43c-dc0a0241f274');\n",
              "        const dataTable =\n",
              "          await google.colab.kernel.invokeFunction('convertToInteractive',\n",
              "                                                    [key], {});\n",
              "        if (!dataTable) return;\n",
              "\n",
              "        const docLinkHtml = 'Like what you see? Visit the ' +\n",
              "          '<a target=\"_blank\" href=https://colab.research.google.com/notebooks/data_table.ipynb>data table notebook</a>'\n",
              "          + ' to learn more about interactive tables.';\n",
              "        element.innerHTML = '';\n",
              "        dataTable['output_type'] = 'display_data';\n",
              "        await google.colab.output.renderOutput(dataTable, element);\n",
              "        const docLink = document.createElement('div');\n",
              "        docLink.innerHTML = docLinkHtml;\n",
              "        element.appendChild(docLink);\n",
              "      }\n",
              "    </script>\n",
              "  </div>\n",
              "\n",
              "\n",
              "<div id=\"df-3387de0b-3555-487b-a02c-4fd52c3d9bcd\">\n",
              "  <button class=\"colab-df-quickchart\" onclick=\"quickchart('df-3387de0b-3555-487b-a02c-4fd52c3d9bcd')\"\n",
              "            title=\"Suggest charts\"\n",
              "            style=\"display:none;\">\n",
              "\n",
              "<svg xmlns=\"http://www.w3.org/2000/svg\" height=\"24px\"viewBox=\"0 0 24 24\"\n",
              "     width=\"24px\">\n",
              "    <g>\n",
              "        <path d=\"M19 3H5c-1.1 0-2 .9-2 2v14c0 1.1.9 2 2 2h14c1.1 0 2-.9 2-2V5c0-1.1-.9-2-2-2zM9 17H7v-7h2v7zm4 0h-2V7h2v10zm4 0h-2v-4h2v4z\"/>\n",
              "    </g>\n",
              "</svg>\n",
              "  </button>\n",
              "\n",
              "<style>\n",
              "  .colab-df-quickchart {\n",
              "      --bg-color: #E8F0FE;\n",
              "      --fill-color: #1967D2;\n",
              "      --hover-bg-color: #E2EBFA;\n",
              "      --hover-fill-color: #174EA6;\n",
              "      --disabled-fill-color: #AAA;\n",
              "      --disabled-bg-color: #DDD;\n",
              "  }\n",
              "\n",
              "  [theme=dark] .colab-df-quickchart {\n",
              "      --bg-color: #3B4455;\n",
              "      --fill-color: #D2E3FC;\n",
              "      --hover-bg-color: #434B5C;\n",
              "      --hover-fill-color: #FFFFFF;\n",
              "      --disabled-bg-color: #3B4455;\n",
              "      --disabled-fill-color: #666;\n",
              "  }\n",
              "\n",
              "  .colab-df-quickchart {\n",
              "    background-color: var(--bg-color);\n",
              "    border: none;\n",
              "    border-radius: 50%;\n",
              "    cursor: pointer;\n",
              "    display: none;\n",
              "    fill: var(--fill-color);\n",
              "    height: 32px;\n",
              "    padding: 0;\n",
              "    width: 32px;\n",
              "  }\n",
              "\n",
              "  .colab-df-quickchart:hover {\n",
              "    background-color: var(--hover-bg-color);\n",
              "    box-shadow: 0 1px 2px rgba(60, 64, 67, 0.3), 0 1px 3px 1px rgba(60, 64, 67, 0.15);\n",
              "    fill: var(--button-hover-fill-color);\n",
              "  }\n",
              "\n",
              "  .colab-df-quickchart-complete:disabled,\n",
              "  .colab-df-quickchart-complete:disabled:hover {\n",
              "    background-color: var(--disabled-bg-color);\n",
              "    fill: var(--disabled-fill-color);\n",
              "    box-shadow: none;\n",
              "  }\n",
              "\n",
              "  .colab-df-spinner {\n",
              "    border: 2px solid var(--fill-color);\n",
              "    border-color: transparent;\n",
              "    border-bottom-color: var(--fill-color);\n",
              "    animation:\n",
              "      spin 1s steps(1) infinite;\n",
              "  }\n",
              "\n",
              "  @keyframes spin {\n",
              "    0% {\n",
              "      border-color: transparent;\n",
              "      border-bottom-color: var(--fill-color);\n",
              "      border-left-color: var(--fill-color);\n",
              "    }\n",
              "    20% {\n",
              "      border-color: transparent;\n",
              "      border-left-color: var(--fill-color);\n",
              "      border-top-color: var(--fill-color);\n",
              "    }\n",
              "    30% {\n",
              "      border-color: transparent;\n",
              "      border-left-color: var(--fill-color);\n",
              "      border-top-color: var(--fill-color);\n",
              "      border-right-color: var(--fill-color);\n",
              "    }\n",
              "    40% {\n",
              "      border-color: transparent;\n",
              "      border-right-color: var(--fill-color);\n",
              "      border-top-color: var(--fill-color);\n",
              "    }\n",
              "    60% {\n",
              "      border-color: transparent;\n",
              "      border-right-color: var(--fill-color);\n",
              "    }\n",
              "    80% {\n",
              "      border-color: transparent;\n",
              "      border-right-color: var(--fill-color);\n",
              "      border-bottom-color: var(--fill-color);\n",
              "    }\n",
              "    90% {\n",
              "      border-color: transparent;\n",
              "      border-bottom-color: var(--fill-color);\n",
              "    }\n",
              "  }\n",
              "</style>\n",
              "\n",
              "  <script>\n",
              "    async function quickchart(key) {\n",
              "      const quickchartButtonEl =\n",
              "        document.querySelector('#' + key + ' button');\n",
              "      quickchartButtonEl.disabled = true;  // To prevent multiple clicks.\n",
              "      quickchartButtonEl.classList.add('colab-df-spinner');\n",
              "      try {\n",
              "        const charts = await google.colab.kernel.invokeFunction(\n",
              "            'suggestCharts', [key], {});\n",
              "      } catch (error) {\n",
              "        console.error('Error during call to suggestCharts:', error);\n",
              "      }\n",
              "      quickchartButtonEl.classList.remove('colab-df-spinner');\n",
              "      quickchartButtonEl.classList.add('colab-df-quickchart-complete');\n",
              "    }\n",
              "    (() => {\n",
              "      let quickchartButtonEl =\n",
              "        document.querySelector('#df-3387de0b-3555-487b-a02c-4fd52c3d9bcd button');\n",
              "      quickchartButtonEl.style.display =\n",
              "        google.colab.kernel.accessAllowed ? 'block' : 'none';\n",
              "    })();\n",
              "  </script>\n",
              "</div>\n",
              "\n",
              "    </div>\n",
              "  </div>\n"
            ]
          },
          "metadata": {},
          "execution_count": 42
        }
      ]
    },
    {
      "cell_type": "code",
      "source": [
        "bike_df.holiday.value_counts()"
      ],
      "metadata": {
        "colab": {
          "base_uri": "https://localhost:8080/"
        },
        "id": "-qfHTzhSXUha",
        "outputId": "371e04f4-ced4-4352-ed6f-4b00de19a011"
      },
      "execution_count": 43,
      "outputs": [
        {
          "output_type": "execute_result",
          "data": {
            "text/plain": [
              "0    10575\n",
              "1      311\n",
              "Name: holiday, dtype: int64"
            ]
          },
          "metadata": {},
          "execution_count": 43
        }
      ]
    },
    {
      "cell_type": "code",
      "source": [
        "bike_df.workingday.value_counts()"
      ],
      "metadata": {
        "colab": {
          "base_uri": "https://localhost:8080/"
        },
        "id": "lAxGt3bjXgzL",
        "outputId": "e814317b-f76d-4ae1-e2df-f49c0a776f3c"
      },
      "execution_count": 44,
      "outputs": [
        {
          "output_type": "execute_result",
          "data": {
            "text/plain": [
              "1    7412\n",
              "0    3474\n",
              "Name: workingday, dtype: int64"
            ]
          },
          "metadata": {},
          "execution_count": 44
        }
      ]
    },
    {
      "cell_type": "code",
      "execution_count": 45,
      "metadata": {
        "colab": {
          "base_uri": "https://localhost:8080/"
        },
        "id": "Cp3iqA2S3qnc",
        "outputId": "3da53529-7c85-45ea-fbb6-1ab76522944a"
      },
      "outputs": [
        {
          "output_type": "stream",
          "name": "stdout",
          "text": [
            "<class 'pandas.core.frame.DataFrame'>\n",
            "RangeIndex: 10886 entries, 0 to 10885\n",
            "Data columns (total 12 columns):\n",
            " #   Column      Non-Null Count  Dtype  \n",
            "---  ------      --------------  -----  \n",
            " 0   datetime    10886 non-null  object \n",
            " 1   season      10886 non-null  int64  \n",
            " 2   holiday     10886 non-null  int64  \n",
            " 3   workingday  10886 non-null  int64  \n",
            " 4   weather     10886 non-null  int64  \n",
            " 5   temp        10886 non-null  float64\n",
            " 6   atemp       10886 non-null  float64\n",
            " 7   humidity    10886 non-null  int64  \n",
            " 8   windspeed   10886 non-null  float64\n",
            " 9   casual      10886 non-null  int64  \n",
            " 10  registered  10886 non-null  int64  \n",
            " 11  count       10886 non-null  int64  \n",
            "dtypes: float64(3), int64(8), object(1)\n",
            "memory usage: 1020.7+ KB\n"
          ]
        }
      ],
      "source": [
        "# Column의 type 알아보기!\n",
        "bike_df.info()"
      ]
    },
    {
      "cell_type": "markdown",
      "source": [
        "- Datetime column만 object형이기에, 가공이 필요하다\n",
        "- datetime을 년, 월, 일, 시간의 4개의 속성으로 분리\n",
        "## **apply(pd.to_dateime)**\n",
        "> Pandas에서 Datetme과 같은 문자열을 년도, 월, 일, 시간, 분, 초로 편리하게 변환하려면 먼저 문자열을 'datetime' 타입으로 변경해야한다. => **Pandas는 문자열을 datetime으로 변환하는 apply(pd.to_dateime) 메서드를 제공**"
      ],
      "metadata": {
        "id": "FuLHyVv-5hsS"
      }
    },
    {
      "cell_type": "code",
      "source": [
        "# 문자열 => datetime type\n",
        "bike_df['datetime'] = bike_df.datetime.apply(pd.to_datetime)\n",
        "# datetime 타입에서 년, 월, 일, 시간 추출\n",
        "bike_df['year'] = bike_df.datetime.apply(lambda x : x.year) # lambda 입력값 : 얻고자 하는 값\n",
        "bike_df['month'] = bike_df.datetime.apply(lambda x : x.month)\n",
        "bike_df['day'] = bike_df.datetime.apply(lambda x : x.day)\n",
        "bike_df['hour'] = bike_df.datetime.apply(lambda x: x.hour)\n",
        "bike_df.head(3)"
      ],
      "metadata": {
        "colab": {
          "base_uri": "https://localhost:8080/",
          "height": 268
        },
        "id": "KTz4brer6BK9",
        "outputId": "1d9154e3-fdb5-4549-93b7-5db1dd26cd6b"
      },
      "execution_count": 46,
      "outputs": [
        {
          "output_type": "execute_result",
          "data": {
            "text/plain": [
              "             datetime  season  holiday  workingday  weather  temp   atemp  \\\n",
              "0 2011-01-01 00:00:00       1        0           0        1  9.84  14.395   \n",
              "1 2011-01-01 01:00:00       1        0           0        1  9.02  13.635   \n",
              "2 2011-01-01 02:00:00       1        0           0        1  9.02  13.635   \n",
              "\n",
              "   humidity  windspeed  casual  registered  count  year  month  day  hour  \n",
              "0        81        0.0       3          13     16  2011      1    1     0  \n",
              "1        80        0.0       8          32     40  2011      1    1     1  \n",
              "2        80        0.0       5          27     32  2011      1    1     2  "
            ],
            "text/html": [
              "\n",
              "  <div id=\"df-d30e0bf6-5f84-4b78-b707-7d5a7b255f53\" class=\"colab-df-container\">\n",
              "    <div>\n",
              "<style scoped>\n",
              "    .dataframe tbody tr th:only-of-type {\n",
              "        vertical-align: middle;\n",
              "    }\n",
              "\n",
              "    .dataframe tbody tr th {\n",
              "        vertical-align: top;\n",
              "    }\n",
              "\n",
              "    .dataframe thead th {\n",
              "        text-align: right;\n",
              "    }\n",
              "</style>\n",
              "<table border=\"1\" class=\"dataframe\">\n",
              "  <thead>\n",
              "    <tr style=\"text-align: right;\">\n",
              "      <th></th>\n",
              "      <th>datetime</th>\n",
              "      <th>season</th>\n",
              "      <th>holiday</th>\n",
              "      <th>workingday</th>\n",
              "      <th>weather</th>\n",
              "      <th>temp</th>\n",
              "      <th>atemp</th>\n",
              "      <th>humidity</th>\n",
              "      <th>windspeed</th>\n",
              "      <th>casual</th>\n",
              "      <th>registered</th>\n",
              "      <th>count</th>\n",
              "      <th>year</th>\n",
              "      <th>month</th>\n",
              "      <th>day</th>\n",
              "      <th>hour</th>\n",
              "    </tr>\n",
              "  </thead>\n",
              "  <tbody>\n",
              "    <tr>\n",
              "      <th>0</th>\n",
              "      <td>2011-01-01 00:00:00</td>\n",
              "      <td>1</td>\n",
              "      <td>0</td>\n",
              "      <td>0</td>\n",
              "      <td>1</td>\n",
              "      <td>9.84</td>\n",
              "      <td>14.395</td>\n",
              "      <td>81</td>\n",
              "      <td>0.0</td>\n",
              "      <td>3</td>\n",
              "      <td>13</td>\n",
              "      <td>16</td>\n",
              "      <td>2011</td>\n",
              "      <td>1</td>\n",
              "      <td>1</td>\n",
              "      <td>0</td>\n",
              "    </tr>\n",
              "    <tr>\n",
              "      <th>1</th>\n",
              "      <td>2011-01-01 01:00:00</td>\n",
              "      <td>1</td>\n",
              "      <td>0</td>\n",
              "      <td>0</td>\n",
              "      <td>1</td>\n",
              "      <td>9.02</td>\n",
              "      <td>13.635</td>\n",
              "      <td>80</td>\n",
              "      <td>0.0</td>\n",
              "      <td>8</td>\n",
              "      <td>32</td>\n",
              "      <td>40</td>\n",
              "      <td>2011</td>\n",
              "      <td>1</td>\n",
              "      <td>1</td>\n",
              "      <td>1</td>\n",
              "    </tr>\n",
              "    <tr>\n",
              "      <th>2</th>\n",
              "      <td>2011-01-01 02:00:00</td>\n",
              "      <td>1</td>\n",
              "      <td>0</td>\n",
              "      <td>0</td>\n",
              "      <td>1</td>\n",
              "      <td>9.02</td>\n",
              "      <td>13.635</td>\n",
              "      <td>80</td>\n",
              "      <td>0.0</td>\n",
              "      <td>5</td>\n",
              "      <td>27</td>\n",
              "      <td>32</td>\n",
              "      <td>2011</td>\n",
              "      <td>1</td>\n",
              "      <td>1</td>\n",
              "      <td>2</td>\n",
              "    </tr>\n",
              "  </tbody>\n",
              "</table>\n",
              "</div>\n",
              "    <div class=\"colab-df-buttons\">\n",
              "\n",
              "  <div class=\"colab-df-container\">\n",
              "    <button class=\"colab-df-convert\" onclick=\"convertToInteractive('df-d30e0bf6-5f84-4b78-b707-7d5a7b255f53')\"\n",
              "            title=\"Convert this dataframe to an interactive table.\"\n",
              "            style=\"display:none;\">\n",
              "\n",
              "  <svg xmlns=\"http://www.w3.org/2000/svg\" height=\"24px\" viewBox=\"0 -960 960 960\">\n",
              "    <path d=\"M120-120v-720h720v720H120Zm60-500h600v-160H180v160Zm220 220h160v-160H400v160Zm0 220h160v-160H400v160ZM180-400h160v-160H180v160Zm440 0h160v-160H620v160ZM180-180h160v-160H180v160Zm440 0h160v-160H620v160Z\"/>\n",
              "  </svg>\n",
              "    </button>\n",
              "\n",
              "  <style>\n",
              "    .colab-df-container {\n",
              "      display:flex;\n",
              "      gap: 12px;\n",
              "    }\n",
              "\n",
              "    .colab-df-convert {\n",
              "      background-color: #E8F0FE;\n",
              "      border: none;\n",
              "      border-radius: 50%;\n",
              "      cursor: pointer;\n",
              "      display: none;\n",
              "      fill: #1967D2;\n",
              "      height: 32px;\n",
              "      padding: 0 0 0 0;\n",
              "      width: 32px;\n",
              "    }\n",
              "\n",
              "    .colab-df-convert:hover {\n",
              "      background-color: #E2EBFA;\n",
              "      box-shadow: 0px 1px 2px rgba(60, 64, 67, 0.3), 0px 1px 3px 1px rgba(60, 64, 67, 0.15);\n",
              "      fill: #174EA6;\n",
              "    }\n",
              "\n",
              "    .colab-df-buttons div {\n",
              "      margin-bottom: 4px;\n",
              "    }\n",
              "\n",
              "    [theme=dark] .colab-df-convert {\n",
              "      background-color: #3B4455;\n",
              "      fill: #D2E3FC;\n",
              "    }\n",
              "\n",
              "    [theme=dark] .colab-df-convert:hover {\n",
              "      background-color: #434B5C;\n",
              "      box-shadow: 0px 1px 3px 1px rgba(0, 0, 0, 0.15);\n",
              "      filter: drop-shadow(0px 1px 2px rgba(0, 0, 0, 0.3));\n",
              "      fill: #FFFFFF;\n",
              "    }\n",
              "  </style>\n",
              "\n",
              "    <script>\n",
              "      const buttonEl =\n",
              "        document.querySelector('#df-d30e0bf6-5f84-4b78-b707-7d5a7b255f53 button.colab-df-convert');\n",
              "      buttonEl.style.display =\n",
              "        google.colab.kernel.accessAllowed ? 'block' : 'none';\n",
              "\n",
              "      async function convertToInteractive(key) {\n",
              "        const element = document.querySelector('#df-d30e0bf6-5f84-4b78-b707-7d5a7b255f53');\n",
              "        const dataTable =\n",
              "          await google.colab.kernel.invokeFunction('convertToInteractive',\n",
              "                                                    [key], {});\n",
              "        if (!dataTable) return;\n",
              "\n",
              "        const docLinkHtml = 'Like what you see? Visit the ' +\n",
              "          '<a target=\"_blank\" href=https://colab.research.google.com/notebooks/data_table.ipynb>data table notebook</a>'\n",
              "          + ' to learn more about interactive tables.';\n",
              "        element.innerHTML = '';\n",
              "        dataTable['output_type'] = 'display_data';\n",
              "        await google.colab.output.renderOutput(dataTable, element);\n",
              "        const docLink = document.createElement('div');\n",
              "        docLink.innerHTML = docLinkHtml;\n",
              "        element.appendChild(docLink);\n",
              "      }\n",
              "    </script>\n",
              "  </div>\n",
              "\n",
              "\n",
              "<div id=\"df-cd43b195-21c3-4764-b90a-ba47412eeaf3\">\n",
              "  <button class=\"colab-df-quickchart\" onclick=\"quickchart('df-cd43b195-21c3-4764-b90a-ba47412eeaf3')\"\n",
              "            title=\"Suggest charts\"\n",
              "            style=\"display:none;\">\n",
              "\n",
              "<svg xmlns=\"http://www.w3.org/2000/svg\" height=\"24px\"viewBox=\"0 0 24 24\"\n",
              "     width=\"24px\">\n",
              "    <g>\n",
              "        <path d=\"M19 3H5c-1.1 0-2 .9-2 2v14c0 1.1.9 2 2 2h14c1.1 0 2-.9 2-2V5c0-1.1-.9-2-2-2zM9 17H7v-7h2v7zm4 0h-2V7h2v10zm4 0h-2v-4h2v4z\"/>\n",
              "    </g>\n",
              "</svg>\n",
              "  </button>\n",
              "\n",
              "<style>\n",
              "  .colab-df-quickchart {\n",
              "      --bg-color: #E8F0FE;\n",
              "      --fill-color: #1967D2;\n",
              "      --hover-bg-color: #E2EBFA;\n",
              "      --hover-fill-color: #174EA6;\n",
              "      --disabled-fill-color: #AAA;\n",
              "      --disabled-bg-color: #DDD;\n",
              "  }\n",
              "\n",
              "  [theme=dark] .colab-df-quickchart {\n",
              "      --bg-color: #3B4455;\n",
              "      --fill-color: #D2E3FC;\n",
              "      --hover-bg-color: #434B5C;\n",
              "      --hover-fill-color: #FFFFFF;\n",
              "      --disabled-bg-color: #3B4455;\n",
              "      --disabled-fill-color: #666;\n",
              "  }\n",
              "\n",
              "  .colab-df-quickchart {\n",
              "    background-color: var(--bg-color);\n",
              "    border: none;\n",
              "    border-radius: 50%;\n",
              "    cursor: pointer;\n",
              "    display: none;\n",
              "    fill: var(--fill-color);\n",
              "    height: 32px;\n",
              "    padding: 0;\n",
              "    width: 32px;\n",
              "  }\n",
              "\n",
              "  .colab-df-quickchart:hover {\n",
              "    background-color: var(--hover-bg-color);\n",
              "    box-shadow: 0 1px 2px rgba(60, 64, 67, 0.3), 0 1px 3px 1px rgba(60, 64, 67, 0.15);\n",
              "    fill: var(--button-hover-fill-color);\n",
              "  }\n",
              "\n",
              "  .colab-df-quickchart-complete:disabled,\n",
              "  .colab-df-quickchart-complete:disabled:hover {\n",
              "    background-color: var(--disabled-bg-color);\n",
              "    fill: var(--disabled-fill-color);\n",
              "    box-shadow: none;\n",
              "  }\n",
              "\n",
              "  .colab-df-spinner {\n",
              "    border: 2px solid var(--fill-color);\n",
              "    border-color: transparent;\n",
              "    border-bottom-color: var(--fill-color);\n",
              "    animation:\n",
              "      spin 1s steps(1) infinite;\n",
              "  }\n",
              "\n",
              "  @keyframes spin {\n",
              "    0% {\n",
              "      border-color: transparent;\n",
              "      border-bottom-color: var(--fill-color);\n",
              "      border-left-color: var(--fill-color);\n",
              "    }\n",
              "    20% {\n",
              "      border-color: transparent;\n",
              "      border-left-color: var(--fill-color);\n",
              "      border-top-color: var(--fill-color);\n",
              "    }\n",
              "    30% {\n",
              "      border-color: transparent;\n",
              "      border-left-color: var(--fill-color);\n",
              "      border-top-color: var(--fill-color);\n",
              "      border-right-color: var(--fill-color);\n",
              "    }\n",
              "    40% {\n",
              "      border-color: transparent;\n",
              "      border-right-color: var(--fill-color);\n",
              "      border-top-color: var(--fill-color);\n",
              "    }\n",
              "    60% {\n",
              "      border-color: transparent;\n",
              "      border-right-color: var(--fill-color);\n",
              "    }\n",
              "    80% {\n",
              "      border-color: transparent;\n",
              "      border-right-color: var(--fill-color);\n",
              "      border-bottom-color: var(--fill-color);\n",
              "    }\n",
              "    90% {\n",
              "      border-color: transparent;\n",
              "      border-bottom-color: var(--fill-color);\n",
              "    }\n",
              "  }\n",
              "</style>\n",
              "\n",
              "  <script>\n",
              "    async function quickchart(key) {\n",
              "      const quickchartButtonEl =\n",
              "        document.querySelector('#' + key + ' button');\n",
              "      quickchartButtonEl.disabled = true;  // To prevent multiple clicks.\n",
              "      quickchartButtonEl.classList.add('colab-df-spinner');\n",
              "      try {\n",
              "        const charts = await google.colab.kernel.invokeFunction(\n",
              "            'suggestCharts', [key], {});\n",
              "      } catch (error) {\n",
              "        console.error('Error during call to suggestCharts:', error);\n",
              "      }\n",
              "      quickchartButtonEl.classList.remove('colab-df-spinner');\n",
              "      quickchartButtonEl.classList.add('colab-df-quickchart-complete');\n",
              "    }\n",
              "    (() => {\n",
              "      let quickchartButtonEl =\n",
              "        document.querySelector('#df-cd43b195-21c3-4764-b90a-ba47412eeaf3 button');\n",
              "      quickchartButtonEl.style.display =\n",
              "        google.colab.kernel.accessAllowed ? 'block' : 'none';\n",
              "    })();\n",
              "  </script>\n",
              "</div>\n",
              "\n",
              "    </div>\n",
              "  </div>\n"
            ]
          },
          "metadata": {},
          "execution_count": 46
        }
      ]
    },
    {
      "cell_type": "code",
      "source": [
        "bike_df.info()"
      ],
      "metadata": {
        "colab": {
          "base_uri": "https://localhost:8080/"
        },
        "id": "VuFaV0l67CZt",
        "outputId": "0123fd66-ddff-4e68-dce7-c09d2644c9bb"
      },
      "execution_count": 47,
      "outputs": [
        {
          "output_type": "stream",
          "name": "stdout",
          "text": [
            "<class 'pandas.core.frame.DataFrame'>\n",
            "RangeIndex: 10886 entries, 0 to 10885\n",
            "Data columns (total 16 columns):\n",
            " #   Column      Non-Null Count  Dtype         \n",
            "---  ------      --------------  -----         \n",
            " 0   datetime    10886 non-null  datetime64[ns]\n",
            " 1   season      10886 non-null  int64         \n",
            " 2   holiday     10886 non-null  int64         \n",
            " 3   workingday  10886 non-null  int64         \n",
            " 4   weather     10886 non-null  int64         \n",
            " 5   temp        10886 non-null  float64       \n",
            " 6   atemp       10886 non-null  float64       \n",
            " 7   humidity    10886 non-null  int64         \n",
            " 8   windspeed   10886 non-null  float64       \n",
            " 9   casual      10886 non-null  int64         \n",
            " 10  registered  10886 non-null  int64         \n",
            " 11  count       10886 non-null  int64         \n",
            " 12  year        10886 non-null  int64         \n",
            " 13  month       10886 non-null  int64         \n",
            " 14  day         10886 non-null  int64         \n",
            " 15  hour        10886 non-null  int64         \n",
            "dtypes: datetime64[ns](1), float64(3), int64(12)\n",
            "memory usage: 1.3 MB\n"
          ]
        }
      ]
    },
    {
      "cell_type": "code",
      "source": [
        "drop_columns = ['datetime', 'casual', 'registered']\n",
        "# casual + registered == count이기에 높은 상관도로 예측을 저해할 우려가 있기에 두 컬럼을 삭제\n",
        "bike_df.drop(drop_columns, axis = 1, inplace = True)\n",
        "# axis=0 : 행(row) 방향\n",
        "# axis=1 : 열(column) 방향"
      ],
      "metadata": {
        "id": "tSFE39NO7LJN"
      },
      "execution_count": 48,
      "outputs": []
    },
    {
      "cell_type": "code",
      "source": [
        "# 주요 column별로 target 값(count) 분포 확인\n",
        "fig, axs = plt.subplots(figsize = (16,8), ncols = 4, nrows = 2)\n",
        "cat_features = ['year', 'month','season','weather','day', 'hour', 'holiday','workingday']\n",
        "# cat_features에 있는 모든 칼럼별로 개별 칼럼값에 따른 count의 합을 barplot으로 시각화\n",
        "for i, feature in enumerate(cat_features):\n",
        "  row = int(i/4)\n",
        "  col = i % 4\n",
        "  sns.barplot(x = feature, y = 'count', data = bike_df, ax = axs[row][col])"
      ],
      "metadata": {
        "colab": {
          "base_uri": "https://localhost:8080/",
          "height": 717
        },
        "id": "gaA8JnEvDkJm",
        "outputId": "81e7a4fa-5386-4ea5-e8cf-53489ce9dae3"
      },
      "execution_count": 49,
      "outputs": [
        {
          "output_type": "display_data",
          "data": {
            "text/plain": [
              "<Figure size 1600x800 with 8 Axes>"
            ],
            "image/png": "[encoded data removed]"
          },
          "metadata": {}
        }
      ]
    },
    {
      "cell_type": "markdown",
      "source": [
        "> 성능 평가 => log1p()\n",
        "\n",
        "- 모델의 성능을 평가할 때에는 사용된 변환 함수가 중요합니다.\n",
        "- 만약 모델 학습 시 log1p()를 사용하여 데이터를 변환했다면, 모델 평가 시에도 동일한 변환을 적용해야 합니다.\n",
        "- **그렇지 않으면 모델의 예측과 실제 값 사이에 오차가 발생할 수 있습니다.** 모델의 성능을 평가할 때에는 동일한 변환을 적용하여야 하므로, log1p()로 계산된 값들끼리 비교하는 것이 올바릅니다."
      ],
      "metadata": {
        "id": "W9hODnAuGIHt"
      }
    },
    {
      "cell_type": "code",
      "source": [
        "from sklearn.metrics import mean_squared_error, mean_absolute_error\n",
        "\n",
        "def rmsle(y, pred):\n",
        "  log_y = np.log1p(y)\n",
        "  log_pred = np.log1p(pred)\n",
        "  squared_error = (log_y - log_pred) ** 2\n",
        "  rmsle = np.sqrt(np.mean(squared_error))\n",
        "  return rmsle\n",
        "\n",
        "def rmse(y, pred):\n",
        "  return np.sqrt(mean_squared_error(y, pred))\n",
        "\n",
        "def evaluate_regr(y, pred):\n",
        "  rmsle_val = rmsle(y, pred)\n",
        "  rmse_val = rmse(y, pred)\n",
        "  mae_val = mean_absolute_error(y,pred)\n",
        "  print('RMSLE: {0:.3f}, RMSE: {1:.3F}, MAE: {2:.3F}'.format(rmsle_val, rmse_val, mae_val))"
      ],
      "metadata": {
        "id": "Dqjw2ILhFdr1"
      },
      "execution_count": 50,
      "outputs": []
    },
    {
      "cell_type": "markdown",
      "source": [
        "> 오류 값에 로그를 씌워서 RMSE를 평가하는 것은 모델의 성능을 더 효과적으로 이해하고, 더 나은 모델을 구축하는 데 도움이 될 수 있습니다.\n",
        "\n",
        "1. 오류 값의 분포 변환: 일반적으로 오류 값들은 정규 분포를 따르는 것이 이상적입니다. 로그 변환을 통해 오류 값들을 정규 분포에 가깝게 만들 수 있습니다. 이렇게 하면 모델의 예측 오류를 더 잘 이해하고 모델의 성능을 더 효과적으로 평가할 수 있습니다.\n",
        "\n",
        "2. 오차의 비선형성 보정: 대부분의 회귀 모델은 오차 항이 등분산성을 가정합니다. 하지만 실제 데이터에서는 오차의 분산이 종속 변수의 값에 따라 달라질 수 있습니다. 로그 변환을 통해 오차 항의 비선형성을 줄이고 등분산성을 개선할 수 있습니다.\n",
        "\n",
        "3. 이상치의 영향 완화: 로그 변환을 통해 데이터의 스케일을 줄일 수 있습니다. 이는 이상치가 모델 학습에 미치는 영향을 완화할 수 있습니다. 로그 변환을 적용하면 이상치의 영향을 줄이고 더 안정적인 모델을 구축할 수 있습니다.\n",
        "\n",
        "4. RMSE의 해석 향상: 로그를 취한 값에 대해 RMSE를 계산하면, 오류의 크기가 비선형적으로 변화하는 경우에도 모델의 성능을 잘 파악할 수 있습니다. 이는 원래의 오류에 비해 더 나은 해석을 제공할 수 있습니다."
      ],
      "metadata": {
        "id": "YP4sX18QG39s"
      }
    },
    {
      "cell_type": "markdown",
      "source": [
        "#### **Numpy의 log() / mean_squared_log_error() 사용 시 overflow / underflow 발생 가능에 유의해야 한다.**\n",
        "\n",
        "```python\n",
        "def rmsle(y, pred):\n",
        "  msle = mean_squared_log_error(y, pred)\n",
        "  rmsle = np.sqrt(mse)\n",
        "  return rmsle\n",
        "```\n",
        "-\n",
        "언더플로(underflow)와 오버플로(overflow)는 컴퓨터가 표현할 수 있는 수치의 범위를 벗어나는 상황을 가리키는 컴퓨터 과학 용어\n",
        "\n",
        "> 예를 들어, 32비트 부동 소수점 형식을 사용하는 컴퓨터에서는 대략 1.4 x 10^-45에서 언더플로가 발생하고, 대략 3.4 x 10^38에서 오버플로가 발생합니다. 따라서 이 범위를 벗어나는 값이 발생하면 컴퓨터는 이를 처리할 수 없습니다.\n",
        "\n",
        "- **log() 함수는 입력이 0 또는 음수일 때 정의되지 않기 때문에 언더플로가 발생할 수 있고, 매우 큰 값의 경우에는 오버플로가 발생할 수 있습니다. 이런 경우에 log1p()를 사용해서 해결 가능하다**"
      ],
      "metadata": {
        "id": "TdHID-oNIbAn"
      }
    },
    {
      "cell_type": "markdown",
      "source": [
        "> log1p()로 변환된 값은 다시 numpy의 expm1() 함수로 쉽게 원래의 scale로 복원 가능\n",
        "\n",
        "- 넘파이(Numpy)의 expm1() 함수는 지수 함수를 계산한 후 1을 빼는 함수\n",
        "\n",
        "\n",
        "\n"
      ],
      "metadata": {
        "id": "o51YmSGca8Aj"
      }
    },
    {
      "cell_type": "code",
      "source": [
        "import numpy as np\n",
        "\n",
        "# 원래 값\n",
        "original_value = 0.0001\n",
        "\n",
        "# log1p()로 변환\n",
        "transformed_value = np.log1p(original_value)\n",
        "\n",
        "# expm1()로 다시 원래의 scale로 변환\n",
        "restored_value = np.expm1(transformed_value)\n",
        "\n",
        "print(\"Original Value:\", original_value)\n",
        "print(\"Transformed Value (after log1p):\", transformed_value)\n",
        "print(\"Restored Value (after expm1):\", restored_value)"
      ],
      "metadata": {
        "colab": {
          "base_uri": "https://localhost:8080/"
        },
        "id": "bsQjVRv6bgoO",
        "outputId": "9ba65802-6247-4186-bb9d-f159a9bb6bb2"
      },
      "execution_count": 51,
      "outputs": [
        {
          "output_type": "stream",
          "name": "stdout",
          "text": [
            "Original Value: 0.0001\n",
            "Transformed Value (after log1p): 9.999500033330834e-05\n",
            "Restored Value (after expm1): 0.0001\n"
          ]
        }
      ]
    },
    {
      "cell_type": "markdown",
      "source": [
        "> e\n",
        "\n",
        "- 위의 결과값에서 e는 10의 밑을 나타내는 것이 아니라, 곱셈에 사용되는 기호이다.\n",
        "- 따라서 9.999500033330834e-05는 지수 표기법으로 9.999500033330834 * 10^(-5)를 의미\n",
        "- Transformed Value에서의 e는 자연 로그의 밑인 자연 상수를 의미하는 것이 아니라, 지수 표기법에서의 곱셈에 사용되는 기호\n",
        "- 지수 표기법 : a x 10^n\n",
        "- Python에서는 e 또는 E를 사용하여 지수 표기법을 표현\n",
        "- e는 10을 의미하며, E는 10^n를 의미 => 3E2 == 300"
      ],
      "metadata": {
        "id": "ukJZWj4Rb_P8"
      }
    },
    {
      "cell_type": "markdown",
      "source": [
        "> ### 회귀 모델을 이용해 자전거 대여 횟수 예측"
      ],
      "metadata": {
        "id": "hnVDAHbVKPFK"
      }
    },
    {
      "cell_type": "markdown",
      "source": [
        "- if 회귀 분석에서 결과값이 정규 분포로 되어 있지 않다면?\n",
        "1. 변수 변환 (Transformation): 종속 변수에 로그 변환, 제곱근 변환 또는 다른 적절한 변환을 적용하여 분포를 정규성에 더 가깝게 만들 수 있습니다.\n",
        "2. 이상치 처리 (Outlier Handling): 이상치가 정규성을 방해하는 경우, 이상치를 탐지하고 처리하여 결과에 영향을 미치는 이상치를 제거하거나 조정할 수 있습니다.\n",
        "3. 일반화 선형 모델 (Generalized Linear Models, GLM): 종속 변수가 정규 분포를 따르지 않는 경우에는 GLM을 사용할 수 있습니다. GLM은 종속 변수의 분포를 지정할 수 있으므로, 다양한 종속 변수 분포에 대해 적용할 수 있습니다.\n",
        "4. 비모수적 방법 (Non-parametric Methods): 회귀 분석 대신 비모수적 방법을 사용할 수 있습니다. 예를 들어, 커널 회귀(kernel regression)나 로버스트 회귀(robust regression)와 같은 방법을 사용할 수 있습니다.\n",
        "5. 잔차 진단 (Residual Diagnostics): 모델을 적합한 후 잔차를 분석하여 정규성을 평가하고, 필요한 경우 추가적인 조치를 취할 수 있습니다. Q-Q 플롯과 같은 시각화 도구를 사용하여 잔차의 정규성을 확인할 수 있습니다.\n",
        "6. 부트스트래핑 (Bootstrapping): 부트스트래핑은 재표본추출을 통해 회귀 모델을 여러 번 적합하여 파라미터의 분포를 추정하는 방법입니다. 이는 모델의 불확실성을 고려하고 모델 파라미터의 신뢰 구간을 계산하는 데 유용합니다.\n"
      ],
      "metadata": {
        "id": "M1PIXvLJekJa"
      }
    },
    {
      "cell_type": "code",
      "source": [
        "# 로그 변환, 피쳐 인코딩과 모델 학습 / 예측 / 평가\n",
        "# 회귀 모델 적용 전 data set에 대해\n",
        "# 결괏값이 정규분포로 돼 있는 지 확인\n",
        "# category 형 회귀 모델의 경우 원-핫 인코딩으로 feature 인코딩 했는 지 확인\n",
        "from sklearn.model_selection import train_test_split, GridSearchCV\n",
        "from sklearn.linear_model import LinearRegression, Ridge, Lasso\n",
        "\n",
        "y_target = bike_df['count']\n",
        "X_features = bike_df.drop(['count'], axis = 1, inplace = False)\n",
        "\n",
        "X_train, X_test, y_train, y_test = train_test_split(X_features, y_target, test_size=0.3, random_state=0)\n",
        "\n",
        "lr_reg = LinearRegression()\n",
        "lr_reg.fit(X_train, y_train)\n",
        "pred = lr_reg.predict(X_test)\n",
        "\n",
        "evaluate_regr(y_test, pred)"
      ],
      "metadata": {
        "colab": {
          "base_uri": "https://localhost:8080/"
        },
        "id": "W1tGUNiIa4QV",
        "outputId": "67d5b238-5969-426c-faf0-9029062e355a"
      },
      "execution_count": 52,
      "outputs": [
        {
          "output_type": "stream",
          "name": "stdout",
          "text": [
            "RMSLE: 1.165, RMSE: 140.900, MAE: 105.924\n"
          ]
        }
      ]
    },
    {
      "cell_type": "code",
      "source": [
        "# 오류 값이 가장 큰 순 5개 확인해보기\n",
        "def get_top_error_data(y_test, pred, n_tops = 5):\n",
        "   # DataFrame의 컬럼들로 실제 대여횟수(count)와 예측 값을 서로 비교 할 수 있도록 생성.\n",
        "   result_df = pd.DataFrame(y_test.values, columns = ['real_count'])\n",
        "   result_df['predicted_count']= np.round(pred)\n",
        "   result_df['diff'] = np.abs(result_df['real_count'] - result_df['predicted_count'])\n",
        "   print(result_df.sort_values('diff', ascending = False)[:n_tops])\n",
        "\n",
        "get_top_error_data(y_test,pred,n_tops=5)"
      ],
      "metadata": {
        "colab": {
          "base_uri": "https://localhost:8080/"
        },
        "id": "A7J-x2ukh-Es",
        "outputId": "f9f4d632-c4a3-42a8-a223-a5c4da9306b8"
      },
      "execution_count": 53,
      "outputs": [
        {
          "output_type": "stream",
          "name": "stdout",
          "text": [
            "      real_count  predicted_count   diff\n",
            "1618         890            322.0  568.0\n",
            "3151         798            241.0  557.0\n",
            "966          884            327.0  557.0\n",
            "412          745            194.0  551.0\n",
            "2817         856            310.0  546.0\n"
          ]
        }
      ]
    },
    {
      "cell_type": "markdown",
      "source": [
        "### -> 예측값과 실제 정답 값 간의 차이가 너무 큰 경우, Target 값의 분포가 왜곡되어 있지는 않은 지를 확인해야 한다."
      ],
      "metadata": {
        "id": "uctk13Bok-cE"
      }
    },
    {
      "cell_type": "code",
      "source": [
        "# pandas의 hist()를 이용해 target 값인 count 칼럼이 정규 분포를 이루는 지 확인\n",
        "y_target.hist()"
      ],
      "metadata": {
        "colab": {
          "base_uri": "https://localhost:8080/",
          "height": 448
        },
        "id": "Q2ones0YlVfL",
        "outputId": "6d20169d-bc83-41f3-93ce-a5107571c90e"
      },
      "execution_count": 54,
      "outputs": [
        {
          "output_type": "execute_result",
          "data": {
            "text/plain": [
              "<Axes: >"
            ]
          },
          "metadata": {},
          "execution_count": 54
        },
        {
          "output_type": "display_data",
          "data": {
            "text/plain": [
              "<Figure size 640x480 with 1 Axes>"
            ],
            "image/png": "[encoded data removed]"
          },
          "metadata": {}
        }
      ]
    },
    {
      "cell_type": "markdown",
      "source": [
        "- count column의 값이 정규 분포가 아닌 0 ~ 200 사이에 왜곡되어 있다.\n",
        "- 이렇게 왜곡된 값을 정규 분포 형태로 바꾸는 가장 일반적인 방법 : log를 적용\n",
        "- **log1p()를 이용해서 target 값의 분포를 변경한 채로 모델을 학습하고, model을 평가할 때에는 expm1() 함수를 적용해서 원래 scale 값으로 원상 복구한 후, 평가한다.**"
      ],
      "metadata": {
        "id": "8F_oeQj2lhsC"
      }
    },
    {
      "cell_type": "code",
      "source": [
        "y_log_transform = np.log1p(y_target)\n",
        "y_log_transform.hist()\n",
        "# Target 값을 log로 변환한 후에 정규 분포 형태는 아니어도, 변환 이전보다 왜곡 정도가 많이 향상 되었음을 알 수 있다."
      ],
      "metadata": {
        "colab": {
          "base_uri": "https://localhost:8080/",
          "height": 448
        },
        "id": "M87Q8JbcmNCi",
        "outputId": "e7810b15-c671-4841-92fd-d6c845ccefd2"
      },
      "execution_count": 55,
      "outputs": [
        {
          "output_type": "execute_result",
          "data": {
            "text/plain": [
              "<Axes: >"
            ]
          },
          "metadata": {},
          "execution_count": 55
        },
        {
          "output_type": "display_data",
          "data": {
            "text/plain": [
              "<Figure size 640x480 with 1 Axes>"
            ],
            "image/png": "[encoded data removed]"
          },
          "metadata": {}
        }
      ]
    },
    {
      "cell_type": "code",
      "source": [
        "# 타깃 칼럼인 count 값을 log1p로 로그 변환\n",
        "y_target_log = np.log1p(y_target)\n",
        "\n",
        "# 로그 변환된 y_target_log를 반영하여 학습/테스트 데이터 셋 분할\n",
        "X_train, X_test, y_train, y_test = train_test_split(X_features, y_target_log, test_size=0.3, random_state=0)\n",
        "lr_reg = LinearRegression()\n",
        "lr_reg.fit(X_train, y_train)\n",
        "pred = lr_reg.predict(X_test)\n",
        "\n",
        "# 테스트 데이터 셋의 Target 값은 Log 변환되었으므로 다시 expm1를 이용하여 원래 scale로 변환\n",
        "y_test_exp = np.expm1(y_test)\n",
        "\n",
        "# 예측 값 역시 Log 변환된 타깃 기반으로 학습되어 예측되었으므로 다시 exmpl으로 scale변환\n",
        "pred_exp = np.expm1(pred)\n",
        "\n",
        "evaluate_regr(y_test_exp ,pred_exp)"
      ],
      "metadata": {
        "colab": {
          "base_uri": "https://localhost:8080/"
        },
        "id": "-shhlZicmY0A",
        "outputId": "03ed7d13-1839-47df-d547-21e1d213d96b"
      },
      "execution_count": 56,
      "outputs": [
        {
          "output_type": "stream",
          "name": "stdout",
          "text": [
            "RMSLE: 1.017, RMSE: 162.594, MAE: 109.286\n"
          ]
        }
      ]
    },
    {
      "cell_type": "code",
      "source": [
        "coef = pd.Series(lr_reg.coef_ , index = X_features.columns)\n",
        "# Series 객체를 생성할 때, index를 지정해주면 해당 index에 따라 Series의 각 값이 정렬됨\n",
        "coef_sort = coef.sort_values(ascending = False)\n",
        "sns.barplot(x = coef_sort.values, y = coef_sort.index)"
      ],
      "metadata": {
        "colab": {
          "base_uri": "https://localhost:8080/",
          "height": 448
        },
        "id": "Z_hPLlC_0dHq",
        "outputId": "d277d6d6-3cf2-4f60-ee35-831cf0325e1a"
      },
      "execution_count": 57,
      "outputs": [
        {
          "output_type": "execute_result",
          "data": {
            "text/plain": [
              "<Axes: ylabel='None'>"
            ]
          },
          "metadata": {},
          "execution_count": 57
        },
        {
          "output_type": "display_data",
          "data": {
            "text/plain": [
              "<Figure size 640x480 with 1 Axes>"
            ],
            "image/png": "[encoded data removed]"
          },
          "metadata": {}
        }
      ]
    },
    {
      "cell_type": "markdown",
      "source": [
        "> 결과 해석\n",
        "- month는 1,2,3,4,...\n",
        "- year는 2011, 2012...\n",
        "- 위의 column들이 회귀 계수가 높은데, 이런 column들은 개별 숫자값의 크기가 의미가 있는 것은 아니다.\n",
        "- ### year, month, hour 등은 숫자 값으로 표현되었기는 하나, 모두 category형 feature이다.\n",
        "- 사이킷런에는 카테고리형 데이터만을 위한 데이터 타입이 없기에, 모두 숫자로 변환해주어야 한다.\n",
        "- but, 이처럼 숫자형 카테고리 값을 선형 회귀에 사용할 경우, 회귀 계수를 연산할 때 이 숫자형 값에 크게 영향을 받는 경우가 발생할 수 있다. => 따라서 선형 회귀에서는 **이러한 피처 인코딩에 원핫인코딩을 적용해 변환해야 한다.**\n",
        "\n",
        "#### Pd.getdummies()\n",
        "- pd.get_dummies() 함수는 범주형(categorical) 데이터를 더미(dummy) 변수로 변환하는 데 사용됩니다. 이 함수는 주어진 DataFrame의 범주형 변수를 원-핫 인코딩(one-hot encoding)된 형태로 변환하여 새로운 DataFrame을 반환합니다.\n",
        "\n",
        "- 예를 들어, 성별을 나타내는 'Male'과 'Female'과 같은 범주형 변수가 있다고 가정해보겠습니다. 이러한 변수는 기계학습 모델에 직접 사용될 수 없으므로, 더미 변수로 변환해야 합니다. pd.get_dummies() 함수를 사용하면 각 범주값에 대해 새로운 열을 생성하고 해당 값에 해당하는 열에는 1을, 다른 열에는 0을 할당하여 이를 구현할 수 있습니다.\n",
        "\n",
        "\n",
        "```python\n",
        "import pandas as pd\n",
        "\n",
        "data = {'gender': ['Male', 'Female', 'Female', 'Male']}\n",
        "df = pd.DataFrame(data)\n",
        "\n",
        "# 'gender' 열을 더미 변수로 변환\n",
        "dummy_df = pd.get_dummies(df['gender'])\n",
        "print(dummy_df)\n",
        "\n",
        "####result####\n",
        "   Female  Male\n",
        "0       0     1\n",
        "1       1     0\n",
        "2       1     0\n",
        "3       0     1\n",
        "```\n",
        "\n"
      ],
      "metadata": {
        "id": "uFkiaWD21rUR"
      }
    },
    {
      "cell_type": "code",
      "source": [
        "X_features_ohe = pd.get_dummies(X_features, columns=['year', 'month','day', 'hour', 'holiday',\n",
        "                                              'workingday','season','weather'])"
      ],
      "metadata": {
        "id": "p4mwolRP1euQ"
      },
      "execution_count": 58,
      "outputs": []
    },
    {
      "cell_type": "code",
      "source": [
        "# 원-핫 인코딩이 적용된 feature 데이터 세트 기반으로 학습/예측 데이터 분할.\n",
        "X_train, X_test, y_train, y_test = train_test_split(X_features_ohe, y_target_log,\n",
        "                                                    test_size=0.3, random_state=0)"
      ],
      "metadata": {
        "id": "03Gb7lVt_q07"
      },
      "execution_count": 63,
      "outputs": []
    },
    {
      "cell_type": "code",
      "source": [
        "# 모델과 학습/테스트 데이터 셋을 입력하면 성능 평가 수치를 반환\n",
        "def get_model_predict(model, X_train, X_test, y_train, y_test, is_expm1 = False):\n",
        "  model.fit(X_train, y_train)\n",
        "  pred = model.predict(X_test)\n",
        "  if is_expm1 :\n",
        "    y_test = np.expm1(y_test)\n",
        "    pred = np.expm1(pred)\n",
        "  print('###',model.__class__.__name__,'###')\n",
        "  evaluate_regr(y_test, pred)\n",
        "  # end of function get_model_predict\n",
        "\n",
        "# model 별로 평가 수행\n",
        "lr_reg = LinearRegression()\n",
        "ridge_reg = Ridge(alpha=10)\n",
        "lasso_reg = Lasso(alpha=0.01)\n",
        "\n",
        "for model in [lr_reg, ridge_reg, lasso_reg]:\n",
        "    get_model_predict(model,X_train, X_test, y_train, y_test,is_expm1=True)"
      ],
      "metadata": {
        "colab": {
          "base_uri": "https://localhost:8080/"
        },
        "id": "VZlV9LhR_uLE",
        "outputId": "370e426a-7699-457e-e05b-7133a7f71c9a"
      },
      "execution_count": 64,
      "outputs": [
        {
          "output_type": "stream",
          "name": "stdout",
          "text": [
            "### LinearRegression ###\n",
            "RMSLE: 0.590, RMSE: 97.688, MAE: 63.382\n",
            "### Ridge ###\n",
            "RMSLE: 0.590, RMSE: 98.529, MAE: 63.893\n",
            "### Lasso ###\n",
            "RMSLE: 0.635, RMSE: 113.219, MAE: 72.803\n"
          ]
        }
      ]
    },
    {
      "cell_type": "code",
      "source": [
        "# one hot encoding된 data set 에서 회귀 계수가 높은 feature를 다시 시각화\n",
        "coef = pd.Series(lr_reg.coef_ , index = X_features_ohe.columns)\n",
        "coef_sort = coef.sort_values(ascending = False)[:20]\n",
        "sns.barplot(x=coef_sort.values , y=coef_sort.index)"
      ],
      "metadata": {
        "colab": {
          "base_uri": "https://localhost:8080/",
          "height": 466
        },
        "id": "-NfPh1_IAxwb",
        "outputId": "ef36cf4f-395e-41ff-f907-15279980eb29"
      },
      "execution_count": 65,
      "outputs": [
        {
          "output_type": "execute_result",
          "data": {
            "text/plain": [
              "<Axes: ylabel='None'>"
            ]
          },
          "metadata": {},
          "execution_count": 65
        },
        {
          "output_type": "display_data",
          "data": {
            "text/plain": [
              "<Figure size 640x480 with 1 Axes>"
            ],
            "image/png": "[encoded data removed]"
          },
          "metadata": {}
        }
      ]
    },
    {
      "cell_type": "markdown",
      "source": [
        "### **회귀 트리를 이용해 회귀 예측을 수행**"
      ],
      "metadata": {
        "id": "QJQ2_S0oBnN6"
      }
    },
    {
      "cell_type": "code",
      "source": [
        "from sklearn.ensemble import RandomForestRegressor, GradientBoostingRegressor\n",
        "from xgboost import XGBRegressor\n",
        "from lightgbm import LGBMRegressor\n",
        "\n",
        "# 랜덤 포레스트, GBM, XGBoost, LightGBM model 별로 평가 수행\n",
        "rf_reg = RandomForestRegressor(n_estimators= 500)\n",
        "gbm_reg = GradientBoostingRegressor(n_estimators= 500)\n",
        "xgb_reg = XGBRegressor(n_estimators=500)\n",
        "lgbm_reg = LGBMRegressor(n_estimators=500)\n",
        "\n",
        "for model in [rf_reg, gbm_reg, xgb_reg, lgbm_reg]:\n",
        "  # XGBoost의 경우 DataFrame이 입력 될 경우 버전에 따라 오류 발생 가능. ndarray로 변환.\n",
        "    get_model_predict(model,X_train.values, X_test.values, y_train.values, y_test.values,is_expm1=True)\n",
        "    # .values를 사용하여 DataFrame을 ndarray로 변환할 때에는 원본 DataFrame이 변경되지 않음"
      ],
      "metadata": {
        "colab": {
          "base_uri": "https://localhost:8080/"
        },
        "id": "L2TVSuZ4Ba2t",
        "outputId": "a1bfcf61-1334-40a4-91fd-8be7d607c0bb"
      },
      "execution_count": 67,
      "outputs": [
        {
          "output_type": "stream",
          "name": "stdout",
          "text": [
            "### RandomForestRegressor ###\n",
            "RMSLE: 0.355, RMSE: 50.317, MAE: 31.149\n",
            "### GradientBoostingRegressor ###\n",
            "RMSLE: 0.330, RMSE: 53.348, MAE: 32.748\n",
            "### XGBRegressor ###\n",
            "RMSLE: 0.339, RMSE: 51.475, MAE: 31.357\n",
            "[LightGBM] [Info] Auto-choosing row-wise multi-threading, the overhead of testing was 0.000756 seconds.\n",
            "You can set `force_row_wise=true` to remove the overhead.\n",
            "And if memory is not enough, you can set `force_col_wise=true`.\n",
            "[LightGBM] [Info] Total Bins 348\n",
            "[LightGBM] [Info] Number of data points in the train set: 7620, number of used features: 72\n",
            "[LightGBM] [Info] Start training from score 4.582043\n",
            "### LGBMRegressor ###\n",
            "RMSLE: 0.319, RMSE: 47.215, MAE: 29.029\n"
          ]
        }
      ]
    },
    {
      "cell_type": "code",
      "source": [
        "X_train.values"
      ],
      "metadata": {
        "colab": {
          "base_uri": "https://localhost:8080/"
        },
        "id": "Ig-yPEBbChTz",
        "outputId": "e6f2deef-58ef-4ae5-f5e2-b572b1822d54"
      },
      "execution_count": 66,
      "outputs": [
        {
          "output_type": "execute_result",
          "data": {
            "text/plain": [
              "array([[32.8  , 37.12 , 52.   , ...,  0.   ,  0.   ,  0.   ],\n",
              "       [32.8  , 35.605, 36.   , ...,  0.   ,  0.   ,  0.   ],\n",
              "       [ 4.92 ,  6.82 , 50.   , ...,  0.   ,  0.   ,  0.   ],\n",
              "       ...,\n",
              "       [27.06 , 31.06 , 39.   , ...,  0.   ,  0.   ,  0.   ],\n",
              "       [14.76 , 17.425, 87.   , ...,  1.   ,  0.   ,  0.   ],\n",
              "       [33.62 , 35.605, 30.   , ...,  0.   ,  0.   ,  0.   ]])"
            ]
          },
          "metadata": {},
          "execution_count": 66
        }
      ]
    },
    {
      "cell_type": "markdown",
      "source": [
        "=> numpy ndarray 데이터 타입으로 변경하면서 column명들이 다 사라졌는데 feature 중요도를 알아낼 수 있는가?\n",
        "\n",
        "- feature 중요도를 알아내는 것은 가능합니다. XGBoost 모델을 학습시킬 때 사용된 feature의 순서는 변경되지 않습니다. 따라서 학습된 모델에서 feature 중요도를 추출할 때, feature의 순서를 기반으로 해당 중요도를 해석할 수 있습니다.\n",
        "\n",
        "- feature 중요도는 학습된 XGBoost 모델의 feature_importances_ 속성을 통해 알 수 있습니다. 이 중요도는 해당 feature가 모델의 예측에 얼마나 영향을 미치는지를 나타냅니다. 따라서 모델을 학습할 때 사용된 feature 순서와 함께 중요도를 살펴보면, 각 feature의 상대적인 중요도를 파악할 수 있습니다."
      ],
      "metadata": {
        "id": "A4UzG5IzDPmc"
      }
    }
  ]
}