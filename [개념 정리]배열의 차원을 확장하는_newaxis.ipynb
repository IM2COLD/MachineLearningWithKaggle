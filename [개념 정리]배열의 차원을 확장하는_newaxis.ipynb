{
  "nbformat": 4,
  "nbformat_minor": 0,
  "metadata": {
    "colab": {
      "provenance": []
    },
    "kernelspec": {
      "name": "python3",
      "display_name": "Python 3"
    },
    "language_info": {
      "name": "python"
    }
  },
  "cells": [
    {
      "cell_type": "markdown",
      "source": [
        "- np.newaxis는 NumPy 배열의 차원을 확장하는 데 사용되는 특수한 인덱스입니다. 특히, 차원을 추가하거나 크기가 1인 차원을 추가할 때 유용합니다.\n",
        "\n",
        "- 여기서 X_test[:, np.newaxis]는 X_test 배열에 새로운 축을 추가하여 2D 배열로 만듭니다. 이를 통해 pipeline.predict 메서드에 전달될 때, 모델이 예상하는 입력 형태와 일치하도록 합니다.\n",
        "\n",
        "- 예를 들어, 만약 X_test가 1D 배열이라면 pipeline.predict(X_test)와 같이 호출할 수 없습니다. 모델은 항상 2D 입력을 예상하므로, 차원을 추가하여 예측을 수행해야 합니다."
      ],
      "metadata": {
        "id": "hyOno647O9cQ"
      }
    },
    {
      "cell_type": "code",
      "execution_count": 1,
      "metadata": {
        "colab": {
          "base_uri": "https://localhost:8080/"
        },
        "id": "-B2qUc4CO3GS",
        "outputId": "c5d5a724-612a-48f7-afee-c6cc64ed331c"
      },
      "outputs": [
        {
          "output_type": "stream",
          "name": "stdout",
          "text": [
            "Original array:\n",
            "[1 2 3 4]\n",
            "Array with new axis:\n",
            "[[1]\n",
            " [2]\n",
            " [3]\n",
            " [4]]\n"
          ]
        }
      ],
      "source": [
        "import numpy as np\n",
        "\n",
        "# 1D 배열\n",
        "a = np.array([1, 2, 3, 4])\n",
        "\n",
        "# 1D 배열을 2D 배열로 변환 (새로운 축 추가)\n",
        "b = a[:, np.newaxis]\n",
        "\n",
        "print(\"Original array:\")\n",
        "print(a)\n",
        "print(\"Array with new axis:\")\n",
        "print(b)"
      ]
    },
    {
      "cell_type": "markdown",
      "source": [
        "- 이 코드에서 a[:, np.newaxis]는 a 배열에 새로운 축을 추가하여 b를 만듭니다.\n",
        "\n",
        "- 이와 관련하여, 코드에서 X_test[:, np.newaxis]를 사용하는 이유는 모델이 2D 입력을 예상하기 때문입니다. 그리고 주어진 코드에서 X는 1D 배열이기 때문에 모델에 입력으로 전달하기 위해 차원을 추가합니다.\n",
        "\n",
        "- 컬럼명에 관한 부분에서는 주어진 코드에서는 X가 1차원 배열이므로 열(column) 개념이 없습니다. 따라서 \"column명\"이라는 용어는 여기서는 적용되지 않습니다. 코드는 단순히 1차원 배열에 대한 예제로 구성되어 있습니다. 만약 2차원 데이터인 경우에는 열(column) 개념이 적용됩니다."
      ],
      "metadata": {
        "id": "fh0ykDlXPDVI"
      }
    },
    {
      "cell_type": "markdown",
      "source": [
        "> ### reshape(-1,1)과 유사한 기능\n",
        "\n",
        "- reshape(-1, 1)과 np.newaxis는 배열의 차원을 조정하는 데 사용되는 방법 중 하나입니다.\n",
        "- 둘 다 1차원 배열을 2차원으로 변환하며, 이는 특히 머신러닝 모델에서 입력 데이터의 형태를 맞추거나 조정할 때 유용합니다."
      ],
      "metadata": {
        "id": "b9FGElRXPOs4"
      }
    },
    {
      "cell_type": "markdown",
      "source": [
        "1. reshape(-1, 1): -1을 사용하면 해당 차원의 크기를 자동으로 조정하라는 의미입니다. 여기서는 열의 개수를 1로 만들어 2차원 배열로 변환합니다."
      ],
      "metadata": {
        "id": "5OUemkWAPWhp"
      }
    },
    {
      "cell_type": "code",
      "source": [
        "import numpy as np\n",
        "\n",
        "a = np.array([1, 2, 3, 4])\n",
        "b = a.reshape(-1, 1)\n",
        "\n",
        "print(\"Original array:\")\n",
        "print(a)\n",
        "print(\"Array after reshape(-1, 1):\")\n",
        "print(b)"
      ],
      "metadata": {
        "colab": {
          "base_uri": "https://localhost:8080/"
        },
        "id": "gSyjd684PY_R",
        "outputId": "9622bc85-290e-4c77-ac3b-6b533ff4e883"
      },
      "execution_count": 2,
      "outputs": [
        {
          "output_type": "stream",
          "name": "stdout",
          "text": [
            "Original array:\n",
            "[1 2 3 4]\n",
            "Array after reshape(-1, 1):\n",
            "[[1]\n",
            " [2]\n",
            " [3]\n",
            " [4]]\n"
          ]
        }
      ]
    },
    {
      "cell_type": "markdown",
      "source": [
        "2. np.newaxis: 이는 새로운 축을 추가하는데 사용됩니다. 1차원 배열에 새로운 축을 추가하여 2차원 배열로 만듭니다."
      ],
      "metadata": {
        "id": "yL-T015EPb3N"
      }
    },
    {
      "cell_type": "code",
      "source": [
        "import numpy as np\n",
        "\n",
        "a = np.array([1, 2, 3, 4])\n",
        "b = a[:, np.newaxis]\n",
        "\n",
        "print(\"Original array:\")\n",
        "print(a)\n",
        "print(\"Array with new axis:\")\n",
        "print(b)"
      ],
      "metadata": {
        "colab": {
          "base_uri": "https://localhost:8080/"
        },
        "id": "qUgNa3PtPead",
        "outputId": "9529a8ec-0fbc-45ee-eb86-3d94031faf32"
      },
      "execution_count": 3,
      "outputs": [
        {
          "output_type": "stream",
          "name": "stdout",
          "text": [
            "Original array:\n",
            "[1 2 3 4]\n",
            "Array with new axis:\n",
            "[[1]\n",
            " [2]\n",
            " [3]\n",
            " [4]]\n"
          ]
        }
      ]
    },
    {
      "cell_type": "markdown",
      "source": [
        "두 방법은 비슷한 결과를 얻을 수 있습니다. reshape(-1, 1)은 크기가 1인 새로운 축을 열로 추가하는 것과 동일합니다. 따라서 모델에서 2D 입력을 필요로 할 때, 둘 중 아무 것을 선택해도 됩니다."
      ],
      "metadata": {
        "id": "SOoWNTV_Phlm"
      }
    }
  ]
}