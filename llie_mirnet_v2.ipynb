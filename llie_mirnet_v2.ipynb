{
  "cells": [
    {
      "cell_type": "markdown",
      "metadata": {
        "id": "view-in-github",
        "colab_type": "text"
      },
      "source": [
        "<a href=\"https://colab.research.google.com/github/IM2COLD/MachineLearningWithKaggle/blob/main/llie_mirnet_v2.ipynb\" target=\"_parent\"><img src=\"https://colab.research.google.com/assets/colab-badge.svg\" alt=\"Open In Colab\"/></a>"
      ]
    },
    {
      "cell_type": "code",
      "execution_count": null,
      "metadata": {
        "colab": {
          "base_uri": "https://localhost:8080/"
        },
        "id": "DF-QxTi9BYyR",
        "outputId": "93f33290-a019-4f60-e155-e0f5e1c334c9"
      },
      "outputs": [
        {
          "name": "stdout",
          "output_type": "stream",
          "text": [
            "Requirement already satisfied: numpy in /usr/local/lib/python3.10/dist-packages (1.23.5)\n",
            "Requirement already satisfied: opencv-python in /usr/local/lib/python3.10/dist-packages (4.8.0.76)\n",
            "Collecting torchmetrics\n",
            "  Downloading torchmetrics-1.2.0-py3-none-any.whl (805 kB)\n",
            "\u001b[2K     \u001b[90m━━━━━━━━━━━━━━━━━━━━━━━━━━━━━━━━━━━━━━\u001b[0m \u001b[32m805.2/805.2 kB\u001b[0m \u001b[31m17.7 MB/s\u001b[0m eta \u001b[36m0:00:00\u001b[0m\n",
            "\u001b[?25hRequirement already satisfied: torchvision in /usr/local/lib/python3.10/dist-packages (0.15.2+cu118)\n",
            "Requirement already satisfied: tqdm in /usr/local/lib/python3.10/dist-packages (4.66.1)\n",
            "Requirement already satisfied: torch>=1.8.1 in /usr/local/lib/python3.10/dist-packages (from torchmetrics) (2.0.1+cu118)\n",
            "Collecting lightning-utilities>=0.8.0 (from torchmetrics)\n",
            "  Downloading lightning_utilities-0.9.0-py3-none-any.whl (23 kB)\n",
            "Requirement already satisfied: requests in /usr/local/lib/python3.10/dist-packages (from torchvision) (2.31.0)\n",
            "Requirement already satisfied: pillow!=8.3.*,>=5.3.0 in /usr/local/lib/python3.10/dist-packages (from torchvision) (9.4.0)\n",
            "Requirement already satisfied: filelock in /usr/local/lib/python3.10/dist-packages (from torch>=1.8.1->torchmetrics) (3.12.4)\n",
            "Requirement already satisfied: typing-extensions in /usr/local/lib/python3.10/dist-packages (from torch>=1.8.1->torchmetrics) (4.5.0)\n",
            "Requirement already satisfied: sympy in /usr/local/lib/python3.10/dist-packages (from torch>=1.8.1->torchmetrics) (1.12)\n",
            "Requirement already satisfied: networkx in /usr/local/lib/python3.10/dist-packages (from torch>=1.8.1->torchmetrics) (3.1)\n",
            "Requirement already satisfied: jinja2 in /usr/local/lib/python3.10/dist-packages (from torch>=1.8.1->torchmetrics) (3.1.2)\n",
            "Requirement already satisfied: triton==2.0.0 in /usr/local/lib/python3.10/dist-packages (from torch>=1.8.1->torchmetrics) (2.0.0)\n",
            "Requirement already satisfied: cmake in /usr/local/lib/python3.10/dist-packages (from triton==2.0.0->torch>=1.8.1->torchmetrics) (3.27.6)\n",
            "Requirement already satisfied: lit in /usr/local/lib/python3.10/dist-packages (from triton==2.0.0->torch>=1.8.1->torchmetrics) (17.0.2)\n",
            "Requirement already satisfied: packaging>=17.1 in /usr/local/lib/python3.10/dist-packages (from lightning-utilities>=0.8.0->torchmetrics) (23.2)\n",
            "Requirement already satisfied: charset-normalizer<4,>=2 in /usr/local/lib/python3.10/dist-packages (from requests->torchvision) (3.3.0)\n",
            "Requirement already satisfied: idna<4,>=2.5 in /usr/local/lib/python3.10/dist-packages (from requests->torchvision) (3.4)\n",
            "Requirement already satisfied: urllib3<3,>=1.21.1 in /usr/local/lib/python3.10/dist-packages (from requests->torchvision) (2.0.6)\n",
            "Requirement already satisfied: certifi>=2017.4.17 in /usr/local/lib/python3.10/dist-packages (from requests->torchvision) (2023.7.22)\n",
            "Requirement already satisfied: MarkupSafe>=2.0 in /usr/local/lib/python3.10/dist-packages (from jinja2->torch>=1.8.1->torchmetrics) (2.1.3)\n",
            "Requirement already satisfied: mpmath>=0.19 in /usr/local/lib/python3.10/dist-packages (from sympy->torch>=1.8.1->torchmetrics) (1.3.0)\n",
            "Installing collected packages: lightning-utilities, torchmetrics\n",
            "Successfully installed lightning-utilities-0.9.0 torchmetrics-1.2.0\n"
          ]
        }
      ],
      "source": [
        "!pip3 install numpy opencv-python torchmetrics torchvision tqdm"
      ]
    },
    {
      "cell_type": "code",
      "execution_count": null,
      "metadata": {
        "colab": {
          "base_uri": "https://localhost:8080/"
        },
        "id": "KbZmFCpJmC8E",
        "outputId": "afbf1ca9-aa3d-465a-e5e0-aa4ae2c6990b"
      },
      "outputs": [
        {
          "name": "stdout",
          "output_type": "stream",
          "text": [
            "Downloading...\n",
            "From: https://drive.google.com/uc?id=1DdGIJ4PZPlF2ikl8mNM9V-PdVxVLbQi6\n",
            "To: /content/lol_dataset.zip\n",
            "100% 347M/347M [00:01<00:00, 181MB/s]\n",
            "Downloading...\n",
            "From: https://drive.google.com/uc?id=1dzuLCk9_gE2bFF222n3-7GVUlSVHpMYC\n",
            "To: /content/LOL-v2.zip\n",
            "100% 1.05G/1.05G [00:04<00:00, 222MB/s]\n"
          ]
        }
      ],
      "source": [
        "!gdown https://drive.google.com/uc?id=1DdGIJ4PZPlF2ikl8mNM9V-PdVxVLbQi6\n",
        "!gdown https://drive.google.com/uc?id=1dzuLCk9_gE2bFF222n3-7GVUlSVHpMYC\n",
        "!mkdir -p dataset\n",
        "!unzip -oq -d dataset lol_dataset.zip\n",
        "!unzip -oq -d dataset LOL-v2.zip"
      ]
    },
    {
      "cell_type": "code",
      "execution_count": null,
      "metadata": {
        "id": "RH2a_jN0TmN9"
      },
      "outputs": [],
      "source": [
        "import cmath\n",
        "import cv2\n",
        "import google\n",
        "#import matplotlib.pyplot as plt\n",
        "import numpy as np\n",
        "import os\n",
        "import torch\n",
        "import torchmetrics\n",
        "import torchvision\n",
        "from tqdm import tqdm"
      ]
    },
    {
      "cell_type": "code",
      "execution_count": null,
      "metadata": {
        "id": "kCszxYVtSpw4"
      },
      "outputs": [],
      "source": [
        "## Learning Enriched Features for Fast Image Restoration and Enhancement\n",
        "## Syed Waqas Zamir, Aditya Arora, Salman Khan, Munawar Hayat, Fahad Shahbaz Khan, Ming-Hsuan Yang, and Ling Shao\n",
        "## IEEE Transactions on Pattern Analysis and Machine Intelligence (TPAMI)\n",
        "## https://www.waqaszamir.com/publication/zamir-2022-mirnetv2/\n",
        "\n",
        "##########################################################################\n",
        "##---------- Selective Kernel Feature Fusion (SKFF) ----------\n",
        "class SKFF(torch.nn.Module):\n",
        "    def __init__(self, in_channels, height=3,reduction=8,bias=False):\n",
        "        super(SKFF, self).__init__()\n",
        "\n",
        "        self.height = height\n",
        "        d = max(int(in_channels/reduction),4)\n",
        "\n",
        "        self.avg_pool = torch.nn.AdaptiveAvgPool2d(1)\n",
        "        self.conv_du = torch.nn.Sequential(torch.nn.Conv2d(in_channels, d, 1, padding=0, bias=bias), torch.nn.LeakyReLU(0.2))\n",
        "\n",
        "        self.fcs = torch.nn.ModuleList([])\n",
        "        for i in range(self.height):\n",
        "            self.fcs.append(torch.nn.Conv2d(d, in_channels, kernel_size=1, stride=1,bias=bias))\n",
        "\n",
        "        self.softmax = torch.nn.Softmax(dim=1)\n",
        "\n",
        "    def forward(self, inp_feats):\n",
        "        batch_size = inp_feats[0].shape[0]\n",
        "        n_feats =  inp_feats[0].shape[1]\n",
        "\n",
        "\n",
        "        inp_feats = torch.cat(inp_feats, dim=1)\n",
        "        inp_feats = inp_feats.view(batch_size, self.height, n_feats, inp_feats.shape[2], inp_feats.shape[3])\n",
        "\n",
        "        feats_U = torch.sum(inp_feats, dim=1)\n",
        "        feats_S = self.avg_pool(feats_U)\n",
        "        feats_Z = self.conv_du(feats_S)\n",
        "\n",
        "        attention_vectors = [fc(feats_Z) for fc in self.fcs]\n",
        "        attention_vectors = torch.cat(attention_vectors, dim=1)\n",
        "        attention_vectors = attention_vectors.view(batch_size, self.height, n_feats, 1, 1)\n",
        "        # stx()\n",
        "        attention_vectors = self.softmax(attention_vectors)\n",
        "\n",
        "        feats_V = torch.sum(inp_feats*attention_vectors, dim=1)\n",
        "\n",
        "        return feats_V\n",
        "\n",
        "class ContextBlock(torch.nn.Module):\n",
        "\n",
        "    def __init__(self, n_feat, bias=False):\n",
        "        super(ContextBlock, self).__init__()\n",
        "\n",
        "        self.conv_mask = torch.nn.Conv2d(n_feat, 1, kernel_size=1, bias=bias)\n",
        "        self.softmax = torch.nn.Softmax(dim=2)\n",
        "\n",
        "        self.channel_add_conv = torch.nn.Sequential(\n",
        "            torch.nn.Conv2d(n_feat, n_feat, kernel_size=1, bias=bias),\n",
        "            torch.nn.LeakyReLU(0.2),\n",
        "            torch.nn.Conv2d(n_feat, n_feat, kernel_size=1, bias=bias)\n",
        "        )\n",
        "\n",
        "    def modeling(self, x):\n",
        "        batch, channel, height, width = x.size()\n",
        "        input_x = x\n",
        "        # [N, C, H * W]\n",
        "        input_x = input_x.view(batch, channel, height * width)\n",
        "        # [N, 1, C, H * W]\n",
        "        input_x = input_x.unsqueeze(1)\n",
        "        # [N, 1, H, W]\n",
        "        context_mask = self.conv_mask(x)\n",
        "        # [N, 1, H * W]\n",
        "        context_mask = context_mask.view(batch, 1, height * width)\n",
        "        # [N, 1, H * W]\n",
        "        context_mask = self.softmax(context_mask)\n",
        "        # [N, 1, H * W, 1]\n",
        "        context_mask = context_mask.unsqueeze(3)\n",
        "        # [N, 1, C, 1]\n",
        "        context = torch.matmul(input_x, context_mask)\n",
        "        # [N, C, 1, 1]\n",
        "        context = context.view(batch, channel, 1, 1)\n",
        "\n",
        "        return context\n",
        "\n",
        "    def forward(self, x):\n",
        "        # [N, C, 1, 1]\n",
        "        context = self.modeling(x)\n",
        "\n",
        "        # [N, C, 1, 1]\n",
        "        channel_add_term = self.channel_add_conv(context)\n",
        "        x = x + channel_add_term\n",
        "\n",
        "        return x\n",
        "\n",
        "##########################################################################\n",
        "### --------- Residual Context Block (RCB) ----------\n",
        "class RCB(torch.nn.Module):\n",
        "    def __init__(self, n_feat, kernel_size=3, reduction=8, bias=False, groups=1):\n",
        "        super(RCB, self).__init__()\n",
        "\n",
        "        act = torch.nn.LeakyReLU(0.2)\n",
        "\n",
        "        self.body = torch.nn.Sequential(\n",
        "            torch.nn.Conv2d(n_feat, n_feat, kernel_size=3, stride=1, padding=1, bias=bias, groups=groups),\n",
        "            act,\n",
        "            torch.nn.Conv2d(n_feat, n_feat, kernel_size=3, stride=1, padding=1, bias=bias, groups=groups)\n",
        "        )\n",
        "\n",
        "        self.act = act\n",
        "\n",
        "        self.gcnet = ContextBlock(n_feat, bias=bias)\n",
        "\n",
        "    def forward(self, x):\n",
        "        res = self.body(x)\n",
        "        res = self.act(self.gcnet(res))\n",
        "        res += x\n",
        "        return res\n",
        "\n",
        "\n",
        "##########################################################################\n",
        "##---------- Resizing Modules ----------\n",
        "class Down(torch.nn.Module):\n",
        "    def __init__(self, in_channels, chan_factor, bias=False):\n",
        "        super(Down, self).__init__()\n",
        "\n",
        "        self.bot = torch.nn.Sequential(\n",
        "            torch.nn.AvgPool2d(2, ceil_mode=True, count_include_pad=False),\n",
        "            torch.nn.Conv2d(in_channels, int(in_channels*chan_factor), 1, stride=1, padding=0, bias=bias)\n",
        "            )\n",
        "\n",
        "    def forward(self, x):\n",
        "        return self.bot(x)\n",
        "\n",
        "class DownSample(torch.nn.Module):\n",
        "    def __init__(self, in_channels, scale_factor, chan_factor=2, kernel_size=3):\n",
        "        super(DownSample, self).__init__()\n",
        "        self.scale_factor = int(np.log2(scale_factor))\n",
        "\n",
        "        modules_body = []\n",
        "        for i in range(self.scale_factor):\n",
        "            modules_body.append(Down(in_channels, chan_factor))\n",
        "            in_channels = int(in_channels * chan_factor)\n",
        "\n",
        "        self.body = torch.nn.Sequential(*modules_body)\n",
        "\n",
        "    def forward(self, x):\n",
        "        x = self.body(x)\n",
        "        return x\n",
        "\n",
        "class Up(torch.nn.Module):\n",
        "    def __init__(self, in_channels, chan_factor, bias=False):\n",
        "        super(Up, self).__init__()\n",
        "\n",
        "        self.bot = torch.nn.Sequential(\n",
        "            torch.nn.Conv2d(in_channels, int(in_channels//chan_factor), 1, stride=1, padding=0, bias=bias),\n",
        "            torch.nn.Upsample(scale_factor=2, mode='bilinear', align_corners=bias)\n",
        "            )\n",
        "\n",
        "    def forward(self, x):\n",
        "        return self.bot(x)\n",
        "\n",
        "class UpSample(torch.nn.Module):\n",
        "    def __init__(self, in_channels, scale_factor, chan_factor=2, kernel_size=3):\n",
        "        super(UpSample, self).__init__()\n",
        "        self.scale_factor = int(np.log2(scale_factor))\n",
        "\n",
        "        modules_body = []\n",
        "        for i in range(self.scale_factor):\n",
        "            modules_body.append(Up(in_channels, chan_factor))\n",
        "            in_channels = int(in_channels // chan_factor)\n",
        "\n",
        "        self.body = torch.nn.Sequential(*modules_body)\n",
        "\n",
        "    def forward(self, x):\n",
        "        x = self.body(x)\n",
        "        return x\n",
        "\n",
        "\n",
        "##########################################################################\n",
        "##---------- Multi-Scale Resiudal Block (MRB) ----------\n",
        "class MRB(torch.nn.Module):\n",
        "    def __init__(self, n_feat, height, width, chan_factor, bias,groups):\n",
        "        super(MRB, self).__init__()\n",
        "\n",
        "        self.n_feat, self.height, self.width = n_feat, height, width\n",
        "\n",
        "        self.dau_top = RCB(int(n_feat*chan_factor**0), bias=bias, groups=groups)\n",
        "        self.dau_mid = RCB(int(n_feat*chan_factor**1), bias=bias, groups=groups)\n",
        "        self.dau_bot = RCB(int(n_feat*chan_factor**2), bias=bias, groups=groups)\n",
        "\n",
        "        self.down2 = DownSample(int((chan_factor**0)*n_feat),2,chan_factor)\n",
        "        self.down4 = torch.nn.Sequential(\n",
        "            DownSample(int((chan_factor**0)*n_feat),2,chan_factor),\n",
        "            DownSample(int((chan_factor**1)*n_feat),2,chan_factor)\n",
        "        )\n",
        "\n",
        "        self.up21_1 = UpSample(int((chan_factor**1)*n_feat),2,chan_factor)\n",
        "        self.up21_2 = UpSample(int((chan_factor**1)*n_feat),2,chan_factor)\n",
        "        self.up32_1 = UpSample(int((chan_factor**2)*n_feat),2,chan_factor)\n",
        "        self.up32_2 = UpSample(int((chan_factor**2)*n_feat),2,chan_factor)\n",
        "\n",
        "        self.conv_out = torch.nn.Conv2d(n_feat, n_feat, kernel_size=1, padding=0, bias=bias)\n",
        "\n",
        "        # only two inputs for SKFF\n",
        "        self.skff_top = SKFF(int(n_feat*chan_factor**0), 2)\n",
        "        self.skff_mid = SKFF(int(n_feat*chan_factor**1), 2)\n",
        "\n",
        "    def forward(self, x):\n",
        "        x_top = x.clone()\n",
        "        x_mid = self.down2(x_top)\n",
        "        x_bot = self.down4(x_top)\n",
        "\n",
        "        x_top = self.dau_top(x_top)\n",
        "        x_mid = self.dau_mid(x_mid)\n",
        "        x_bot = self.dau_bot(x_bot)\n",
        "\n",
        "        x_mid = self.skff_mid([x_mid, self.up32_1(x_bot)])\n",
        "        x_top = self.skff_top([x_top, self.up21_1(x_mid)])\n",
        "\n",
        "        x_top = self.dau_top(x_top)\n",
        "        x_mid = self.dau_mid(x_mid)\n",
        "        x_bot = self.dau_bot(x_bot)\n",
        "\n",
        "        x_mid = self.skff_mid([x_mid, self.up32_2(x_bot)])\n",
        "        x_top = self.skff_top([x_top, self.up21_2(x_mid)])\n",
        "\n",
        "        out = self.conv_out(x_top)\n",
        "        out = out + x\n",
        "\n",
        "        return out\n",
        "\n",
        "##########################################################################\n",
        "##---------- Recursive Residual Group (RRG) ----------\n",
        "class RRG(torch.nn.Module):\n",
        "    def __init__(self, n_feat, n_MRB, height, width, chan_factor, bias=False, groups=1):\n",
        "        super(RRG, self).__init__()\n",
        "        modules_body = [MRB(n_feat, height, width, chan_factor, bias, groups) for _ in range(n_MRB)]\n",
        "        modules_body.append(torch.nn.Conv2d(n_feat, n_feat, kernel_size=3, stride=1, padding=1, bias=bias))\n",
        "        self.body = torch.nn.Sequential(*modules_body)\n",
        "\n",
        "    def forward(self, x):\n",
        "        res = self.body(x)\n",
        "        res += x\n",
        "        return res\n",
        "\n",
        "\n",
        "##########################################################################\n",
        "##---------- MIRNet  -----------------------\n",
        "class MIRNet_v2(torch.nn.Module):\n",
        "    def __init__(self,\n",
        "        inp_channels=3,\n",
        "        out_channels=3,\n",
        "        n_feat=80,\n",
        "        chan_factor=1.5,\n",
        "        n_RRG=4,\n",
        "        n_MRB=2,\n",
        "        height=3,\n",
        "        width=2,\n",
        "        scale=1,\n",
        "        bias=False,\n",
        "        task= None\n",
        "    ):\n",
        "        super(MIRNet_v2, self).__init__()\n",
        "\n",
        "        kernel_size=3\n",
        "        self.task = task\n",
        "\n",
        "        self.conv_in = torch.nn.Conv2d(inp_channels, n_feat, kernel_size=3, padding=1, bias=bias)\n",
        "\n",
        "        modules_body = []\n",
        "\n",
        "        modules_body.append(RRG(n_feat, n_MRB, height, width, chan_factor, bias, groups=1))\n",
        "        modules_body.append(RRG(n_feat, n_MRB, height, width, chan_factor, bias, groups=2))\n",
        "        modules_body.append(RRG(n_feat, n_MRB, height, width, chan_factor, bias, groups=4))\n",
        "        modules_body.append(RRG(n_feat, n_MRB, height, width, chan_factor, bias, groups=4))\n",
        "\n",
        "        self.body = torch.nn.Sequential(*modules_body)\n",
        "        self.conv_out = torch.nn.Conv2d(n_feat, out_channels, kernel_size=3, padding=1, bias=bias)\n",
        "\n",
        "\n",
        "    def forward(self, inp_img):\n",
        "        shallow_feats = self.conv_in(inp_img)\n",
        "        deep_feats = self.body(shallow_feats)\n",
        "\n",
        "        if self.task == 'defocus_deblurring':\n",
        "            deep_feats += shallow_feats\n",
        "            out_img = self.conv_out(deep_feats)\n",
        "\n",
        "        else:\n",
        "            out_img = self.conv_out(deep_feats)\n",
        "            out_img += inp_img\n",
        "\n",
        "        return out_img\n"
      ]
    },
    {
      "cell_type": "code",
      "execution_count": null,
      "metadata": {
        "id": "sKEP-RvJknb3"
      },
      "outputs": [],
      "source": [
        "class CharbonnierLoss(torch.nn.Module):\n",
        "    \"\"\"Charbonnier Loss (L1)\"\"\"\n",
        "\n",
        "    def __init__(self, eps:float = 1e-3):\n",
        "        super(CharbonnierLoss, self).__init__()\n",
        "        self.eps = eps\n",
        "\n",
        "    def forward(self, x, y):\n",
        "        diff = x - y\n",
        "        loss = torch.mean(torch.sqrt((diff ** 2) + (self.eps ** 2)))\n",
        "        return loss"
      ]
    },
    {
      "cell_type": "code",
      "execution_count": null,
      "metadata": {
        "id": "-w7hE9oE1pF3"
      },
      "outputs": [],
      "source": [
        "class PairedRandomCrop(torch.nn.Module):\n",
        "  def __init__(self, size:torch.IntTensor):\n",
        "    super(PairedRandomCrop, self).__init__()\n",
        "    self.size:torch.IntTensor = size\n",
        "  def forward(self, data_list:list[torch.Tensor]):\n",
        "    location:torch.IntTensor = (torch.rand(2) * (torch.IntTensor(list(data_list[0].size())[1:]) - self.size)).to(dtype = torch.int)\n",
        "    new_list:list[torch.Tensor] = [torchvision.transforms.functional.crop(data, location[0], location[1], self.size[0], self.size[1]) for data in data_list]\n",
        "    return new_list"
      ]
    },
    {
      "cell_type": "code",
      "execution_count": null,
      "metadata": {
        "id": "GuGO4TRkS6O6"
      },
      "outputs": [],
      "source": [
        "class LOLDataset(torch.utils.data.Dataset):\n",
        "\tdef __init__(self, root_dir:str, sub_dir:list[str], prefix:list[str] = [\"\", \"\"], transform = None) -> None:\n",
        "\t\tsuper().__init__()\n",
        "\t\tself.root_dir:str = root_dir\n",
        "\t\tself.sub_dir:list[str] = sub_dir\n",
        "\t\tself.prefix:list[str] = prefix\n",
        "\t\tself.transform = transform\n",
        "\t\tself.file_name:list[str] = sorted(os.listdir(os.path.join(self.root_dir, self.sub_dir[0])))\n",
        "\t\tself.file_name:list[str] = [fn.removeprefix(self.prefix[0]) for fn in self.file_name if fn.endswith(\".png\")]\n",
        "\tdef __len__(self) -> int:\n",
        "\t\treturn len(self.file_name)\n",
        "\tdef __getitem__(self, idx:int) -> list[torch.FloatTensor]:\n",
        "\t\tfile_path:list[str] = [os.path.join(self.root_dir, sd, pf + self.file_name[idx]) for sd, pf in zip(self.sub_dir, self.prefix)]\n",
        "\t\tdata:list[np.array] = [torch.as_tensor(cv2.imread(fp)).float() for fp in file_path]\n",
        "\t\tdata:list[np.array] = [np.transpose(d, [2, 0, 1]) for d in data]\n",
        "\t\tdata:list[torch.Tensor] = [torch.as_tensor(d) for d in data]\n",
        "\t\tdata:list[torch.FloatTensor] = [d.float() for d in data]\n",
        "\t\tif self.transform != None:\n",
        "\t\t\tdata = self.transform(data)\n",
        "\t\treturn data"
      ]
    },
    {
      "cell_type": "code",
      "execution_count": null,
      "metadata": {
        "id": "VJSxwatHMGhd"
      },
      "outputs": [],
      "source": [
        "class BGR2LAB(torch.nn.Module):\n",
        "  def __init__(self) -> None:\n",
        "    super(BGR2LAB, self).__init__()\n",
        "  def forward(self, data:torch.Tensor) -> torch.Tensor:\n",
        "    data:torch.Tensor = data.permute(0, 2, 3, 1)\n",
        "    data:list[np.ndarray] = [img.detach().cpu().numpy() for img in data]\n",
        "    data:list[np.ndarray] = [cv2.cvtColor(img, cv2.COLOR_BGR2LAB) for img in data]\n",
        "    data:np.ndarray = np.array([img.tolist() for img in data])\n",
        "    data:np.ndarray = np.transpose(data, [0, 3, 1, 2])\n",
        "    data:torch.Tensor = torch.as_tensor(data)\n",
        "    return data"
      ]
    },
    {
      "cell_type": "code",
      "execution_count": null,
      "metadata": {
        "id": "20k3ET17xGfI"
      },
      "outputs": [],
      "source": [
        "def seed_everything(seed: int = 42):\n",
        "    os.environ[\"PYTHONHASHSEED\"] = str(seed)\n",
        "    torch.manual_seed(seed)\n",
        "    torch.cuda.manual_seed(seed)  # type: ignore\n",
        "    torch.cuda.manual_seed_all(seed) # if use multi-GPU\n",
        "    torch.backends.cudnn.deterministic = True  # type: ignore\n",
        "    torch.backends.cudnn.benchmark = False  # type: ignore"
      ]
    },
    {
      "cell_type": "code",
      "execution_count": null,
      "metadata": {
        "id": "lKCrz4Rhkran"
      },
      "outputs": [],
      "source": [
        "def train(dataset:list[torch.utils.data.Dataset], device:str):\n",
        "    epochs = 64\n",
        "    batch_size = 2\n",
        "    loader:list[torch.utils.data.DataLoader] = [\n",
        "      torch.utils.data.DataLoader(dataset[0], batch_size = batch_size, shuffle = True),\n",
        "      torch.utils.data.DataLoader(dataset[1], batch_size = 1, shuffle = False),\n",
        "    ]\n",
        "    model:torch.nn.Module = MIRNet_v2().to(device = device)\n",
        "    bgr2lab:torch.nn.Module = BGR2LAB().to(device = device)\n",
        "    criterion:torch.nn.Module = CharbonnierLoss().to(device = device)\n",
        "    optimizer:torch.optim.Optimizer = torch.optim.Adam(model.parameters(), lr=1e-4, weight_decay=1e-5)\n",
        "    scheduler:torch.optim.lr_scheduler.LRScheduler = torch.optim.lr_scheduler.CosineAnnealingLR(optimizer, T_max=20, eta_min=1e-5)\n",
        "    metric:list[torchmetrics.metric.Metric] = [\n",
        "        torchmetrics.image.PeakSignalNoiseRatio().to(device = device),\n",
        "        torchmetrics.image.StructuralSimilarityIndexMeasure().to(device = device),\n",
        "    ]\n",
        "\n",
        "    best_val_loss:float = cmath.inf\n",
        "\n",
        "    for epoch in range(1, epochs + 1):\n",
        "        sum_loss:list[float] = [0.0 for _ in range(2)]\n",
        "        sum_metric:list[float] = [0.0 for m in metric]\n",
        "\n",
        "        loop = tqdm(enumerate(loader[0]), total = len(loader[0]), leave = False)\n",
        "\n",
        "        model.train()\n",
        "        for idx, data in loop:\n",
        "            optimizer.zero_grad()\n",
        "            data:list[torch.Tensor] = [d.to(device = device) for d in data]\n",
        "            data[0]:torch.Tensor = model(data[0])\n",
        "            #data:list[torch.Tensor] = [bgr2lab(d) for d in data]\n",
        "            loss:torch.Tensor = criterion(data[0], data[1])\n",
        "            loss.backward()\n",
        "            optimizer.step()\n",
        "\n",
        "            sum_loss[0] += loss.item()\n",
        "            loop.set_description(f\"Epoch {epoch}/{epochs}\")\n",
        "\n",
        "        current_lr = scheduler.optimizer.param_groups[0][\"lr\"]\n",
        "        scheduler.step()\n",
        "\n",
        "        model.eval()\n",
        "        with torch.no_grad():\n",
        "            loop = tqdm(enumerate(loader[1]), total = len(loader[1]), leave = False)\n",
        "\n",
        "            for idx, data in loop:\n",
        "                data:list[torch.Tensor] = [d.to(device = device) for d in data]\n",
        "                data[0]:torch.Tensor = model(data[0])\n",
        "                #data:list[torch.Tensor] = [bgr2lab(d) for d in data]\n",
        "                loss:torch.Tensor = criterion(data[0], data[1])\n",
        "                sum_loss[1] += loss.item()\n",
        "                for i in range(len(metric)):\n",
        "                  sum_metric[i] += metric[i](data[0], data[1]).item()\n",
        "                loop.set_description(\"valid\")\n",
        "\n",
        "        avg_loss:list[float] = [sum_loss[i] / len(loader[i]) for i in range(2)]\n",
        "        avg_metric:list[float] = [s / len(loader[1]) for s in sum_metric]\n",
        "\n",
        "        print(f\"Epoch: {epoch}\\ttrain_loss: {avg_loss[0]:.4f}\\tval_loss: {avg_loss[1]:.4f}\\tpsnr: {avg_metric[0]:.4f}\\tssim: {avg_metric[1]:.4f}\")\n",
        "\n",
        "        if best_val_loss > avg_loss[1]:\n",
        "            print(\"=\" * 80)\n",
        "            print(f\"val_loss is improved from {best_val_loss:.4f} to {avg_loss[1]:.4f}\\t saved current weight\")\n",
        "            print(\"=\" * 80)\n",
        "            best_val_loss:float = avg_loss[1]\n",
        "\n",
        "            torch.save(\n",
        "              {\n",
        "                \"epoch\": epoch,\n",
        "                \"model_state_dict\": model.state_dict(),\n",
        "                \"optimizer_state_dict\": optimizer.state_dict(),\n",
        "                \"loss\": criterion\n",
        "              },\n",
        "              os.path.join(\"drive\", \"My Drive\", \"llie\", \"weight\", f\"{epoch:03d}.pth\")\n",
        "            )"
      ]
    },
    {
      "cell_type": "code",
      "execution_count": null,
      "metadata": {
        "id": "WBF8N6HLvqMF"
      },
      "outputs": [],
      "source": [
        "def test(dataset:torch.utils.data.Dataset, device:str):\n",
        "  loader:torch.utils.data.DataLoader = torch.utils.data.DataLoader(dataset, batch_size = 1)\n",
        "  last_cp_path:str = sorted(os.listdir(os.path.join(\"drive\", \"My Drive\", \"llie\", \"weight\")))[-1]\n",
        "  cp:dict = torch.load(os.path.join(\"drive\", \"My Drive\", \"llie\", \"weight\", last_cp_path))\n",
        "  model:torch.nn.Module = MIRNet_v2().to(device = device)\n",
        "  criterion:torch.nn.Module = CharbonnierLoss().to(device = device)\n",
        "  metric:list[torchmetrics.metric.Metric] = [\n",
        "    torchmetrics.image.PeakSignalNoiseRatio().to(device = device),\n",
        "    torchmetrics.image.StructuralSimilarityIndexMeasure().to(device = device),\n",
        "  ]\n",
        "  model.load_state_dict(cp[\"model_state_dict\"])\n",
        "  model.eval()\n",
        "  with torch.no_grad():\n",
        "    loop = tqdm(enumerate(loader), total = len(loader), leave = False)\n",
        "    for idx, data in loop:\n",
        "      data:list[torch.Tensor] = [d.to(device = device) for d in data]\n",
        "      data.append(model(data[0]))\n",
        "      loss:torch.Tensor = criterion(data[2], data[1])\n",
        "      metric_val:list[float] = [m(data[2], data[1]).item() for m in metric]\n",
        "      print(f\"idx: {idx}\\tloss: {loss.item():.4f}\\tpsnr: {metric_val[0]:.4f}\\tssim: {metric_val[1]:.4f}\")\n",
        "      for i, d in enumerate(data):\n",
        "        try:\n",
        "          os.mkdir(os.path.join(\"drive\", \"My Drive\", \"llie\", \"img\", str(i)))\n",
        "        except:\n",
        "          pass\n",
        "        for img in d.permute(0, 2, 3, 1).detach().cpu().numpy():\n",
        "          cv2.imwrite(os.path.join(\"drive\", \"My Drive\", \"llie\", \"img\", str(i), f\"{idx:03d}.png\"), img)\n",
        "      loop.set_description(\"test\")"
      ]
    },
    {
      "cell_type": "code",
      "execution_count": null,
      "metadata": {
        "colab": {
          "background_save": true,
          "base_uri": "https://localhost:8080/"
        },
        "id": "n5HpGNnORG2T",
        "outputId": "0aec0b4f-44eb-4ea7-f348-d7ce149a3823"
      },
      "outputs": [
        {
          "name": "stdout",
          "output_type": "stream",
          "text": [
            "Mounted at drive\n"
          ]
        },
        {
          "name": "stderr",
          "output_type": "stream",
          "text": [
            ""
          ]
        },
        {
          "name": "stdout",
          "output_type": "stream",
          "text": [
            "Epoch: 1\ttrain_loss: 46.7869\tval_loss: 24.9756\tpsnr: 18.2437\tssim: 0.8292\n",
            "================================================================================\n",
            "val_loss is improved from inf to 24.9756\t saved current weight\n",
            "================================================================================\n"
          ]
        },
        {
          "name": "stderr",
          "output_type": "stream",
          "text": [
            ""
          ]
        },
        {
          "name": "stdout",
          "output_type": "stream",
          "text": [
            "Epoch: 2\ttrain_loss: 33.1583\tval_loss: 21.8736\tpsnr: 19.9133\tssim: 0.8255\n",
            "================================================================================\n",
            "val_loss is improved from 24.9756 to 21.8736\t saved current weight\n",
            "================================================================================\n"
          ]
        },
        {
          "name": "stderr",
          "output_type": "stream",
          "text": [
            ""
          ]
        },
        {
          "name": "stdout",
          "output_type": "stream",
          "text": [
            "Epoch: 3\ttrain_loss: 30.0386\tval_loss: 24.9160\tpsnr: 19.2515\tssim: 0.8164\n"
          ]
        },
        {
          "name": "stderr",
          "output_type": "stream",
          "text": [
            ""
          ]
        },
        {
          "name": "stdout",
          "output_type": "stream",
          "text": [
            "Epoch: 4\ttrain_loss: 26.4952\tval_loss: 30.6292\tpsnr: 17.9175\tssim: 0.8026\n"
          ]
        },
        {
          "name": "stderr",
          "output_type": "stream",
          "text": [
            ""
          ]
        },
        {
          "name": "stdout",
          "output_type": "stream",
          "text": [
            "Epoch: 5\ttrain_loss: 25.2449\tval_loss: 22.8609\tpsnr: 19.4839\tssim: 0.8352\n"
          ]
        },
        {
          "name": "stderr",
          "output_type": "stream",
          "text": [
            ""
          ]
        },
        {
          "name": "stdout",
          "output_type": "stream",
          "text": [
            "Epoch: 6\ttrain_loss: 24.2368\tval_loss: 20.9830\tpsnr: 20.7243\tssim: 0.8145\n",
            "================================================================================\n",
            "val_loss is improved from 21.8736 to 20.9830\t saved current weight\n",
            "================================================================================\n"
          ]
        },
        {
          "name": "stderr",
          "output_type": "stream",
          "text": [
            ""
          ]
        },
        {
          "name": "stdout",
          "output_type": "stream",
          "text": [
            "Epoch: 7\ttrain_loss: 23.8592\tval_loss: 22.2224\tpsnr: 20.2595\tssim: 0.8172\n"
          ]
        },
        {
          "name": "stderr",
          "output_type": "stream",
          "text": [
            ""
          ]
        },
        {
          "name": "stdout",
          "output_type": "stream",
          "text": [
            "Epoch: 8\ttrain_loss: 22.8332\tval_loss: 24.8187\tpsnr: 19.1638\tssim: 0.8211\n"
          ]
        },
        {
          "name": "stderr",
          "output_type": "stream",
          "text": [
            ""
          ]
        },
        {
          "name": "stdout",
          "output_type": "stream",
          "text": [
            "Epoch: 9\ttrain_loss: 22.0199\tval_loss: 26.5376\tpsnr: 19.1195\tssim: 0.8118\n"
          ]
        },
        {
          "name": "stderr",
          "output_type": "stream",
          "text": [
            ""
          ]
        },
        {
          "name": "stdout",
          "output_type": "stream",
          "text": [
            "Epoch: 10\ttrain_loss: 21.7486\tval_loss: 34.4776\tpsnr: 17.1187\tssim: 0.8019\n"
          ]
        },
        {
          "name": "stderr",
          "output_type": "stream",
          "text": [
            ""
          ]
        },
        {
          "name": "stdout",
          "output_type": "stream",
          "text": [
            "Epoch: 11\ttrain_loss: 21.2831\tval_loss: 33.5307\tpsnr: 17.2777\tssim: 0.7892\n"
          ]
        },
        {
          "name": "stderr",
          "output_type": "stream",
          "text": [
            ""
          ]
        },
        {
          "name": "stdout",
          "output_type": "stream",
          "text": [
            "Epoch: 12\ttrain_loss: 20.0867\tval_loss: 26.9410\tpsnr: 18.9551\tssim: 0.8101\n"
          ]
        },
        {
          "name": "stderr",
          "output_type": "stream",
          "text": [
            ""
          ]
        },
        {
          "name": "stdout",
          "output_type": "stream",
          "text": [
            "Epoch: 13\ttrain_loss: 19.8137\tval_loss: 23.3677\tpsnr: 19.8868\tssim: 0.8160\n"
          ]
        },
        {
          "name": "stderr",
          "output_type": "stream",
          "text": [
            ""
          ]
        },
        {
          "name": "stdout",
          "output_type": "stream",
          "text": [
            "Epoch: 14\ttrain_loss: 19.4813\tval_loss: 32.6198\tpsnr: 17.4236\tssim: 0.7998\n"
          ]
        },
        {
          "name": "stderr",
          "output_type": "stream",
          "text": [
            ""
          ]
        },
        {
          "name": "stdout",
          "output_type": "stream",
          "text": [
            "Epoch: 15\ttrain_loss: 18.7568\tval_loss: 29.5387\tpsnr: 18.2496\tssim: 0.8091\n"
          ]
        },
        {
          "name": "stderr",
          "output_type": "stream",
          "text": [
            ""
          ]
        },
        {
          "name": "stdout",
          "output_type": "stream",
          "text": [
            "Epoch: 16\ttrain_loss: 17.9549\tval_loss: 29.7639\tpsnr: 18.2283\tssim: 0.8075\n"
          ]
        },
        {
          "name": "stderr",
          "output_type": "stream",
          "text": [
            ""
          ]
        },
        {
          "name": "stdout",
          "output_type": "stream",
          "text": [
            "Epoch: 17\ttrain_loss: 17.5312\tval_loss: 25.2586\tpsnr: 19.5286\tssim: 0.8128\n"
          ]
        },
        {
          "name": "stderr",
          "output_type": "stream",
          "text": [
            ""
          ]
        },
        {
          "name": "stdout",
          "output_type": "stream",
          "text": [
            "Epoch: 18\ttrain_loss: 17.1731\tval_loss: 30.2222\tpsnr: 18.2282\tssim: 0.8018\n"
          ]
        },
        {
          "name": "stderr",
          "output_type": "stream",
          "text": [
            ""
          ]
        },
        {
          "name": "stdout",
          "output_type": "stream",
          "text": [
            "Epoch: 19\ttrain_loss: 16.7244\tval_loss: 30.1618\tpsnr: 18.1610\tssim: 0.8048\n"
          ]
        },
        {
          "name": "stderr",
          "output_type": "stream",
          "text": [
            ""
          ]
        },
        {
          "name": "stdout",
          "output_type": "stream",
          "text": [
            "Epoch: 20\ttrain_loss: 16.4144\tval_loss: 32.0599\tpsnr: 17.7914\tssim: 0.7994\n"
          ]
        },
        {
          "name": "stderr",
          "output_type": "stream",
          "text": [
            ""
          ]
        },
        {
          "name": "stdout",
          "output_type": "stream",
          "text": [
            "Epoch: 21\ttrain_loss: 16.0689\tval_loss: 29.0136\tpsnr: 18.4239\tssim: 0.8068\n"
          ]
        },
        {
          "name": "stderr",
          "output_type": "stream",
          "text": [
            ""
          ]
        },
        {
          "name": "stdout",
          "output_type": "stream",
          "text": [
            "Epoch: 22\ttrain_loss: 16.0317\tval_loss: 28.7893\tpsnr: 18.5743\tssim: 0.8064\n"
          ]
        },
        {
          "name": "stderr",
          "output_type": "stream",
          "text": [
            ""
          ]
        },
        {
          "name": "stdout",
          "output_type": "stream",
          "text": [
            "Epoch: 23\ttrain_loss: 15.8840\tval_loss: 26.7087\tpsnr: 19.0018\tssim: 0.8103\n"
          ]
        },
        {
          "name": "stderr",
          "output_type": "stream",
          "text": [
            ""
          ]
        },
        {
          "name": "stdout",
          "output_type": "stream",
          "text": [
            "Epoch: 24\ttrain_loss: 16.0391\tval_loss: 29.0897\tpsnr: 18.4854\tssim: 0.8077\n"
          ]
        },
        {
          "name": "stderr",
          "output_type": "stream",
          "text": [
            ""
          ]
        },
        {
          "name": "stdout",
          "output_type": "stream",
          "text": [
            "Epoch: 25\ttrain_loss: 16.1740\tval_loss: 32.1292\tpsnr: 17.5532\tssim: 0.8116\n"
          ]
        },
        {
          "name": "stderr",
          "output_type": "stream",
          "text": [
            ""
          ]
        },
        {
          "name": "stdout",
          "output_type": "stream",
          "text": [
            "Epoch: 26\ttrain_loss: 16.5958\tval_loss: 27.3190\tpsnr: 18.8392\tssim: 0.8206\n"
          ]
        },
        {
          "name": "stderr",
          "output_type": "stream",
          "text": [
            ""
          ]
        },
        {
          "name": "stdout",
          "output_type": "stream",
          "text": [
            "Epoch: 27\ttrain_loss: 16.5612\tval_loss: 31.4084\tpsnr: 17.9790\tssim: 0.8050\n"
          ]
        },
        {
          "name": "stderr",
          "output_type": "stream",
          "text": [
            ""
          ]
        },
        {
          "name": "stdout",
          "output_type": "stream",
          "text": [
            "Epoch: 28\ttrain_loss: 16.9960\tval_loss: 28.8321\tpsnr: 18.4636\tssim: 0.8099\n"
          ]
        },
        {
          "name": "stderr",
          "output_type": "stream",
          "text": [
            ""
          ]
        },
        {
          "name": "stdout",
          "output_type": "stream",
          "text": [
            "Epoch: 29\ttrain_loss: 18.5042\tval_loss: 25.7986\tpsnr: 19.2760\tssim: 0.8236\n"
          ]
        },
        {
          "name": "stderr",
          "output_type": "stream",
          "text": [
            ""
          ]
        },
        {
          "name": "stdout",
          "output_type": "stream",
          "text": [
            "Epoch: 30\ttrain_loss: 18.4142\tval_loss: 22.4122\tpsnr: 20.2304\tssim: 0.8198\n"
          ]
        },
        {
          "name": "stderr",
          "output_type": "stream",
          "text": [
            ""
          ]
        },
        {
          "name": "stdout",
          "output_type": "stream",
          "text": [
            "Epoch: 31\ttrain_loss: 17.9985\tval_loss: 26.8263\tpsnr: 18.7401\tssim: 0.8277\n"
          ]
        },
        {
          "name": "stderr",
          "output_type": "stream",
          "text": [
            ""
          ]
        },
        {
          "name": "stdout",
          "output_type": "stream",
          "text": [
            "Epoch: 32\ttrain_loss: 18.3190\tval_loss: 29.3072\tpsnr: 17.9094\tssim: 0.8220\n"
          ]
        },
        {
          "name": "stderr",
          "output_type": "stream",
          "text": [
            ""
          ]
        },
        {
          "name": "stdout",
          "output_type": "stream",
          "text": [
            "Epoch: 33\ttrain_loss: 19.4375\tval_loss: 41.1338\tpsnr: 15.8863\tssim: 0.8035\n"
          ]
        },
        {
          "name": "stderr",
          "output_type": "stream",
          "text": [
            ""
          ]
        },
        {
          "name": "stdout",
          "output_type": "stream",
          "text": [
            "Epoch: 34\ttrain_loss: 19.8489\tval_loss: 34.3915\tpsnr: 17.1667\tssim: 0.8167\n"
          ]
        },
        {
          "name": "stderr",
          "output_type": "stream",
          "text": [
            ""
          ]
        },
        {
          "name": "stdout",
          "output_type": "stream",
          "text": [
            "Epoch: 35\ttrain_loss: 19.2656\tval_loss: 24.2638\tpsnr: 19.4849\tssim: 0.8228\n"
          ]
        },
        {
          "name": "stderr",
          "output_type": "stream",
          "text": [
            ""
          ]
        },
        {
          "name": "stdout",
          "output_type": "stream",
          "text": [
            "Epoch: 36\ttrain_loss: 18.6905\tval_loss: 27.1025\tpsnr: 18.9980\tssim: 0.8309\n"
          ]
        },
        {
          "name": "stderr",
          "output_type": "stream",
          "text": [
            ""
          ]
        },
        {
          "name": "stdout",
          "output_type": "stream",
          "text": [
            "Epoch: 37\ttrain_loss: 18.8041\tval_loss: 44.1437\tpsnr: 14.8765\tssim: 0.7959\n"
          ]
        },
        {
          "name": "stderr",
          "output_type": "stream",
          "text": [
            ""
          ]
        },
        {
          "name": "stdout",
          "output_type": "stream",
          "text": [
            "Epoch: 38\ttrain_loss: 19.9794\tval_loss: 27.5953\tpsnr: 18.8250\tssim: 0.8368\n"
          ]
        },
        {
          "name": "stderr",
          "output_type": "stream",
          "text": [
            ""
          ]
        },
        {
          "name": "stdout",
          "output_type": "stream",
          "text": [
            "Epoch: 39\ttrain_loss: 18.9343\tval_loss: 50.5377\tpsnr: 13.6543\tssim: 0.7975\n"
          ]
        },
        {
          "name": "stderr",
          "output_type": "stream",
          "text": [
            ""
          ]
        },
        {
          "name": "stdout",
          "output_type": "stream",
          "text": [
            "Epoch: 40\ttrain_loss: 19.7745\tval_loss: 24.4772\tpsnr: 19.9606\tssim: 0.8404\n"
          ]
        },
        {
          "name": "stderr",
          "output_type": "stream",
          "text": [
            ""
          ]
        },
        {
          "name": "stdout",
          "output_type": "stream",
          "text": [
            "Epoch: 41\ttrain_loss: 19.3383\tval_loss: 35.3898\tpsnr: 16.6653\tssim: 0.8324\n"
          ]
        },
        {
          "name": "stderr",
          "output_type": "stream",
          "text": [
            ""
          ]
        },
        {
          "name": "stdout",
          "output_type": "stream",
          "text": [
            "Epoch: 42\ttrain_loss: 18.5507\tval_loss: 29.3197\tpsnr: 18.4078\tssim: 0.8417\n"
          ]
        },
        {
          "name": "stderr",
          "output_type": "stream",
          "text": [
            ""
          ]
        },
        {
          "name": "stdout",
          "output_type": "stream",
          "text": [
            "Epoch: 43\ttrain_loss: 18.1443\tval_loss: 35.8039\tpsnr: 16.8033\tssim: 0.8310\n"
          ]
        },
        {
          "name": "stderr",
          "output_type": "stream",
          "text": [
            ""
          ]
        },
        {
          "name": "stdout",
          "output_type": "stream",
          "text": [
            "Epoch: 44\ttrain_loss: 18.1595\tval_loss: 25.0321\tpsnr: 19.4553\tssim: 0.8507\n"
          ]
        },
        {
          "name": "stderr",
          "output_type": "stream",
          "text": [
            ""
          ]
        },
        {
          "name": "stdout",
          "output_type": "stream",
          "text": [
            "Epoch: 45\ttrain_loss: 17.3140\tval_loss: 24.0380\tpsnr: 19.8845\tssim: 0.8520\n"
          ]
        },
        {
          "name": "stderr",
          "output_type": "stream",
          "text": [
            ""
          ]
        },
        {
          "name": "stdout",
          "output_type": "stream",
          "text": [
            "Epoch: 46\ttrain_loss: 16.8682\tval_loss: 22.3632\tpsnr: 20.0751\tssim: 0.8568\n"
          ]
        },
        {
          "name": "stderr",
          "output_type": "stream",
          "text": [
            ""
          ]
        },
        {
          "name": "stdout",
          "output_type": "stream",
          "text": [
            "Epoch: 47\ttrain_loss: 17.3697\tval_loss: 40.9654\tpsnr: 15.7659\tssim: 0.8187\n"
          ]
        },
        {
          "name": "stderr",
          "output_type": "stream",
          "text": [
            ""
          ]
        },
        {
          "name": "stdout",
          "output_type": "stream",
          "text": [
            "Epoch: 48\ttrain_loss: 16.8915\tval_loss: 29.0070\tpsnr: 18.5475\tssim: 0.8466\n"
          ]
        },
        {
          "name": "stderr",
          "output_type": "stream",
          "text": [
            ""
          ]
        },
        {
          "name": "stdout",
          "output_type": "stream",
          "text": [
            "Epoch: 49\ttrain_loss: 15.8908\tval_loss: 29.3142\tpsnr: 18.4426\tssim: 0.8469\n"
          ]
        },
        {
          "name": "stderr",
          "output_type": "stream",
          "text": [
            ""
          ]
        },
        {
          "name": "stdout",
          "output_type": "stream",
          "text": [
            "Epoch: 50\ttrain_loss: 15.0803\tval_loss: 31.0573\tpsnr: 18.2532\tssim: 0.8415\n"
          ]
        },
        {
          "name": "stderr",
          "output_type": "stream",
          "text": [
            ""
          ]
        },
        {
          "name": "stdout",
          "output_type": "stream",
          "text": [
            "Epoch: 51\ttrain_loss: 14.5420\tval_loss: 31.6003\tpsnr: 17.8345\tssim: 0.8389\n"
          ]
        },
        {
          "name": "stderr",
          "output_type": "stream",
          "text": [
            ""
          ]
        },
        {
          "name": "stdout",
          "output_type": "stream",
          "text": [
            "Epoch: 52\ttrain_loss: 14.2139\tval_loss: 37.4318\tpsnr: 16.7113\tssim: 0.8236\n"
          ]
        },
        {
          "name": "stderr",
          "output_type": "stream",
          "text": [
            ""
          ]
        },
        {
          "name": "stdout",
          "output_type": "stream",
          "text": [
            "Epoch: 53\ttrain_loss: 13.5282\tval_loss: 35.1991\tpsnr: 17.2876\tssim: 0.8302\n"
          ]
        },
        {
          "name": "stderr",
          "output_type": "stream",
          "text": [
            ""
          ]
        },
        {
          "name": "stdout",
          "output_type": "stream",
          "text": [
            "Epoch: 54\ttrain_loss: 12.9536\tval_loss: 29.0627\tpsnr: 18.5047\tssim: 0.8474\n"
          ]
        },
        {
          "name": "stderr",
          "output_type": "stream",
          "text": [
            ""
          ]
        },
        {
          "name": "stdout",
          "output_type": "stream",
          "text": [
            "Epoch: 55\ttrain_loss: 12.4214\tval_loss: 28.5319\tpsnr: 18.7491\tssim: 0.8470\n"
          ]
        },
        {
          "name": "stderr",
          "output_type": "stream",
          "text": [
            ""
          ]
        },
        {
          "name": "stdout",
          "output_type": "stream",
          "text": [
            "Epoch: 56\ttrain_loss: 11.9058\tval_loss: 30.9447\tpsnr: 18.2134\tssim: 0.8423\n"
          ]
        },
        {
          "name": "stderr",
          "output_type": "stream",
          "text": [
            ""
          ]
        },
        {
          "name": "stdout",
          "output_type": "stream",
          "text": [
            "Epoch: 57\ttrain_loss: 11.5353\tval_loss: 28.6053\tpsnr: 18.6781\tssim: 0.8480\n"
          ]
        },
        {
          "name": "stderr",
          "output_type": "stream",
          "text": [
            ""
          ]
        },
        {
          "name": "stdout",
          "output_type": "stream",
          "text": [
            "Epoch: 58\ttrain_loss: 11.2014\tval_loss: 30.5442\tpsnr: 18.2410\tssim: 0.8430\n"
          ]
        },
        {
          "name": "stderr",
          "output_type": "stream",
          "text": [
            ""
          ]
        },
        {
          "name": "stdout",
          "output_type": "stream",
          "text": [
            "Epoch: 59\ttrain_loss: 10.8474\tval_loss: 35.0705\tpsnr: 17.1921\tssim: 0.8323\n"
          ]
        },
        {
          "name": "stderr",
          "output_type": "stream",
          "text": [
            ""
          ]
        },
        {
          "name": "stdout",
          "output_type": "stream",
          "text": [
            "Epoch: 60\ttrain_loss: 10.6846\tval_loss: 29.4905\tpsnr: 18.5270\tssim: 0.8449\n"
          ]
        },
        {
          "name": "stderr",
          "output_type": "stream",
          "text": [
            ""
          ]
        },
        {
          "name": "stdout",
          "output_type": "stream",
          "text": [
            "Epoch: 61\ttrain_loss: 10.5062\tval_loss: 29.8860\tpsnr: 18.4167\tssim: 0.8431\n"
          ]
        },
        {
          "name": "stderr",
          "output_type": "stream",
          "text": [
            ""
          ]
        },
        {
          "name": "stdout",
          "output_type": "stream",
          "text": [
            "Epoch: 62\ttrain_loss: 10.3966\tval_loss: 30.8389\tpsnr: 18.1506\tssim: 0.8428\n"
          ]
        },
        {
          "name": "stderr",
          "output_type": "stream",
          "text": [
            ""
          ]
        },
        {
          "name": "stdout",
          "output_type": "stream",
          "text": [
            "Epoch: 63\ttrain_loss: 10.4137\tval_loss: 30.7269\tpsnr: 18.2358\tssim: 0.8414\n"
          ]
        },
        {
          "name": "stderr",
          "output_type": "stream",
          "text": [
            ""
          ]
        },
        {
          "name": "stdout",
          "output_type": "stream",
          "text": [
            "Epoch: 64\ttrain_loss: 10.5634\tval_loss: 30.7882\tpsnr: 18.1954\tssim: 0.8414\n"
          ]
        },
        {
          "name": "stderr",
          "output_type": "stream",
          "text": [
            "\r  0%|          | 0/15 [00:00<?, ?it/s]"
          ]
        },
        {
          "name": "stdout",
          "output_type": "stream",
          "text": [
            "idx: 0\tloss: 30.3400\tpsnr: 17.2380\tssim: 0.7952\n"
          ]
        },
        {
          "name": "stderr",
          "output_type": "stream",
          "text": [
            "test:   7%|▋         | 1/15 [00:06<01:35,  6.82s/it]"
          ]
        },
        {
          "name": "stdout",
          "output_type": "stream",
          "text": [
            "idx: 1\tloss: 47.7165\tpsnr: 14.3101\tssim: 0.8326\n"
          ]
        },
        {
          "name": "stderr",
          "output_type": "stream",
          "text": [
            "test:  13%|█▎        | 2/15 [00:09<00:58,  4.49s/it]"
          ]
        },
        {
          "name": "stdout",
          "output_type": "stream",
          "text": [
            "idx: 2\tloss: 32.2606\tpsnr: 16.9138\tssim: 0.7688\n"
          ]
        },
        {
          "name": "stderr",
          "output_type": "stream",
          "text": [
            "test:  20%|██        | 3/15 [00:12<00:44,  3.75s/it]"
          ]
        },
        {
          "name": "stdout",
          "output_type": "stream",
          "text": [
            "idx: 3\tloss: 19.1968\tpsnr: 19.9606\tssim: 0.7279\n"
          ]
        },
        {
          "name": "stderr",
          "output_type": "stream",
          "text": [
            "test:  27%|██▋       | 4/15 [00:14<00:34,  3.13s/it]"
          ]
        },
        {
          "name": "stdout",
          "output_type": "stream",
          "text": [
            "idx: 4\tloss: 29.6693\tpsnr: 17.8647\tssim: 0.8088\n"
          ]
        },
        {
          "name": "stderr",
          "output_type": "stream",
          "text": [
            "test:  33%|███▎      | 5/15 [00:17<00:28,  2.83s/it]"
          ]
        },
        {
          "name": "stdout",
          "output_type": "stream",
          "text": [
            "idx: 5\tloss: 40.5535\tpsnr: 15.2372\tssim: 0.7464\n"
          ]
        },
        {
          "name": "stderr",
          "output_type": "stream",
          "text": [
            "test:  40%|████      | 6/15 [00:20<00:27,  3.07s/it]"
          ]
        },
        {
          "name": "stdout",
          "output_type": "stream",
          "text": [
            "idx: 6\tloss: 34.7827\tpsnr: 14.6903\tssim: 0.5421\n"
          ]
        },
        {
          "name": "stderr",
          "output_type": "stream",
          "text": [
            "test:  47%|████▋     | 7/15 [00:23<00:24,  3.01s/it]"
          ]
        },
        {
          "name": "stdout",
          "output_type": "stream",
          "text": [
            "idx: 7\tloss: 12.2357\tpsnr: 23.0183\tssim: 0.8255\n"
          ]
        },
        {
          "name": "stderr",
          "output_type": "stream",
          "text": [
            "test:  53%|█████▎    | 8/15 [00:26<00:20,  2.89s/it]"
          ]
        },
        {
          "name": "stdout",
          "output_type": "stream",
          "text": [
            "idx: 8\tloss: 43.5788\tpsnr: 14.5650\tssim: 0.7500\n"
          ]
        },
        {
          "name": "stderr",
          "output_type": "stream",
          "text": [
            "test:  60%|██████    | 9/15 [00:28<00:16,  2.82s/it]"
          ]
        },
        {
          "name": "stdout",
          "output_type": "stream",
          "text": [
            "idx: 9\tloss: 17.8467\tpsnr: 21.4774\tssim: 0.8105\n"
          ]
        },
        {
          "name": "stderr",
          "output_type": "stream",
          "text": [
            "test:  67%|██████▋   | 10/15 [00:31<00:14,  2.87s/it]"
          ]
        },
        {
          "name": "stdout",
          "output_type": "stream",
          "text": [
            "idx: 10\tloss: 27.5355\tpsnr: 18.2994\tssim: 0.8261\n"
          ]
        },
        {
          "name": "stderr",
          "output_type": "stream",
          "text": [
            "test:  73%|███████▎  | 11/15 [00:34<00:11,  2.87s/it]"
          ]
        },
        {
          "name": "stdout",
          "output_type": "stream",
          "text": [
            "idx: 11\tloss: 18.3210\tpsnr: 21.0312\tssim: 0.8695\n"
          ]
        },
        {
          "name": "stderr",
          "output_type": "stream",
          "text": [
            "test:  80%|████████  | 12/15 [00:37<00:08,  2.99s/it]"
          ]
        },
        {
          "name": "stdout",
          "output_type": "stream",
          "text": [
            "idx: 12\tloss: 18.8952\tpsnr: 20.3908\tssim: 0.6994\n"
          ]
        },
        {
          "name": "stderr",
          "output_type": "stream",
          "text": [
            "test:  87%|████████▋ | 13/15 [00:40<00:05,  2.87s/it]"
          ]
        },
        {
          "name": "stdout",
          "output_type": "stream",
          "text": [
            "idx: 13\tloss: 17.3078\tpsnr: 21.4421\tssim: 0.7760\n"
          ]
        },
        {
          "name": "stderr",
          "output_type": "stream",
          "text": [
            "test:  93%|█████████▎| 14/15 [00:43<00:02,  2.82s/it]"
          ]
        },
        {
          "name": "stdout",
          "output_type": "stream",
          "text": [
            "idx: 14\tloss: 51.2711\tpsnr: 13.6379\tssim: 0.8602\n"
          ]
        },
        {
          "name": "stderr",
          "output_type": "stream",
          "text": [
            ""
          ]
        }
      ],
      "source": [
        "if __name__ == \"__main__\":\n",
        "  device:str = (\n",
        "    \"cuda\"\n",
        "    if torch.cuda.is_available()\n",
        "    else \"mps\"\n",
        "    if torch.backends.mps.is_available()\n",
        "    else \"cpu\"\n",
        "  )\n",
        "  transform:torch.nn.Module = PairedRandomCrop(torch.IntTensor([360, 540]))\n",
        "  dataset:list[torch.utils.data.Dataset] = [\n",
        "    LOLDataset(root_dir = os.path.join(\"dataset\", \"LOL-v2\", \"Real_captured\", \"Train\"), sub_dir = [\"Low\", \"Normal\"], prefix = [\"low\", \"normal\"]),\n",
        "    LOLDataset(root_dir = os.path.join(\"dataset\", \"LOL-v2\", \"Real_captured\", \"Test\"), sub_dir = [\"Low\", \"Normal\"], prefix = [\"low\", \"normal\"]),\n",
        "    LOLDataset(root_dir = os.path.join(\"dataset\", \"lol_dataset\", \"our485\"), sub_dir = [\"low\", \"high\"]),\n",
        "    LOLDataset(root_dir = os.path.join(\"dataset\", \"lol_dataset\", \"eval15\"), sub_dir = [\"low\", \"high\"]),\n",
        "  ]\n",
        "  seed_everything(42)\n",
        "  google.colab.drive.mount(\"drive\")\n",
        "  train(dataset[0:2], device)\n",
        "  test(dataset[3], device)\n",
        "  google.colab.drive.flush_and_unmount()"
      ]
    }
  ],
  "metadata": {
    "accelerator": "GPU",
    "colab": {
      "machine_shape": "hm",
      "provenance": [],
      "include_colab_link": true
    },
    "kernelspec": {
      "display_name": "Python 3",
      "name": "python3"
    },
    "language_info": {
      "name": "python"
    }
  },
  "nbformat": 4,
  "nbformat_minor": 0
}