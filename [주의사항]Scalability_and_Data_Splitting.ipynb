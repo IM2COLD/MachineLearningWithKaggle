{
  "nbformat": 4,
  "nbformat_minor": 0,
  "metadata": {
    "colab": {
      "provenance": []
    },
    "kernelspec": {
      "name": "python3",
      "display_name": "Python 3"
    },
    "language_info": {
      "name": "python"
    }
  },
  "cells": [
    {
      "cell_type": "markdown",
      "source": [
        "1. **훈련 세트에 대해 학습 후 변환하고 테스트 세트를 변환**\n",
        "- 이 방법에서는 먼저 train_test_split을 사용하여 데이터를 훈련 및 테스트 세트로 나눕니다. 그런 다음 스케일러를 훈련 세트(X_train)에 맞추고 fit_transform을 사용하여 변환합니다. 그리고 이 학습된 스케일러를 사용하여 훈련 및 테스트 세트 모두를 변환합니다.\n",
        "\n",
        "\n",
        "\n",
        "```python\n",
        "from sklearn.preprocessing import StandardScaler\n",
        "from sklearn.model_selection import train_test_split\n",
        "\n",
        "scaler = StandardScaler()\n",
        "\n",
        "# 데이터를 분할\n",
        "X_train, X_test, y_train, y_test = train_test_split(cancer.data, cancer.target, test_size=0.3, random_state=0)\n",
        "\n",
        "# 훈련 세트에 대해 학습 및 변환\n",
        "X_train_scaled = scaler.fit_transform(X_train)\n",
        "\n",
        "# 학습 세트에서 학습된 스케일러를 사용하여 테스트 세트를 변환\n",
        "X_test_scaled = scaler.transform(X_test)\n",
        "```\n",
        "\n",
        "- 이 방법은 스케일링 매개변수(평균 및 표준 편차)가 훈련 데이터에서만 학습되어 데이터 누수를 방지하고 일관되게 훈련 및 테스트 세트에 적용되도록 보장합니다.\n",
        "\n",
        "2. **전체 데이터에 대해 학습 후 변환하고 분할**\n",
        "\n",
        "- 이 방법에서는 먼저 fit_transform을 사용하여 전체 데이터를 스케일링하고 그 후에 데이터를 훈련 및 테스트 세트로 분할합니다.\n",
        "\n",
        "```python\n",
        "from sklearn.preprocessing import StandardScaler\n",
        "from sklearn.model_selection import train_test_split\n",
        "\n",
        "scaler = StandardScaler()\n",
        "\n",
        "# 전체 데이터 스케일링\n",
        "data_scaled = scaler.fit_transform(cancer.data)\n",
        "\n",
        "# 스케일링된 데이터를 분할\n",
        "X_train, X_test, y_train, y_test = train_test_split(data_scaled, cancer.target, test_size=0.3, random_state=0)\n",
        "```\n",
        "\n",
        "- **이 방법은 스케일링 매개변수가 훈련 및 테스트 데이터에서 모두 학습되므로 테스트 세트에서 정보가 스케일링 매개변수에 누출될 수 있습니다.**\n",
        "\n",
        "> **훈련 세트에 스케일러를 맞추고 테스트 세트를 변환하는 첫 번째 방법이 일반적으로 권장되며, 테스트 세트에서의 정보 누출을 방지하여 모델을 보다 견고하게 평가할 수 있습니다.**"
      ],
      "metadata": {
        "id": "86Osg4x7cGQr"
      }
    }
  ]
}