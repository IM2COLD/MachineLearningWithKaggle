{
  "nbformat": 4,
  "nbformat_minor": 0,
  "metadata": {
    "colab": {
      "provenance": []
    },
    "kernelspec": {
      "name": "python3",
      "display_name": "Python 3"
    },
    "language_info": {
      "name": "python"
    }
  },
  "cells": [
    {
      "cell_type": "markdown",
      "source": [
        "- isnull()은 pandas DataFrame 또는 Series 객체의 각 요소가 결측값인지 여부를 확인하는 데 사용됩니다. 결측값은 주어진 데이터에서 값이 없거나 비어 있는 경우를 나타냅니다."
      ],
      "metadata": {
        "id": "zln7TLb3NucM"
      }
    },
    {
      "cell_type": "code",
      "source": [
        "# 예를 들어, 다음과 같은 DataFrame이 있다고 가정\n",
        "import pandas as pd\n",
        "import numpy as np\n",
        "\n",
        "data = {'A': [1, 2, np.nan, 4],\n",
        "        'B': [np.nan, 6, 7, np.nan],\n",
        "        'C': ['a', 'b', 'c', 'd']}\n",
        "df = pd.DataFrame(data)"
      ],
      "metadata": {
        "id": "J2jTiBQiNx1b"
      },
      "execution_count": 1,
      "outputs": []
    },
    {
      "cell_type": "code",
      "source": [
        "# isnull() 메서드를 사용하여 DataFrame의 각 요소가 결측값인지 여부를 확인 가능\n",
        "print(df.isnull())"
      ],
      "metadata": {
        "colab": {
          "base_uri": "https://localhost:8080/"
        },
        "id": "-Uwe4sSMN4n_",
        "outputId": "aa6e8991-92e8-4212-d3de-093e6c44685c"
      },
      "execution_count": 2,
      "outputs": [
        {
          "output_type": "stream",
          "name": "stdout",
          "text": [
            "       A      B      C\n",
            "0  False   True  False\n",
            "1  False  False  False\n",
            "2   True  False  False\n",
            "3  False   True  False\n"
          ]
        }
      ]
    },
    {
      "cell_type": "markdown",
      "source": [
        "- 여기서 True 값은 해당 위치의 요소가 결측값이라는 것을 나타내며, False 값은 해당 위치의 요소가 결측값이 아니라는 것을 나타냅니다.\n",
        "- **또한, isnull() 메서드의 결과를 sum() 메서드와 함께 사용하여 각 열의 결측값 수를 계산할 수 있습니다:**"
      ],
      "metadata": {
        "id": "LnqjEs0oN98-"
      }
    },
    {
      "cell_type": "code",
      "source": [
        "print(df.isnull().sum())"
      ],
      "metadata": {
        "colab": {
          "base_uri": "https://localhost:8080/"
        },
        "id": "tGdIU1fhOCz2",
        "outputId": "667d6f7e-b48f-4105-a9df-30d62e37cb94"
      },
      "execution_count": 3,
      "outputs": [
        {
          "output_type": "stream",
          "name": "stdout",
          "text": [
            "A    1\n",
            "B    2\n",
            "C    0\n",
            "dtype: int64\n"
          ]
        }
      ]
    }
  ]
}